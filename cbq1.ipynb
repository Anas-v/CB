{
 "cells": [
  {
   "cell_type": "code",
   "execution_count": 17,
   "id": "19524663-f3f9-4469-b3e9-68a7e5f80e4e",
   "metadata": {},
   "outputs": [],
   "source": [
    "import pandas as pd\n",
    "import numpy as np\n",
    "import matplotlib.pyplot as plt\n",
    "import seaborn as sns"
   ]
  },
  {
   "cell_type": "code",
   "execution_count": 18,
   "id": "a2ff04a2-1c71-4f49-9a14-34e93e86eb2f",
   "metadata": {},
   "outputs": [],
   "source": [
    "#fidf = pd.read_csv('C:\\CB\\fix.csv')\n",
    "#eqdf = pd.read_csv('C:\\CB\\equity.csv')"
   ]
  },
  {
   "cell_type": "code",
   "execution_count": 19,
   "id": "46ee2207-7a3d-4e9c-a3a3-057098849145",
   "metadata": {},
   "outputs": [],
   "source": [
    "df = pd.read_csv('C:\\CB\\Asset.csv')"
   ]
  },
  {
   "cell_type": "code",
   "execution_count": 20,
   "id": "9b98172d-ee23-4a5e-b165-d5efb7ba797a",
   "metadata": {},
   "outputs": [
    {
     "data": {
      "text/html": [
       "<div>\n",
       "<style scoped>\n",
       "    .dataframe tbody tr th:only-of-type {\n",
       "        vertical-align: middle;\n",
       "    }\n",
       "\n",
       "    .dataframe tbody tr th {\n",
       "        vertical-align: top;\n",
       "    }\n",
       "\n",
       "    .dataframe thead th {\n",
       "        text-align: right;\n",
       "    }\n",
       "</style>\n",
       "<table border=\"1\" class=\"dataframe\">\n",
       "  <thead>\n",
       "    <tr style=\"text-align: right;\">\n",
       "      <th></th>\n",
       "      <th>Date</th>\n",
       "      <th>FIClosePrice</th>\n",
       "      <th>EQClosePrice</th>\n",
       "      <th>COMClosePrice</th>\n",
       "    </tr>\n",
       "  </thead>\n",
       "  <tbody>\n",
       "    <tr>\n",
       "      <th>0</th>\n",
       "      <td>3-Oct-25</td>\n",
       "      <td>23.09</td>\n",
       "      <td>6715.79</td>\n",
       "      <td>357.64</td>\n",
       "    </tr>\n",
       "    <tr>\n",
       "      <th>1</th>\n",
       "      <td>2-Oct-25</td>\n",
       "      <td>23.12</td>\n",
       "      <td>6715.35</td>\n",
       "      <td>354.79</td>\n",
       "    </tr>\n",
       "    <tr>\n",
       "      <th>2</th>\n",
       "      <td>1-Oct-25</td>\n",
       "      <td>23.10</td>\n",
       "      <td>6711.20</td>\n",
       "      <td>356.03</td>\n",
       "    </tr>\n",
       "    <tr>\n",
       "      <th>3</th>\n",
       "      <td>30-Sep-25</td>\n",
       "      <td>23.06</td>\n",
       "      <td>6688.46</td>\n",
       "      <td>355.47</td>\n",
       "    </tr>\n",
       "    <tr>\n",
       "      <th>4</th>\n",
       "      <td>29-Sep-25</td>\n",
       "      <td>23.06</td>\n",
       "      <td>6661.21</td>\n",
       "      <td>352.46</td>\n",
       "    </tr>\n",
       "  </tbody>\n",
       "</table>\n",
       "</div>"
      ],
      "text/plain": [
       "        Date  FIClosePrice  EQClosePrice  COMClosePrice\n",
       "0   3-Oct-25         23.09       6715.79         357.64\n",
       "1   2-Oct-25         23.12       6715.35         354.79\n",
       "2   1-Oct-25         23.10       6711.20         356.03\n",
       "3  30-Sep-25         23.06       6688.46         355.47\n",
       "4  29-Sep-25         23.06       6661.21         352.46"
      ]
     },
     "execution_count": 20,
     "metadata": {},
     "output_type": "execute_result"
    }
   ],
   "source": [
    "df.head()"
   ]
  },
  {
   "cell_type": "code",
   "execution_count": 21,
   "id": "b65fbd46-07db-41ea-83cb-8ef9ff77ca70",
   "metadata": {},
   "outputs": [
    {
     "data": {
      "text/plain": [
       "Index(['Date', 'FIClosePrice', 'EQClosePrice', 'COMClosePrice'], dtype='object')"
      ]
     },
     "execution_count": 21,
     "metadata": {},
     "output_type": "execute_result"
    }
   ],
   "source": [
    "df.columns"
   ]
  },
  {
   "cell_type": "code",
   "execution_count": 22,
   "id": "20494e69-09ca-4a41-b232-e2ad1b5207a9",
   "metadata": {},
   "outputs": [
    {
     "data": {
      "text/plain": [
       "(1448, 4)"
      ]
     },
     "execution_count": 22,
     "metadata": {},
     "output_type": "execute_result"
    }
   ],
   "source": [
    "df.shape"
   ]
  },
  {
   "cell_type": "code",
   "execution_count": 23,
   "id": "74c2dd52-8034-44b5-bba3-f7226ac88419",
   "metadata": {},
   "outputs": [
    {
     "data": {
      "text/plain": [
       "<bound method DataFrame.info of            Date  FIClosePrice  EQClosePrice  COMClosePrice\n",
       "0      3-Oct-25         23.09       6715.79         357.64\n",
       "1      2-Oct-25         23.12       6715.35         354.79\n",
       "2      1-Oct-25         23.10       6711.20         356.03\n",
       "3     30-Sep-25         23.06       6688.46         355.47\n",
       "4     29-Sep-25         23.06       6661.21         352.46\n",
       "...         ...           ...           ...            ...\n",
       "1443   7-Jan-20         22.80       3237.18         147.97\n",
       "1444   6-Jan-20         22.85       3246.28         147.39\n",
       "1445   3-Jan-20         22.88       3234.85         145.86\n",
       "1446   2-Jan-20         22.76       3257.85         143.95\n",
       "1447  31-Dec-19         22.72       3230.78         142.90\n",
       "\n",
       "[1448 rows x 4 columns]>"
      ]
     },
     "execution_count": 23,
     "metadata": {},
     "output_type": "execute_result"
    }
   ],
   "source": [
    "df.info"
   ]
  },
  {
   "cell_type": "code",
   "execution_count": 24,
   "id": "5b82f297-ba23-4de5-b6d0-f4b53b66f08b",
   "metadata": {},
   "outputs": [
    {
     "data": {
      "text/plain": [
       "Date              object\n",
       "FIClosePrice     float64\n",
       "EQClosePrice     float64\n",
       "COMClosePrice    float64\n",
       "dtype: object"
      ]
     },
     "execution_count": 24,
     "metadata": {},
     "output_type": "execute_result"
    }
   ],
   "source": [
    "df.dtypes"
   ]
  },
  {
   "cell_type": "code",
   "execution_count": 25,
   "id": "3e0966c4-9716-40fe-b942-efa58e5a57ef",
   "metadata": {},
   "outputs": [],
   "source": [
    "#df = df.rename(columns ={'Close Price': 'FIClose_Price', 'Close Price.1': 'EQClose_Price','Close Price.2': 'COMClose_Price'})"
   ]
  },
  {
   "cell_type": "code",
   "execution_count": 26,
   "id": "6c624c0d-22d6-447b-8fbd-f3b722e32f76",
   "metadata": {},
   "outputs": [
    {
     "data": {
      "text/plain": [
       "Index(['Date', 'FIClosePrice', 'EQClosePrice', 'COMClosePrice'], dtype='object')"
      ]
     },
     "execution_count": 26,
     "metadata": {},
     "output_type": "execute_result"
    }
   ],
   "source": [
    "df.columns"
   ]
  },
  {
   "cell_type": "code",
   "execution_count": 27,
   "id": "9cbc1af1-f2b2-42b0-a6b9-59d9abb6ca05",
   "metadata": {},
   "outputs": [
    {
     "data": {
      "text/plain": [
       "Date              object\n",
       "FIClosePrice     float64\n",
       "EQClosePrice     float64\n",
       "COMClosePrice    float64\n",
       "dtype: object"
      ]
     },
     "execution_count": 27,
     "metadata": {},
     "output_type": "execute_result"
    }
   ],
   "source": [
    "df.dtypes"
   ]
  },
  {
   "cell_type": "code",
   "execution_count": 28,
   "id": "4003fd05-7b0d-495c-8600-168fe0f09ecf",
   "metadata": {},
   "outputs": [
    {
     "name": "stderr",
     "output_type": "stream",
     "text": [
      "C:\\Users\\Achu\\AppData\\Local\\Temp\\ipykernel_15980\\2394721818.py:1: UserWarning: Could not infer format, so each element will be parsed individually, falling back to `dateutil`. To ensure parsing is consistent and as-expected, please specify a format.\n",
      "  df['Date'] = pd.to_datetime(df['Date'])\n"
     ]
    }
   ],
   "source": [
    "df['Date'] = pd.to_datetime(df['Date'])"
   ]
  },
  {
   "cell_type": "code",
   "execution_count": 29,
   "id": "7b661247-d1df-432e-a1b4-bf7f5fbf43f6",
   "metadata": {},
   "outputs": [],
   "source": [
    "#df['EQClose_Price'] = pd.to_datetime(df['Date'])\n",
    "#df['EQClose_Price'] = df['EQClose_Price'].astype(float)\n",
    "#df['EQClose_Price'] = pd.to_numeric(df['EQClose_Price'], errors='coerce')\n",
    "#df['EQClose_Price'] = pd.to_numeric(df['EQClose_Price'])"
   ]
  },
  {
   "cell_type": "code",
   "execution_count": null,
   "id": "155b466d-207f-4717-83fd-637328517a29",
   "metadata": {},
   "outputs": [],
   "source": []
  },
  {
   "cell_type": "code",
   "execution_count": 30,
   "id": "cc0ceb92-ecfc-42f2-bc8c-bc9cd2e2680d",
   "metadata": {},
   "outputs": [
    {
     "data": {
      "text/plain": [
       "Date             datetime64[ns]\n",
       "FIClosePrice            float64\n",
       "EQClosePrice            float64\n",
       "COMClosePrice           float64\n",
       "dtype: object"
      ]
     },
     "execution_count": 30,
     "metadata": {},
     "output_type": "execute_result"
    }
   ],
   "source": [
    "df.dtypes"
   ]
  },
  {
   "cell_type": "code",
   "execution_count": 31,
   "id": "84991a46-7ccf-4e85-aecc-8910e90b4a0b",
   "metadata": {},
   "outputs": [
    {
     "data": {
      "text/plain": [
       "<bound method DataFrame.info of            Date  FIClosePrice  EQClosePrice  COMClosePrice\n",
       "0    2025-10-03         23.09       6715.79         357.64\n",
       "1    2025-10-02         23.12       6715.35         354.79\n",
       "2    2025-10-01         23.10       6711.20         356.03\n",
       "3    2025-09-30         23.06       6688.46         355.47\n",
       "4    2025-09-29         23.06       6661.21         352.46\n",
       "...         ...           ...           ...            ...\n",
       "1443 2020-01-07         22.80       3237.18         147.97\n",
       "1444 2020-01-06         22.85       3246.28         147.39\n",
       "1445 2020-01-03         22.88       3234.85         145.86\n",
       "1446 2020-01-02         22.76       3257.85         143.95\n",
       "1447 2019-12-31         22.72       3230.78         142.90\n",
       "\n",
       "[1448 rows x 4 columns]>"
      ]
     },
     "execution_count": 31,
     "metadata": {},
     "output_type": "execute_result"
    }
   ],
   "source": [
    "df.info"
   ]
  },
  {
   "cell_type": "code",
   "execution_count": 32,
   "id": "33a413fd-3710-4c90-a1b8-6a4c4d36282d",
   "metadata": {},
   "outputs": [
    {
     "data": {
      "text/plain": [
       "<bound method NDFrame.describe of            Date  FIClosePrice  EQClosePrice  COMClosePrice\n",
       "0    2025-10-03         23.09       6715.79         357.64\n",
       "1    2025-10-02         23.12       6715.35         354.79\n",
       "2    2025-10-01         23.10       6711.20         356.03\n",
       "3    2025-09-30         23.06       6688.46         355.47\n",
       "4    2025-09-29         23.06       6661.21         352.46\n",
       "...         ...           ...           ...            ...\n",
       "1443 2020-01-07         22.80       3237.18         147.97\n",
       "1444 2020-01-06         22.85       3246.28         147.39\n",
       "1445 2020-01-03         22.88       3234.85         145.86\n",
       "1446 2020-01-02         22.76       3257.85         143.95\n",
       "1447 2019-12-31         22.72       3230.78         142.90\n",
       "\n",
       "[1448 rows x 4 columns]>"
      ]
     },
     "execution_count": 32,
     "metadata": {},
     "output_type": "execute_result"
    }
   ],
   "source": [
    "df.describe"
   ]
  },
  {
   "cell_type": "code",
   "execution_count": 33,
   "id": "4db6af09-2ca9-415d-bd6a-3f05cf316b26",
   "metadata": {},
   "outputs": [
    {
     "data": {
      "text/html": [
       "<div>\n",
       "<style scoped>\n",
       "    .dataframe tbody tr th:only-of-type {\n",
       "        vertical-align: middle;\n",
       "    }\n",
       "\n",
       "    .dataframe tbody tr th {\n",
       "        vertical-align: top;\n",
       "    }\n",
       "\n",
       "    .dataframe thead th {\n",
       "        text-align: right;\n",
       "    }\n",
       "</style>\n",
       "<table border=\"1\" class=\"dataframe\">\n",
       "  <thead>\n",
       "    <tr style=\"text-align: right;\">\n",
       "      <th></th>\n",
       "      <th>Date</th>\n",
       "      <th>FIClosePrice</th>\n",
       "      <th>EQClosePrice</th>\n",
       "      <th>COMClosePrice</th>\n",
       "    </tr>\n",
       "  </thead>\n",
       "  <tbody>\n",
       "    <tr>\n",
       "      <th>0</th>\n",
       "      <td>2025-10-03</td>\n",
       "      <td>23.09</td>\n",
       "      <td>6715.79</td>\n",
       "      <td>357.64</td>\n",
       "    </tr>\n",
       "    <tr>\n",
       "      <th>1</th>\n",
       "      <td>2025-10-02</td>\n",
       "      <td>23.12</td>\n",
       "      <td>6715.35</td>\n",
       "      <td>354.79</td>\n",
       "    </tr>\n",
       "    <tr>\n",
       "      <th>2</th>\n",
       "      <td>2025-10-01</td>\n",
       "      <td>23.10</td>\n",
       "      <td>6711.20</td>\n",
       "      <td>356.03</td>\n",
       "    </tr>\n",
       "    <tr>\n",
       "      <th>3</th>\n",
       "      <td>2025-09-30</td>\n",
       "      <td>23.06</td>\n",
       "      <td>6688.46</td>\n",
       "      <td>355.47</td>\n",
       "    </tr>\n",
       "    <tr>\n",
       "      <th>4</th>\n",
       "      <td>2025-09-29</td>\n",
       "      <td>23.06</td>\n",
       "      <td>6661.21</td>\n",
       "      <td>352.46</td>\n",
       "    </tr>\n",
       "    <tr>\n",
       "      <th>...</th>\n",
       "      <td>...</td>\n",
       "      <td>...</td>\n",
       "      <td>...</td>\n",
       "      <td>...</td>\n",
       "    </tr>\n",
       "    <tr>\n",
       "      <th>1443</th>\n",
       "      <td>2020-01-07</td>\n",
       "      <td>22.80</td>\n",
       "      <td>3237.18</td>\n",
       "      <td>147.97</td>\n",
       "    </tr>\n",
       "    <tr>\n",
       "      <th>1444</th>\n",
       "      <td>2020-01-06</td>\n",
       "      <td>22.85</td>\n",
       "      <td>3246.28</td>\n",
       "      <td>147.39</td>\n",
       "    </tr>\n",
       "    <tr>\n",
       "      <th>1445</th>\n",
       "      <td>2020-01-03</td>\n",
       "      <td>22.88</td>\n",
       "      <td>3234.85</td>\n",
       "      <td>145.86</td>\n",
       "    </tr>\n",
       "    <tr>\n",
       "      <th>1446</th>\n",
       "      <td>2020-01-02</td>\n",
       "      <td>22.76</td>\n",
       "      <td>3257.85</td>\n",
       "      <td>143.95</td>\n",
       "    </tr>\n",
       "    <tr>\n",
       "      <th>1447</th>\n",
       "      <td>2019-12-31</td>\n",
       "      <td>22.72</td>\n",
       "      <td>3230.78</td>\n",
       "      <td>142.90</td>\n",
       "    </tr>\n",
       "  </tbody>\n",
       "</table>\n",
       "<p>1448 rows × 4 columns</p>\n",
       "</div>"
      ],
      "text/plain": [
       "           Date  FIClosePrice  EQClosePrice  COMClosePrice\n",
       "0    2025-10-03         23.09       6715.79         357.64\n",
       "1    2025-10-02         23.12       6715.35         354.79\n",
       "2    2025-10-01         23.10       6711.20         356.03\n",
       "3    2025-09-30         23.06       6688.46         355.47\n",
       "4    2025-09-29         23.06       6661.21         352.46\n",
       "...         ...           ...           ...            ...\n",
       "1443 2020-01-07         22.80       3237.18         147.97\n",
       "1444 2020-01-06         22.85       3246.28         147.39\n",
       "1445 2020-01-03         22.88       3234.85         145.86\n",
       "1446 2020-01-02         22.76       3257.85         143.95\n",
       "1447 2019-12-31         22.72       3230.78         142.90\n",
       "\n",
       "[1448 rows x 4 columns]"
      ]
     },
     "execution_count": 33,
     "metadata": {},
     "output_type": "execute_result"
    }
   ],
   "source": [
    "df"
   ]
  },
  {
   "cell_type": "code",
   "execution_count": 34,
   "id": "9e6eae20-e83e-4c2d-adf2-352fcbff412b",
   "metadata": {},
   "outputs": [
    {
     "data": {
      "text/html": [
       "<div>\n",
       "<style scoped>\n",
       "    .dataframe tbody tr th:only-of-type {\n",
       "        vertical-align: middle;\n",
       "    }\n",
       "\n",
       "    .dataframe tbody tr th {\n",
       "        vertical-align: top;\n",
       "    }\n",
       "\n",
       "    .dataframe thead th {\n",
       "        text-align: right;\n",
       "    }\n",
       "</style>\n",
       "<table border=\"1\" class=\"dataframe\">\n",
       "  <thead>\n",
       "    <tr style=\"text-align: right;\">\n",
       "      <th></th>\n",
       "      <th>Date</th>\n",
       "      <th>FIClosePrice</th>\n",
       "      <th>EQClosePrice</th>\n",
       "      <th>COMClosePrice</th>\n",
       "    </tr>\n",
       "  </thead>\n",
       "  <tbody>\n",
       "    <tr>\n",
       "      <th>0</th>\n",
       "      <td>2025-10-03</td>\n",
       "      <td>23.09</td>\n",
       "      <td>6715.79</td>\n",
       "      <td>357.64</td>\n",
       "    </tr>\n",
       "    <tr>\n",
       "      <th>1</th>\n",
       "      <td>2025-10-02</td>\n",
       "      <td>23.12</td>\n",
       "      <td>6715.35</td>\n",
       "      <td>354.79</td>\n",
       "    </tr>\n",
       "    <tr>\n",
       "      <th>2</th>\n",
       "      <td>2025-10-01</td>\n",
       "      <td>23.10</td>\n",
       "      <td>6711.20</td>\n",
       "      <td>356.03</td>\n",
       "    </tr>\n",
       "    <tr>\n",
       "      <th>3</th>\n",
       "      <td>2025-09-30</td>\n",
       "      <td>23.06</td>\n",
       "      <td>6688.46</td>\n",
       "      <td>355.47</td>\n",
       "    </tr>\n",
       "    <tr>\n",
       "      <th>4</th>\n",
       "      <td>2025-09-29</td>\n",
       "      <td>23.06</td>\n",
       "      <td>6661.21</td>\n",
       "      <td>352.46</td>\n",
       "    </tr>\n",
       "  </tbody>\n",
       "</table>\n",
       "</div>"
      ],
      "text/plain": [
       "        Date  FIClosePrice  EQClosePrice  COMClosePrice\n",
       "0 2025-10-03         23.09       6715.79         357.64\n",
       "1 2025-10-02         23.12       6715.35         354.79\n",
       "2 2025-10-01         23.10       6711.20         356.03\n",
       "3 2025-09-30         23.06       6688.46         355.47\n",
       "4 2025-09-29         23.06       6661.21         352.46"
      ]
     },
     "execution_count": 34,
     "metadata": {},
     "output_type": "execute_result"
    }
   ],
   "source": [
    "df.head()"
   ]
  },
  {
   "cell_type": "code",
   "execution_count": 35,
   "id": "e9e37224-84ae-48fb-b848-8e5c2214b8b5",
   "metadata": {},
   "outputs": [
    {
     "name": "stdout",
     "output_type": "stream",
     "text": [
      "<class 'pandas.core.frame.DataFrame'>\n",
      "RangeIndex: 1448 entries, 0 to 1447\n",
      "Data columns (total 4 columns):\n",
      " #   Column         Non-Null Count  Dtype         \n",
      "---  ------         --------------  -----         \n",
      " 0   Date           1448 non-null   datetime64[ns]\n",
      " 1   FIClosePrice   1448 non-null   float64       \n",
      " 2   EQClosePrice   1448 non-null   float64       \n",
      " 3   COMClosePrice  1448 non-null   float64       \n",
      "dtypes: datetime64[ns](1), float64(3)\n",
      "memory usage: 45.4 KB\n"
     ]
    }
   ],
   "source": [
    "df.info()"
   ]
  },
  {
   "cell_type": "code",
   "execution_count": 36,
   "id": "3316c376-1e70-47bb-bec1-34043527830b",
   "metadata": {},
   "outputs": [],
   "source": [
    "#asst_df = asst_df.isnl()"
   ]
  },
  {
   "cell_type": "code",
   "execution_count": 37,
   "id": "4ac2091c-c7c4-42f6-8bae-22e4c94b1739",
   "metadata": {},
   "outputs": [
    {
     "data": {
      "text/plain": [
       "Date             0\n",
       "FIClosePrice     0\n",
       "EQClosePrice     0\n",
       "COMClosePrice    0\n",
       "dtype: int64"
      ]
     },
     "execution_count": 37,
     "metadata": {},
     "output_type": "execute_result"
    }
   ],
   "source": [
    "df.isnull().sum()"
   ]
  },
  {
   "cell_type": "code",
   "execution_count": 38,
   "id": "568c22b8-2796-4ed5-b958-80d54e31417b",
   "metadata": {},
   "outputs": [
    {
     "data": {
      "text/plain": [
       "False"
      ]
     },
     "execution_count": 38,
     "metadata": {},
     "output_type": "execute_result"
    }
   ],
   "source": [
    "df.isnull().values.any()"
   ]
  },
  {
   "cell_type": "code",
   "execution_count": 39,
   "id": "119daaaf-7b21-49b1-a5a8-caa5395092e6",
   "metadata": {},
   "outputs": [
    {
     "name": "stdout",
     "output_type": "stream",
     "text": [
      "           Date  FIClosePrice  EQClosePrice  COMClosePrice\n",
      "0    2025-10-03         23.09       6715.79         357.64\n",
      "1    2025-10-02         23.12       6715.35         354.79\n",
      "2    2025-10-01         23.10       6711.20         356.03\n",
      "3    2025-09-30         23.06       6688.46         355.47\n",
      "4    2025-09-29         23.06       6661.21         352.46\n",
      "...         ...           ...           ...            ...\n",
      "1443 2020-01-07         22.80       3237.18         147.97\n",
      "1444 2020-01-06         22.85       3246.28         147.39\n",
      "1445 2020-01-03         22.88       3234.85         145.86\n",
      "1446 2020-01-02         22.76       3257.85         143.95\n",
      "1447 2019-12-31         22.72       3230.78         142.90\n",
      "\n",
      "[1448 rows x 4 columns]\n"
     ]
    }
   ],
   "source": [
    "print(df)"
   ]
  },
  {
   "cell_type": "code",
   "execution_count": 40,
   "id": "00661188-ca7a-44e9-a1c0-02c2cbe4f87f",
   "metadata": {},
   "outputs": [
    {
     "data": {
      "text/html": [
       "<div>\n",
       "<style scoped>\n",
       "    .dataframe tbody tr th:only-of-type {\n",
       "        vertical-align: middle;\n",
       "    }\n",
       "\n",
       "    .dataframe tbody tr th {\n",
       "        vertical-align: top;\n",
       "    }\n",
       "\n",
       "    .dataframe thead th {\n",
       "        text-align: right;\n",
       "    }\n",
       "</style>\n",
       "<table border=\"1\" class=\"dataframe\">\n",
       "  <thead>\n",
       "    <tr style=\"text-align: right;\">\n",
       "      <th></th>\n",
       "      <th>Date</th>\n",
       "      <th>FIClosePrice</th>\n",
       "      <th>EQClosePrice</th>\n",
       "      <th>COMClosePrice</th>\n",
       "    </tr>\n",
       "  </thead>\n",
       "  <tbody>\n",
       "  </tbody>\n",
       "</table>\n",
       "</div>"
      ],
      "text/plain": [
       "Empty DataFrame\n",
       "Columns: [Date, FIClosePrice, EQClosePrice, COMClosePrice]\n",
       "Index: []"
      ]
     },
     "execution_count": 40,
     "metadata": {},
     "output_type": "execute_result"
    }
   ],
   "source": [
    "df.loc[df.duplicated()]"
   ]
  },
  {
   "cell_type": "code",
   "execution_count": 41,
   "id": "337d3113-2a1f-4c00-8151-82442ee0fee0",
   "metadata": {},
   "outputs": [],
   "source": [
    "df = df.sort_values(by='Date')"
   ]
  },
  {
   "cell_type": "code",
   "execution_count": 42,
   "id": "f42abaac-166e-46df-8f73-9b8106177100",
   "metadata": {},
   "outputs": [],
   "source": [
    "df = df.reset_index(drop=True)"
   ]
  },
  {
   "cell_type": "code",
   "execution_count": 43,
   "id": "bb5eee1d-cb47-4b11-94c3-7d22705062bb",
   "metadata": {},
   "outputs": [
    {
     "data": {
      "text/html": [
       "<div>\n",
       "<style scoped>\n",
       "    .dataframe tbody tr th:only-of-type {\n",
       "        vertical-align: middle;\n",
       "    }\n",
       "\n",
       "    .dataframe tbody tr th {\n",
       "        vertical-align: top;\n",
       "    }\n",
       "\n",
       "    .dataframe thead th {\n",
       "        text-align: right;\n",
       "    }\n",
       "</style>\n",
       "<table border=\"1\" class=\"dataframe\">\n",
       "  <thead>\n",
       "    <tr style=\"text-align: right;\">\n",
       "      <th></th>\n",
       "      <th>Date</th>\n",
       "      <th>FIClosePrice</th>\n",
       "      <th>EQClosePrice</th>\n",
       "      <th>COMClosePrice</th>\n",
       "    </tr>\n",
       "  </thead>\n",
       "  <tbody>\n",
       "    <tr>\n",
       "      <th>0</th>\n",
       "      <td>2019-12-31</td>\n",
       "      <td>22.72</td>\n",
       "      <td>3230.78</td>\n",
       "      <td>142.90</td>\n",
       "    </tr>\n",
       "    <tr>\n",
       "      <th>1</th>\n",
       "      <td>2020-01-02</td>\n",
       "      <td>22.76</td>\n",
       "      <td>3257.85</td>\n",
       "      <td>143.95</td>\n",
       "    </tr>\n",
       "    <tr>\n",
       "      <th>2</th>\n",
       "      <td>2020-01-03</td>\n",
       "      <td>22.88</td>\n",
       "      <td>3234.85</td>\n",
       "      <td>145.86</td>\n",
       "    </tr>\n",
       "    <tr>\n",
       "      <th>3</th>\n",
       "      <td>2020-01-06</td>\n",
       "      <td>22.85</td>\n",
       "      <td>3246.28</td>\n",
       "      <td>147.39</td>\n",
       "    </tr>\n",
       "    <tr>\n",
       "      <th>4</th>\n",
       "      <td>2020-01-07</td>\n",
       "      <td>22.80</td>\n",
       "      <td>3237.18</td>\n",
       "      <td>147.97</td>\n",
       "    </tr>\n",
       "  </tbody>\n",
       "</table>\n",
       "</div>"
      ],
      "text/plain": [
       "        Date  FIClosePrice  EQClosePrice  COMClosePrice\n",
       "0 2019-12-31         22.72       3230.78         142.90\n",
       "1 2020-01-02         22.76       3257.85         143.95\n",
       "2 2020-01-03         22.88       3234.85         145.86\n",
       "3 2020-01-06         22.85       3246.28         147.39\n",
       "4 2020-01-07         22.80       3237.18         147.97"
      ]
     },
     "execution_count": 43,
     "metadata": {},
     "output_type": "execute_result"
    }
   ],
   "source": [
    "df.head()"
   ]
  },
  {
   "cell_type": "code",
   "execution_count": 44,
   "id": "3765f777-630e-400b-91cb-ef64e32b4f4b",
   "metadata": {},
   "outputs": [
    {
     "data": {
      "text/plain": [
       "(1448, 4)"
      ]
     },
     "execution_count": 44,
     "metadata": {},
     "output_type": "execute_result"
    }
   ],
   "source": [
    "df.shape"
   ]
  },
  {
   "cell_type": "code",
   "execution_count": 45,
   "id": "5ee8b8f1-b993-4124-ae6b-a709ce9ff16e",
   "metadata": {},
   "outputs": [
    {
     "data": {
      "text/html": [
       "<div>\n",
       "<style scoped>\n",
       "    .dataframe tbody tr th:only-of-type {\n",
       "        vertical-align: middle;\n",
       "    }\n",
       "\n",
       "    .dataframe tbody tr th {\n",
       "        vertical-align: top;\n",
       "    }\n",
       "\n",
       "    .dataframe thead th {\n",
       "        text-align: right;\n",
       "    }\n",
       "</style>\n",
       "<table border=\"1\" class=\"dataframe\">\n",
       "  <thead>\n",
       "    <tr style=\"text-align: right;\">\n",
       "      <th></th>\n",
       "      <th>Date</th>\n",
       "      <th>FIClosePrice</th>\n",
       "      <th>EQClosePrice</th>\n",
       "      <th>COMClosePrice</th>\n",
       "    </tr>\n",
       "  </thead>\n",
       "  <tbody>\n",
       "    <tr>\n",
       "      <th>count</th>\n",
       "      <td>1448</td>\n",
       "      <td>1448.000000</td>\n",
       "      <td>1448.000000</td>\n",
       "      <td>1448.000000</td>\n",
       "    </tr>\n",
       "    <tr>\n",
       "      <th>mean</th>\n",
       "      <td>2022-11-15 14:03:18.895027712</td>\n",
       "      <td>22.598460</td>\n",
       "      <td>4490.615152</td>\n",
       "      <td>195.993895</td>\n",
       "    </tr>\n",
       "    <tr>\n",
       "      <th>min</th>\n",
       "      <td>2019-12-31 00:00:00</td>\n",
       "      <td>20.230000</td>\n",
       "      <td>2237.400000</td>\n",
       "      <td>138.040000</td>\n",
       "    </tr>\n",
       "    <tr>\n",
       "      <th>25%</th>\n",
       "      <td>2021-06-08 18:00:00</td>\n",
       "      <td>21.477500</td>\n",
       "      <td>3892.050000</td>\n",
       "      <td>167.267500</td>\n",
       "    </tr>\n",
       "    <tr>\n",
       "      <th>50%</th>\n",
       "      <td>2022-11-12 12:00:00</td>\n",
       "      <td>22.380000</td>\n",
       "      <td>4357.385000</td>\n",
       "      <td>177.990000</td>\n",
       "    </tr>\n",
       "    <tr>\n",
       "      <th>75%</th>\n",
       "      <td>2024-04-24 06:00:00</td>\n",
       "      <td>23.820000</td>\n",
       "      <td>5187.677500</td>\n",
       "      <td>214.660000</td>\n",
       "    </tr>\n",
       "    <tr>\n",
       "      <th>max</th>\n",
       "      <td>2025-10-03 00:00:00</td>\n",
       "      <td>25.000000</td>\n",
       "      <td>6715.790000</td>\n",
       "      <td>357.640000</td>\n",
       "    </tr>\n",
       "    <tr>\n",
       "      <th>std</th>\n",
       "      <td>NaN</td>\n",
       "      <td>1.302059</td>\n",
       "      <td>943.030940</td>\n",
       "      <td>46.041417</td>\n",
       "    </tr>\n",
       "  </tbody>\n",
       "</table>\n",
       "</div>"
      ],
      "text/plain": [
       "                                Date  FIClosePrice  EQClosePrice  \\\n",
       "count                           1448   1448.000000   1448.000000   \n",
       "mean   2022-11-15 14:03:18.895027712     22.598460   4490.615152   \n",
       "min              2019-12-31 00:00:00     20.230000   2237.400000   \n",
       "25%              2021-06-08 18:00:00     21.477500   3892.050000   \n",
       "50%              2022-11-12 12:00:00     22.380000   4357.385000   \n",
       "75%              2024-04-24 06:00:00     23.820000   5187.677500   \n",
       "max              2025-10-03 00:00:00     25.000000   6715.790000   \n",
       "std                              NaN      1.302059    943.030940   \n",
       "\n",
       "       COMClosePrice  \n",
       "count    1448.000000  \n",
       "mean      195.993895  \n",
       "min       138.040000  \n",
       "25%       167.267500  \n",
       "50%       177.990000  \n",
       "75%       214.660000  \n",
       "max       357.640000  \n",
       "std        46.041417  "
      ]
     },
     "execution_count": 45,
     "metadata": {},
     "output_type": "execute_result"
    }
   ],
   "source": [
    "df.describe()"
   ]
  },
  {
   "cell_type": "code",
   "execution_count": 46,
   "id": "d6394e34-4467-4e13-80b7-da2ce4996cc1",
   "metadata": {},
   "outputs": [],
   "source": [
    "#adj_prices = fidf['Close Price']"
   ]
  },
  {
   "cell_type": "code",
   "execution_count": 47,
   "id": "b4991947-ca58-410e-896e-5ec63f684bbf",
   "metadata": {},
   "outputs": [],
   "source": [
    "#print(adj_prices)"
   ]
  },
  {
   "cell_type": "code",
   "execution_count": 48,
   "id": "a8118db1-8d63-4271-8e82-83999d176317",
   "metadata": {},
   "outputs": [],
   "source": [
    "#adj_prices.isna"
   ]
  },
  {
   "cell_type": "code",
   "execution_count": null,
   "id": "6add6945-9106-46de-ac00-53d67d589eb8",
   "metadata": {},
   "outputs": [],
   "source": []
  },
  {
   "cell_type": "code",
   "execution_count": 49,
   "id": "fbd0dfef-e88b-445e-aef3-aecf95878458",
   "metadata": {},
   "outputs": [],
   "source": [
    "#daily_returns = adj_prices.pct_change()#.dropna()"
   ]
  },
  {
   "cell_type": "code",
   "execution_count": 50,
   "id": "7c4b9b8f-a2c0-4cbf-ad53-dd772c3d9458",
   "metadata": {},
   "outputs": [],
   "source": [
    "df['FIDaily_Return'] = df['FIClosePrice'].pct_change()"
   ]
  },
  {
   "cell_type": "code",
   "execution_count": 51,
   "id": "fc684424-bd7c-462e-97d2-7aae16fb0f4b",
   "metadata": {},
   "outputs": [],
   "source": [
    "#fidf['Percentage_Daily_Return'] = fidf['Close Price'].pct_change() * 100"
   ]
  },
  {
   "cell_type": "code",
   "execution_count": 52,
   "id": "65f4048a-81e6-4947-ae51-e98e5bf536ce",
   "metadata": {},
   "outputs": [],
   "source": [
    "df['EQDaily_Return'] = df['EQClosePrice'].pct_change()"
   ]
  },
  {
   "cell_type": "code",
   "execution_count": 53,
   "id": "f0abf1a0-1b5b-419a-9df2-1eb157b580a6",
   "metadata": {},
   "outputs": [],
   "source": [
    "df['COMDaily_Return'] = df['COMClosePrice'].pct_change()"
   ]
  },
  {
   "cell_type": "code",
   "execution_count": 54,
   "id": "adab1f59-a878-42d7-b462-a4e2ec2926a7",
   "metadata": {},
   "outputs": [
    {
     "data": {
      "text/html": [
       "<div>\n",
       "<style scoped>\n",
       "    .dataframe tbody tr th:only-of-type {\n",
       "        vertical-align: middle;\n",
       "    }\n",
       "\n",
       "    .dataframe tbody tr th {\n",
       "        vertical-align: top;\n",
       "    }\n",
       "\n",
       "    .dataframe thead th {\n",
       "        text-align: right;\n",
       "    }\n",
       "</style>\n",
       "<table border=\"1\" class=\"dataframe\">\n",
       "  <thead>\n",
       "    <tr style=\"text-align: right;\">\n",
       "      <th></th>\n",
       "      <th>Date</th>\n",
       "      <th>FIClosePrice</th>\n",
       "      <th>EQClosePrice</th>\n",
       "      <th>COMClosePrice</th>\n",
       "      <th>FIDaily_Return</th>\n",
       "      <th>EQDaily_Return</th>\n",
       "      <th>COMDaily_Return</th>\n",
       "    </tr>\n",
       "  </thead>\n",
       "  <tbody>\n",
       "    <tr>\n",
       "      <th>0</th>\n",
       "      <td>2019-12-31</td>\n",
       "      <td>22.72</td>\n",
       "      <td>3230.78</td>\n",
       "      <td>142.90</td>\n",
       "      <td>NaN</td>\n",
       "      <td>NaN</td>\n",
       "      <td>NaN</td>\n",
       "    </tr>\n",
       "    <tr>\n",
       "      <th>1</th>\n",
       "      <td>2020-01-02</td>\n",
       "      <td>22.76</td>\n",
       "      <td>3257.85</td>\n",
       "      <td>143.95</td>\n",
       "      <td>0.001761</td>\n",
       "      <td>0.008379</td>\n",
       "      <td>0.007348</td>\n",
       "    </tr>\n",
       "    <tr>\n",
       "      <th>2</th>\n",
       "      <td>2020-01-03</td>\n",
       "      <td>22.88</td>\n",
       "      <td>3234.85</td>\n",
       "      <td>145.86</td>\n",
       "      <td>0.005272</td>\n",
       "      <td>-0.007060</td>\n",
       "      <td>0.013268</td>\n",
       "    </tr>\n",
       "    <tr>\n",
       "      <th>3</th>\n",
       "      <td>2020-01-06</td>\n",
       "      <td>22.85</td>\n",
       "      <td>3246.28</td>\n",
       "      <td>147.39</td>\n",
       "      <td>-0.001311</td>\n",
       "      <td>0.003533</td>\n",
       "      <td>0.010490</td>\n",
       "    </tr>\n",
       "    <tr>\n",
       "      <th>4</th>\n",
       "      <td>2020-01-07</td>\n",
       "      <td>22.80</td>\n",
       "      <td>3237.18</td>\n",
       "      <td>147.97</td>\n",
       "      <td>-0.002188</td>\n",
       "      <td>-0.002803</td>\n",
       "      <td>0.003935</td>\n",
       "    </tr>\n",
       "  </tbody>\n",
       "</table>\n",
       "</div>"
      ],
      "text/plain": [
       "        Date  FIClosePrice  EQClosePrice  COMClosePrice  FIDaily_Return  \\\n",
       "0 2019-12-31         22.72       3230.78         142.90             NaN   \n",
       "1 2020-01-02         22.76       3257.85         143.95        0.001761   \n",
       "2 2020-01-03         22.88       3234.85         145.86        0.005272   \n",
       "3 2020-01-06         22.85       3246.28         147.39       -0.001311   \n",
       "4 2020-01-07         22.80       3237.18         147.97       -0.002188   \n",
       "\n",
       "   EQDaily_Return  COMDaily_Return  \n",
       "0             NaN              NaN  \n",
       "1        0.008379         0.007348  \n",
       "2       -0.007060         0.013268  \n",
       "3        0.003533         0.010490  \n",
       "4       -0.002803         0.003935  "
      ]
     },
     "execution_count": 54,
     "metadata": {},
     "output_type": "execute_result"
    }
   ],
   "source": [
    "df.head()"
   ]
  },
  {
   "cell_type": "code",
   "execution_count": 55,
   "id": "95143eeb-07c5-4d27-9f98-5ac6a7389043",
   "metadata": {},
   "outputs": [],
   "source": [
    "reordered=['Date', 'FIClosePrice', 'FIDaily_Return', 'EQClosePrice', 'EQDaily_Return', 'COMClosePrice', 'COMDaily_Return']"
   ]
  },
  {
   "cell_type": "code",
   "execution_count": 56,
   "id": "52a0028b-5048-4cb3-8f23-d45f1c838c94",
   "metadata": {},
   "outputs": [],
   "source": [
    "#df_ordered = df['Date', 'FIClosePrice', 'FIDaily_Return', 'EQClosePrice', 'EQDaily_Return', 'COMClosePrice', 'COMDaily_Return']"
   ]
  },
  {
   "cell_type": "code",
   "execution_count": 57,
   "id": "ef18a297-fe0e-4ffe-9e51-c8cbebc9cffc",
   "metadata": {},
   "outputs": [
    {
     "data": {
      "text/plain": [
       "['Date',\n",
       " 'FIClosePrice',\n",
       " 'FIDaily_Return',\n",
       " 'EQClosePrice',\n",
       " 'EQDaily_Return',\n",
       " 'COMClosePrice',\n",
       " 'COMDaily_Return']"
      ]
     },
     "execution_count": 57,
     "metadata": {},
     "output_type": "execute_result"
    }
   ],
   "source": [
    "reordered"
   ]
  },
  {
   "cell_type": "code",
   "execution_count": 58,
   "id": "e233b458-0ab5-4f85-a3d5-5922c6982788",
   "metadata": {},
   "outputs": [],
   "source": [
    "df_ordered = df[reordered]"
   ]
  },
  {
   "cell_type": "code",
   "execution_count": 59,
   "id": "af77e151-3511-4f0c-902f-0d6ad8be39b5",
   "metadata": {},
   "outputs": [
    {
     "data": {
      "text/html": [
       "<div>\n",
       "<style scoped>\n",
       "    .dataframe tbody tr th:only-of-type {\n",
       "        vertical-align: middle;\n",
       "    }\n",
       "\n",
       "    .dataframe tbody tr th {\n",
       "        vertical-align: top;\n",
       "    }\n",
       "\n",
       "    .dataframe thead th {\n",
       "        text-align: right;\n",
       "    }\n",
       "</style>\n",
       "<table border=\"1\" class=\"dataframe\">\n",
       "  <thead>\n",
       "    <tr style=\"text-align: right;\">\n",
       "      <th></th>\n",
       "      <th>Date</th>\n",
       "      <th>FIClosePrice</th>\n",
       "      <th>FIDaily_Return</th>\n",
       "      <th>EQClosePrice</th>\n",
       "      <th>EQDaily_Return</th>\n",
       "      <th>COMClosePrice</th>\n",
       "      <th>COMDaily_Return</th>\n",
       "    </tr>\n",
       "  </thead>\n",
       "  <tbody>\n",
       "    <tr>\n",
       "      <th>0</th>\n",
       "      <td>2019-12-31</td>\n",
       "      <td>22.72</td>\n",
       "      <td>NaN</td>\n",
       "      <td>3230.78</td>\n",
       "      <td>NaN</td>\n",
       "      <td>142.90</td>\n",
       "      <td>NaN</td>\n",
       "    </tr>\n",
       "    <tr>\n",
       "      <th>1</th>\n",
       "      <td>2020-01-02</td>\n",
       "      <td>22.76</td>\n",
       "      <td>0.001761</td>\n",
       "      <td>3257.85</td>\n",
       "      <td>0.008379</td>\n",
       "      <td>143.95</td>\n",
       "      <td>0.007348</td>\n",
       "    </tr>\n",
       "    <tr>\n",
       "      <th>2</th>\n",
       "      <td>2020-01-03</td>\n",
       "      <td>22.88</td>\n",
       "      <td>0.005272</td>\n",
       "      <td>3234.85</td>\n",
       "      <td>-0.007060</td>\n",
       "      <td>145.86</td>\n",
       "      <td>0.013268</td>\n",
       "    </tr>\n",
       "    <tr>\n",
       "      <th>3</th>\n",
       "      <td>2020-01-06</td>\n",
       "      <td>22.85</td>\n",
       "      <td>-0.001311</td>\n",
       "      <td>3246.28</td>\n",
       "      <td>0.003533</td>\n",
       "      <td>147.39</td>\n",
       "      <td>0.010490</td>\n",
       "    </tr>\n",
       "    <tr>\n",
       "      <th>4</th>\n",
       "      <td>2020-01-07</td>\n",
       "      <td>22.80</td>\n",
       "      <td>-0.002188</td>\n",
       "      <td>3237.18</td>\n",
       "      <td>-0.002803</td>\n",
       "      <td>147.97</td>\n",
       "      <td>0.003935</td>\n",
       "    </tr>\n",
       "  </tbody>\n",
       "</table>\n",
       "</div>"
      ],
      "text/plain": [
       "        Date  FIClosePrice  FIDaily_Return  EQClosePrice  EQDaily_Return  \\\n",
       "0 2019-12-31         22.72             NaN       3230.78             NaN   \n",
       "1 2020-01-02         22.76        0.001761       3257.85        0.008379   \n",
       "2 2020-01-03         22.88        0.005272       3234.85       -0.007060   \n",
       "3 2020-01-06         22.85       -0.001311       3246.28        0.003533   \n",
       "4 2020-01-07         22.80       -0.002188       3237.18       -0.002803   \n",
       "\n",
       "   COMClosePrice  COMDaily_Return  \n",
       "0         142.90              NaN  \n",
       "1         143.95         0.007348  \n",
       "2         145.86         0.013268  \n",
       "3         147.39         0.010490  \n",
       "4         147.97         0.003935  "
      ]
     },
     "execution_count": 59,
     "metadata": {},
     "output_type": "execute_result"
    }
   ],
   "source": [
    "df_ordered.head()"
   ]
  },
  {
   "cell_type": "code",
   "execution_count": 60,
   "id": "280b62a4-5ea8-4299-8a40-6c300bbacf43",
   "metadata": {},
   "outputs": [],
   "source": [
    "#percentage_change = adj_prices.pct_change() * 100"
   ]
  },
  {
   "cell_type": "code",
   "execution_count": 61,
   "id": "96e6db28-fa94-4371-a70c-46506276370d",
   "metadata": {},
   "outputs": [],
   "source": [
    "#print(percentage_change)"
   ]
  },
  {
   "cell_type": "code",
   "execution_count": 62,
   "id": "30abb146-c83f-4295-84d0-0a8fa42c167d",
   "metadata": {},
   "outputs": [],
   "source": [
    "#print(adj_prices)"
   ]
  },
  {
   "cell_type": "code",
   "execution_count": 63,
   "id": "b4f92160-004e-4964-ae4c-15e3609df560",
   "metadata": {},
   "outputs": [],
   "source": [
    "# print(stocks_price)\n",
    "# stocks_price.info()\n",
    "# stocks_price.describe()\n",
    "# stocks_price.head()"
   ]
  },
  {
   "cell_type": "code",
   "execution_count": 64,
   "id": "600ead02-4893-4426-a08c-35b2446dec24",
   "metadata": {},
   "outputs": [
    {
     "data": {
      "text/plain": [
       "Date               0\n",
       "FIClosePrice       0\n",
       "EQClosePrice       0\n",
       "COMClosePrice      0\n",
       "FIDaily_Return     1\n",
       "EQDaily_Return     1\n",
       "COMDaily_Return    1\n",
       "dtype: int64"
      ]
     },
     "execution_count": 64,
     "metadata": {},
     "output_type": "execute_result"
    }
   ],
   "source": [
    "#nfidf=fidf.closepct_change() \n",
    "df.isna().sum()"
   ]
  },
  {
   "cell_type": "code",
   "execution_count": null,
   "id": "07819be1-4ee4-4bc8-99f7-bafcc80892a4",
   "metadata": {},
   "outputs": [],
   "source": []
  },
  {
   "cell_type": "code",
   "execution_count": 65,
   "id": "d2ea02f9-18b8-499c-a4c8-2af80be97c0d",
   "metadata": {},
   "outputs": [],
   "source": [
    "dfreturn = df[['Date', 'FIDaily_Return', 'EQDaily_Return', 'COMDaily_Return']].copy()"
   ]
  },
  {
   "cell_type": "code",
   "execution_count": 66,
   "id": "a0d0132b-fdd1-4581-933a-1384a28a9529",
   "metadata": {},
   "outputs": [
    {
     "data": {
      "text/html": [
       "<div>\n",
       "<style scoped>\n",
       "    .dataframe tbody tr th:only-of-type {\n",
       "        vertical-align: middle;\n",
       "    }\n",
       "\n",
       "    .dataframe tbody tr th {\n",
       "        vertical-align: top;\n",
       "    }\n",
       "\n",
       "    .dataframe thead th {\n",
       "        text-align: right;\n",
       "    }\n",
       "</style>\n",
       "<table border=\"1\" class=\"dataframe\">\n",
       "  <thead>\n",
       "    <tr style=\"text-align: right;\">\n",
       "      <th></th>\n",
       "      <th>Date</th>\n",
       "      <th>FIDaily_Return</th>\n",
       "      <th>EQDaily_Return</th>\n",
       "      <th>COMDaily_Return</th>\n",
       "    </tr>\n",
       "  </thead>\n",
       "  <tbody>\n",
       "    <tr>\n",
       "      <th>0</th>\n",
       "      <td>2019-12-31</td>\n",
       "      <td>NaN</td>\n",
       "      <td>NaN</td>\n",
       "      <td>NaN</td>\n",
       "    </tr>\n",
       "    <tr>\n",
       "      <th>1</th>\n",
       "      <td>2020-01-02</td>\n",
       "      <td>0.001761</td>\n",
       "      <td>0.008379</td>\n",
       "      <td>0.007348</td>\n",
       "    </tr>\n",
       "    <tr>\n",
       "      <th>2</th>\n",
       "      <td>2020-01-03</td>\n",
       "      <td>0.005272</td>\n",
       "      <td>-0.007060</td>\n",
       "      <td>0.013268</td>\n",
       "    </tr>\n",
       "    <tr>\n",
       "      <th>3</th>\n",
       "      <td>2020-01-06</td>\n",
       "      <td>-0.001311</td>\n",
       "      <td>0.003533</td>\n",
       "      <td>0.010490</td>\n",
       "    </tr>\n",
       "    <tr>\n",
       "      <th>4</th>\n",
       "      <td>2020-01-07</td>\n",
       "      <td>-0.002188</td>\n",
       "      <td>-0.002803</td>\n",
       "      <td>0.003935</td>\n",
       "    </tr>\n",
       "  </tbody>\n",
       "</table>\n",
       "</div>"
      ],
      "text/plain": [
       "        Date  FIDaily_Return  EQDaily_Return  COMDaily_Return\n",
       "0 2019-12-31             NaN             NaN              NaN\n",
       "1 2020-01-02        0.001761        0.008379         0.007348\n",
       "2 2020-01-03        0.005272       -0.007060         0.013268\n",
       "3 2020-01-06       -0.001311        0.003533         0.010490\n",
       "4 2020-01-07       -0.002188       -0.002803         0.003935"
      ]
     },
     "execution_count": 66,
     "metadata": {},
     "output_type": "execute_result"
    }
   ],
   "source": [
    "dfreturn.head()"
   ]
  },
  {
   "cell_type": "code",
   "execution_count": 67,
   "id": "4262fa8a-7625-4788-bcb0-7a41d2bc8244",
   "metadata": {},
   "outputs": [],
   "source": [
    "dfreturn['PortfReturn'] = dfreturn[['FIDaily_Return', 'EQDaily_Return', 'COMDaily_Return']].mean(axis=1)"
   ]
  },
  {
   "cell_type": "code",
   "execution_count": 68,
   "id": "ce824be4-82c3-49e4-83fa-134d9244b7a2",
   "metadata": {},
   "outputs": [],
   "source": [
    "#dfreturn1 = dfreturn.mean(axis=1)"
   ]
  },
  {
   "cell_type": "code",
   "execution_count": 69,
   "id": "f4ca6cee-8e04-40e4-82c5-423dd7530029",
   "metadata": {},
   "outputs": [
    {
     "name": "stdout",
     "output_type": "stream",
     "text": [
      "           Date  FIDaily_Return  EQDaily_Return  COMDaily_Return  PortfReturn\n",
      "0    2019-12-31             NaN             NaN              NaN          NaN\n",
      "1    2020-01-02        0.001761        0.008379         0.007348     0.005829\n",
      "2    2020-01-03        0.005272       -0.007060         0.013268     0.003827\n",
      "3    2020-01-06       -0.001311        0.003533         0.010490     0.004237\n",
      "4    2020-01-07       -0.002188       -0.002803         0.003935    -0.000352\n",
      "...         ...             ...             ...              ...          ...\n",
      "1443 2025-09-29        0.002173        0.002636         0.016497     0.007102\n",
      "1444 2025-09-30        0.000000        0.004091         0.008540     0.004210\n",
      "1445 2025-10-01        0.001735        0.003400         0.001575     0.002237\n",
      "1446 2025-10-02        0.000866        0.000618        -0.003483    -0.000666\n",
      "1447 2025-10-03       -0.001298        0.000066         0.008033     0.002267\n",
      "\n",
      "[1448 rows x 5 columns]\n"
     ]
    }
   ],
   "source": [
    "print(dfreturn)"
   ]
  },
  {
   "cell_type": "code",
   "execution_count": 70,
   "id": "e7fdaea7-c93c-485f-84f8-4a8560da3fca",
   "metadata": {},
   "outputs": [],
   "source": [
    "dfreturn.to_excel('C:\\CB\\Asset_py1.xlsx', index=False)"
   ]
  },
  {
   "cell_type": "code",
   "execution_count": 71,
   "id": "8cd631ff-9e5f-4ada-b1fc-4cc23f290dab",
   "metadata": {},
   "outputs": [],
   "source": [
    "stdDaily = dfreturn['PortfReturn'].std()"
   ]
  },
  {
   "cell_type": "code",
   "execution_count": 72,
   "id": "2612744b-5a30-4f58-9aca-0184edeb5622",
   "metadata": {},
   "outputs": [
    {
     "name": "stdout",
     "output_type": "stream",
     "text": [
      "0.006152137411082261\n"
     ]
    }
   ],
   "source": [
    "print(stdDaily)"
   ]
  },
  {
   "cell_type": "code",
   "execution_count": 73,
   "id": "72310e92-913b-4ca3-b0d6-96cca4caa8a6",
   "metadata": {},
   "outputs": [],
   "source": [
    "AnnualizedStd = stdDaily * np.sqrt(252)"
   ]
  },
  {
   "cell_type": "code",
   "execution_count": 74,
   "id": "2a6589b1-6601-45b5-9a1a-3cf05cae6d79",
   "metadata": {},
   "outputs": [
    {
     "name": "stdout",
     "output_type": "stream",
     "text": [
      "0.09766215372732245\n"
     ]
    }
   ],
   "source": [
    "print(AnnualizedStd)"
   ]
  },
  {
   "cell_type": "code",
   "execution_count": 75,
   "id": "ccc8a877-0cf9-47d3-a34b-7685583f0704",
   "metadata": {},
   "outputs": [
    {
     "name": "stdout",
     "output_type": "stream",
     "text": [
      " Annualized Standard devialtion - Volotility is  9.766215372732246\n"
     ]
    }
   ],
   "source": [
    "print(f\" Annualized Standard devialtion - Volotility is \", AnnualizedStd * 100)"
   ]
  },
  {
   "cell_type": "code",
   "execution_count": 76,
   "id": "c59f3118-e77e-4cf7-86f0-b73a33aa5797",
   "metadata": {},
   "outputs": [],
   "source": [
    "MeanDReturn = dfreturn['PortfReturn'].mean()"
   ]
  },
  {
   "cell_type": "code",
   "execution_count": 77,
   "id": "80e76a46-8b93-45cb-903c-b2d88c8a42a2",
   "metadata": {},
   "outputs": [
    {
     "name": "stdout",
     "output_type": "stream",
     "text": [
      "0.0004327298780161051\n"
     ]
    }
   ],
   "source": [
    "print(MeanDReturn)"
   ]
  },
  {
   "cell_type": "code",
   "execution_count": 78,
   "id": "c08e585d-c29c-470a-8601-fe36217f8798",
   "metadata": {},
   "outputs": [],
   "source": [
    "annualizedReturn = (1 + MeanDReturn) ** 252 - 1"
   ]
  },
  {
   "cell_type": "code",
   "execution_count": 79,
   "id": "33944b8d-fcd8-4449-a355-c156d4176957",
   "metadata": {},
   "outputs": [
    {
     "name": "stdout",
     "output_type": "stream",
     "text": [
      "0.11518949585993488\n"
     ]
    }
   ],
   "source": [
    "print(annualizedReturn)"
   ]
  },
  {
   "cell_type": "code",
   "execution_count": 80,
   "id": "287836b3-81d5-4dfb-91ef-f2b418e98d8a",
   "metadata": {},
   "outputs": [],
   "source": [
    "rfRate = .01"
   ]
  },
  {
   "cell_type": "code",
   "execution_count": 81,
   "id": "b1da2e33-0bba-4867-9b5e-6da9acd37322",
   "metadata": {},
   "outputs": [],
   "source": [
    "sharpeRatio = (annualizedReturn - rfRate) / AnnualizedStd"
   ]
  },
  {
   "cell_type": "code",
   "execution_count": 82,
   "id": "7e4d1a56-88fc-4fbd-8b71-86eb66e54e03",
   "metadata": {},
   "outputs": [
    {
     "name": "stdout",
     "output_type": "stream",
     "text": [
      "1.0770753239133875\n"
     ]
    }
   ],
   "source": [
    "print(sharpeRatio)"
   ]
  },
  {
   "cell_type": "code",
   "execution_count": 83,
   "id": "8f270f33-1703-4e91-83af-f73aeebb80ed",
   "metadata": {},
   "outputs": [],
   "source": [
    "corrMatrix = dfreturn[['FIDaily_Return', 'EQDaily_Return', 'COMDaily_Return']].corr()"
   ]
  },
  {
   "cell_type": "code",
   "execution_count": 84,
   "id": "26d82153-0880-4393-b0b8-9cc4067cd310",
   "metadata": {},
   "outputs": [
    {
     "data": {
      "text/html": [
       "<div>\n",
       "<style scoped>\n",
       "    .dataframe tbody tr th:only-of-type {\n",
       "        vertical-align: middle;\n",
       "    }\n",
       "\n",
       "    .dataframe tbody tr th {\n",
       "        vertical-align: top;\n",
       "    }\n",
       "\n",
       "    .dataframe thead th {\n",
       "        text-align: right;\n",
       "    }\n",
       "</style>\n",
       "<table border=\"1\" class=\"dataframe\">\n",
       "  <thead>\n",
       "    <tr style=\"text-align: right;\">\n",
       "      <th></th>\n",
       "      <th>FIDaily_Return</th>\n",
       "      <th>EQDaily_Return</th>\n",
       "      <th>COMDaily_Return</th>\n",
       "    </tr>\n",
       "  </thead>\n",
       "  <tbody>\n",
       "    <tr>\n",
       "      <th>FIDaily_Return</th>\n",
       "      <td>1.000000</td>\n",
       "      <td>-0.119330</td>\n",
       "      <td>0.308961</td>\n",
       "    </tr>\n",
       "    <tr>\n",
       "      <th>EQDaily_Return</th>\n",
       "      <td>-0.119330</td>\n",
       "      <td>1.000000</td>\n",
       "      <td>0.132877</td>\n",
       "    </tr>\n",
       "    <tr>\n",
       "      <th>COMDaily_Return</th>\n",
       "      <td>0.308961</td>\n",
       "      <td>0.132877</td>\n",
       "      <td>1.000000</td>\n",
       "    </tr>\n",
       "  </tbody>\n",
       "</table>\n",
       "</div>"
      ],
      "text/plain": [
       "                 FIDaily_Return  EQDaily_Return  COMDaily_Return\n",
       "FIDaily_Return         1.000000       -0.119330         0.308961\n",
       "EQDaily_Return        -0.119330        1.000000         0.132877\n",
       "COMDaily_Return        0.308961        0.132877         1.000000"
      ]
     },
     "execution_count": 84,
     "metadata": {},
     "output_type": "execute_result"
    }
   ],
   "source": [
    "corrMatrix"
   ]
  },
  {
   "cell_type": "code",
   "execution_count": null,
   "id": "08c5f3c3-8acd-484c-b660-5275b622f4dd",
   "metadata": {},
   "outputs": [],
   "source": []
  },
  {
   "cell_type": "code",
   "execution_count": 85,
   "id": "2323b100-ce5e-4aa6-aa32-5ce074ae09fb",
   "metadata": {},
   "outputs": [],
   "source": [
    "#print(f\"Correlation betweeb FI & Equity is:\", corrMatrix['EQDaily_Return',''])"
   ]
  },
  {
   "cell_type": "code",
   "execution_count": 86,
   "id": "ef75735a-0875-42e3-a00d-d779fd7d3e24",
   "metadata": {},
   "outputs": [],
   "source": [
    "#cumulative = (1 + dfreturn.cumprod() - 1)\n",
    "dfcreturn = dfreturn[['FIDaily_Return', 'EQDaily_Return', 'COMDaily_Return','PortfReturn']].copy()\n",
    "#cumulative = (1 + dfreturn).cumprod() - 1"
   ]
  },
  {
   "cell_type": "code",
   "execution_count": 87,
   "id": "c7cf23bf-f3b9-451f-a375-b95139c1f803",
   "metadata": {},
   "outputs": [
    {
     "data": {
      "text/html": [
       "<div>\n",
       "<style scoped>\n",
       "    .dataframe tbody tr th:only-of-type {\n",
       "        vertical-align: middle;\n",
       "    }\n",
       "\n",
       "    .dataframe tbody tr th {\n",
       "        vertical-align: top;\n",
       "    }\n",
       "\n",
       "    .dataframe thead th {\n",
       "        text-align: right;\n",
       "    }\n",
       "</style>\n",
       "<table border=\"1\" class=\"dataframe\">\n",
       "  <thead>\n",
       "    <tr style=\"text-align: right;\">\n",
       "      <th></th>\n",
       "      <th>FIDaily_Return</th>\n",
       "      <th>EQDaily_Return</th>\n",
       "      <th>COMDaily_Return</th>\n",
       "      <th>PortfReturn</th>\n",
       "    </tr>\n",
       "  </thead>\n",
       "  <tbody>\n",
       "    <tr>\n",
       "      <th>0</th>\n",
       "      <td>NaN</td>\n",
       "      <td>NaN</td>\n",
       "      <td>NaN</td>\n",
       "      <td>NaN</td>\n",
       "    </tr>\n",
       "    <tr>\n",
       "      <th>1</th>\n",
       "      <td>0.001761</td>\n",
       "      <td>0.008379</td>\n",
       "      <td>0.007348</td>\n",
       "      <td>0.005829</td>\n",
       "    </tr>\n",
       "    <tr>\n",
       "      <th>2</th>\n",
       "      <td>0.005272</td>\n",
       "      <td>-0.007060</td>\n",
       "      <td>0.013268</td>\n",
       "      <td>0.003827</td>\n",
       "    </tr>\n",
       "    <tr>\n",
       "      <th>3</th>\n",
       "      <td>-0.001311</td>\n",
       "      <td>0.003533</td>\n",
       "      <td>0.010490</td>\n",
       "      <td>0.004237</td>\n",
       "    </tr>\n",
       "    <tr>\n",
       "      <th>4</th>\n",
       "      <td>-0.002188</td>\n",
       "      <td>-0.002803</td>\n",
       "      <td>0.003935</td>\n",
       "      <td>-0.000352</td>\n",
       "    </tr>\n",
       "  </tbody>\n",
       "</table>\n",
       "</div>"
      ],
      "text/plain": [
       "   FIDaily_Return  EQDaily_Return  COMDaily_Return  PortfReturn\n",
       "0             NaN             NaN              NaN          NaN\n",
       "1        0.001761        0.008379         0.007348     0.005829\n",
       "2        0.005272       -0.007060         0.013268     0.003827\n",
       "3       -0.001311        0.003533         0.010490     0.004237\n",
       "4       -0.002188       -0.002803         0.003935    -0.000352"
      ]
     },
     "execution_count": 87,
     "metadata": {},
     "output_type": "execute_result"
    }
   ],
   "source": [
    "dfcreturn.head()"
   ]
  },
  {
   "cell_type": "code",
   "execution_count": 88,
   "id": "27df71f9-022a-407e-871c-27c55acfcf26",
   "metadata": {},
   "outputs": [],
   "source": [
    "cumulative = (1 + dfcreturn).cumprod() - 1"
   ]
  },
  {
   "cell_type": "code",
   "execution_count": 89,
   "id": "3533c6a4-8f65-4d5d-922a-0dcec9b34e2a",
   "metadata": {},
   "outputs": [],
   "source": [
    "cumulative['Date'] = dfreturn['Date']"
   ]
  },
  {
   "cell_type": "code",
   "execution_count": 90,
   "id": "24c16c43-d689-4959-8bfa-fe22808101ab",
   "metadata": {},
   "outputs": [
    {
     "data": {
      "image/png": "[encoded data removed]",
      "text/plain": [
       "<Figure size 1000x600 with 1 Axes>"
      ]
     },
     "metadata": {},
     "output_type": "display_data"
    }
   ],
   "source": [
    "plt.figure(figsize=(10,6))\n",
    "plt.plot(cumulative['Date'], cumulative['FIDaily_Return'], label='Fixed Income (FI)')\n",
    "plt.plot(cumulative['Date'], cumulative['EQDaily_Return'], label='Equity (EQ)')\n",
    "plt.plot(cumulative['Date'], cumulative['COMDaily_Return'], label='Commodity (COM)')\n",
    "plt.plot(cumulative['Date'], cumulative['PortfReturn'], label='Equally Weighted Portfolio', linewidth=2.5, color='black')\n",
    "plt.title('Cumulative Return Performance: Portfolio vs Individual Assets')\n",
    "plt.xlabel('Date')\n",
    "plt.ylabel('Cumulative Return')\n",
    "plt.legend()\n",
    "plt.grid(True)\n",
    "plt.tight_layout()\n",
    "plt.show()\n"
   ]
  },
  {
   "cell_type": "code",
   "execution_count": 91,
   "id": "1b269831-3e76-4fe6-853a-9d86cc435388",
   "metadata": {},
   "outputs": [
    {
     "data": {
      "text/html": [
       "<div>\n",
       "<style scoped>\n",
       "    .dataframe tbody tr th:only-of-type {\n",
       "        vertical-align: middle;\n",
       "    }\n",
       "\n",
       "    .dataframe tbody tr th {\n",
       "        vertical-align: top;\n",
       "    }\n",
       "\n",
       "    .dataframe thead th {\n",
       "        text-align: right;\n",
       "    }\n",
       "</style>\n",
       "<table border=\"1\" class=\"dataframe\">\n",
       "  <thead>\n",
       "    <tr style=\"text-align: right;\">\n",
       "      <th></th>\n",
       "      <th>FIDaily_Return</th>\n",
       "      <th>EQDaily_Return</th>\n",
       "      <th>COMDaily_Return</th>\n",
       "    </tr>\n",
       "  </thead>\n",
       "  <tbody>\n",
       "    <tr>\n",
       "      <th>FIDaily_Return</th>\n",
       "      <td>1.000000</td>\n",
       "      <td>-0.119330</td>\n",
       "      <td>0.308961</td>\n",
       "    </tr>\n",
       "    <tr>\n",
       "      <th>EQDaily_Return</th>\n",
       "      <td>-0.119330</td>\n",
       "      <td>1.000000</td>\n",
       "      <td>0.132877</td>\n",
       "    </tr>\n",
       "    <tr>\n",
       "      <th>COMDaily_Return</th>\n",
       "      <td>0.308961</td>\n",
       "      <td>0.132877</td>\n",
       "      <td>1.000000</td>\n",
       "    </tr>\n",
       "  </tbody>\n",
       "</table>\n",
       "</div>"
      ],
      "text/plain": [
       "                 FIDaily_Return  EQDaily_Return  COMDaily_Return\n",
       "FIDaily_Return         1.000000       -0.119330         0.308961\n",
       "EQDaily_Return        -0.119330        1.000000         0.132877\n",
       "COMDaily_Return        0.308961        0.132877         1.000000"
      ]
     },
     "execution_count": 91,
     "metadata": {},
     "output_type": "execute_result"
    }
   ],
   "source": [
    "corrMatrix"
   ]
  },
  {
   "cell_type": "code",
   "execution_count": 92,
   "id": "d239abfc-b4b3-4939-9b03-07b67fb1523c",
   "metadata": {},
   "outputs": [],
   "source": [
    "#returns=dfreturn[['FIDaily_Return', 'EQDaily_Return', 'COMDaily_Return']].copy()\n",
    "#correlation_matrix = returns.corr()"
   ]
  },
  {
   "cell_type": "code",
   "execution_count": 93,
   "id": "3f49e217-1c5c-4564-aa34-b7c4564c0f1c",
   "metadata": {},
   "outputs": [
    {
     "data": {
      "image/png": "[encoded data removed]",
      "text/plain": [
       "<Figure size 800x600 with 2 Axes>"
      ]
     },
     "metadata": {},
     "output_type": "display_data"
    }
   ],
   "source": [
    "plt.figure(figsize=(8, 6))\n",
    "sns.heatmap(corrMatrix, annot=True, cmap='coolwarm', center=0, linewidths=0.5, fmt=\".2f\")\n",
    "plt.title(\"Assets Correlation Matrix Heatmap\")\n",
    "plt.tight_layout()\n",
    "plt.show()"
   ]
  },
  {
   "cell_type": "code",
   "execution_count": 94,
   "id": "45c47e8e-74d0-4742-a9c9-dc4d3e64a077",
   "metadata": {},
   "outputs": [],
   "source": [
    "#data = {\n",
    "#        'VariableA': [10, 12, 15, 18, 20, 22, 25, 28, 30, 32],\n",
    "#        'VariableB': [5, 6, 7, 8, 9, 10, 11, 12, 13, 14],\n",
    "#        'VariableC': [2, 4, 6, 8, 10, 12, 14, 16, 18, 20],\n",
    "#        'VariableD': [30, 28, 25, 22, 20, 18, 15, 12, 10, 8]\n",
    "#    }\n",
    "   #"
   ]
  },
  {
   "cell_type": "code",
   "execution_count": 95,
   "id": "50763635-adaa-41c4-8dcb-ce8e4b5e7915",
   "metadata": {},
   "outputs": [],
   "source": [
    "# df = pd.DataFrame(data)"
   ]
  },
  {
   "cell_type": "code",
   "execution_count": 96,
   "id": "89a77619-8f2e-479c-8447-f7d9b769d068",
   "metadata": {},
   "outputs": [],
   "source": [
    "#correlation_matrix = df.corr()"
   ]
  },
  {
   "cell_type": "code",
   "execution_count": 97,
   "id": "82208e2f-0d32-4072-9d01-dd60a818816d",
   "metadata": {},
   "outputs": [],
   "source": [
    "#correlation_matrix"
   ]
  },
  {
   "cell_type": "code",
   "execution_count": 98,
   "id": "1f815425-5fb8-47e9-8164-10edc69fbaa5",
   "metadata": {},
   "outputs": [],
   "source": [
    "   # plt.figure(figsize=(8, 6)) # Adjust figure size for better readability\n",
    "   ## sns.heatmap(correlation_matrix, annot=True, cmap='coolwarm', fmt=\".2f\", linewidths=.5)\n",
    "    #plt.title('Correlation Matrix Heatmap')\n",
    "    #plt.show()"
   ]
  }
 ],
 "metadata": {
  "kernelspec": {
   "display_name": "Python 3 (ipykernel)",
   "language": "python",
   "name": "python3"
  },
  "language_info": {
   "codemirror_mode": {
    "name": "ipython",
    "version": 3
   },
   "file_extension": ".py",
   "mimetype": "text/x-python",
   "name": "python",
   "nbconvert_exporter": "python",
   "pygments_lexer": "ipython3",
   "version": "3.11.7"
  }
 },
 "nbformat": 4,
 "nbformat_minor": 5
}
