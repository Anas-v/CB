{
 "cells": [
  {
   "cell_type": "code",
   "execution_count": 468,
   "id": "6b289d7e-17e9-4a1e-bdd2-90e4496469e8",
   "metadata": {},
   "outputs": [],
   "source": [
    "import numpy as np\n",
    "import pandas as pd\n",
    "import yfinance as yf\n",
    "import matplotlib.pyplot as plt\n",
    "from scipy.optimize import minimize\n",
    "from pypfopt.hierarchical_portfolio import HRPOpt\n",
    "from pypfopt import risk_models, expected_returns\n",
    "from pypfopt import plotting\n",
    "from scipy.cluster.hierarchy import linkage"
   ]
  },
  {
   "cell_type": "code",
   "execution_count": null,
   "id": "25b6b8f3-bbc2-4939-ba81-69b62f916a25",
   "metadata": {},
   "outputs": [],
   "source": []
  },
  {
   "cell_type": "code",
   "execution_count": null,
   "id": "f6941c4c-cf23-4164-941e-e00e9327c462",
   "metadata": {},
   "outputs": [],
   "source": []
  },
  {
   "cell_type": "code",
   "execution_count": 158,
   "id": "106cce94-d153-45b7-859f-447db66b5ecc",
   "metadata": {},
   "outputs": [],
   "source": [
    "#tickers = [\"SPY\", \"AGG\", \"GSG\"]  # US Stocks, Bonds, Commodities\n",
    "tickers = {\n",
    "    \"US Stocks (SPY)\": \"SPY\",   # S&P 500 ETF\n",
    "    \"US Bonds (AGG)\": \"AGG\",    # US Aggregate Bond ETF\n",
    "    \"Commodities (GSG)\": \"GSG\"  # S&P GSCI Commodity ETF\n",
    "}"
   ]
  },
  {
   "cell_type": "code",
   "execution_count": 159,
   "id": "b2f02fcf-0257-41d4-9fb3-9f45a902b4cd",
   "metadata": {},
   "outputs": [
    {
     "name": "stderr",
     "output_type": "stream",
     "text": [
      "[*********************100%***********************]  3 of 3 completed\n",
      "\n",
      "3 Failed downloads:\n",
      "['GSG', 'AGG', 'SPY']: YFRateLimitError('Too Many Requests. Rate limited. Try after a while.')\n"
     ]
    }
   ],
   "source": [
    "dataf = yf.download(list(tickers.values()), start=\"2020-01-01\", end=\"2025-01-01\", auto_adjust=False)\n",
    "#data = yf.download(tickers, start=\"2020-01-01\", end=\"2025-01-01\", auto_adjust=False)\n",
    "#[\"Adj Close\"]\n",
    "#data = yf.download(tickers, start=start, end=end)[\"Adj Close\"]\n",
    "#data = yf.download(\"SPY\", start=\"2020-01-01\", end=\"2025-01-01\")['Adj Close']"
   ]
  },
  {
   "cell_type": "code",
   "execution_count": 89,
   "id": "6a4d1bd0-744b-40aa-b759-76fb48c47019",
   "metadata": {},
   "outputs": [],
   "source": [
    "data = pd.read_csv('C:\\CB\\q4\\data5.csv')"
   ]
  },
  {
   "cell_type": "code",
   "execution_count": 92,
   "id": "a09a811a-e5e2-4e3c-a260-e2166bf52b3c",
   "metadata": {},
   "outputs": [],
   "source": [
    "data = data.dropna()"
   ]
  },
  {
   "cell_type": "code",
   "execution_count": 130,
   "id": "580793b9-93d6-4989-8edf-a7538d9691b1",
   "metadata": {},
   "outputs": [
    {
     "data": {
      "text/html": [
       "<div>\n",
       "<style scoped>\n",
       "    .dataframe tbody tr th:only-of-type {\n",
       "        vertical-align: middle;\n",
       "    }\n",
       "\n",
       "    .dataframe tbody tr th {\n",
       "        vertical-align: top;\n",
       "    }\n",
       "\n",
       "    .dataframe thead th {\n",
       "        text-align: right;\n",
       "    }\n",
       "</style>\n",
       "<table border=\"1\" class=\"dataframe\">\n",
       "  <thead>\n",
       "    <tr style=\"text-align: right;\">\n",
       "      <th></th>\n",
       "      <th>Price</th>\n",
       "      <th>Adj Close</th>\n",
       "      <th>Adj Close.1</th>\n",
       "      <th>Adj Close.2</th>\n",
       "      <th>Close</th>\n",
       "      <th>Close.1</th>\n",
       "      <th>Close.2</th>\n",
       "      <th>High</th>\n",
       "      <th>High.1</th>\n",
       "      <th>High.2</th>\n",
       "      <th>Low</th>\n",
       "      <th>Low.1</th>\n",
       "      <th>Low.2</th>\n",
       "      <th>Open</th>\n",
       "      <th>Open.1</th>\n",
       "      <th>Open.2</th>\n",
       "      <th>Volume</th>\n",
       "      <th>Volume.1</th>\n",
       "      <th>Volume.2</th>\n",
       "    </tr>\n",
       "  </thead>\n",
       "  <tbody>\n",
       "    <tr>\n",
       "      <th>0</th>\n",
       "      <td>Ticker</td>\n",
       "      <td>AGG</td>\n",
       "      <td>GSG</td>\n",
       "      <td>SPY</td>\n",
       "      <td>AGG</td>\n",
       "      <td>GSG</td>\n",
       "      <td>SPY</td>\n",
       "      <td>AGG</td>\n",
       "      <td>GSG</td>\n",
       "      <td>SPY</td>\n",
       "      <td>AGG</td>\n",
       "      <td>GSG</td>\n",
       "      <td>SPY</td>\n",
       "      <td>AGG</td>\n",
       "      <td>GSG</td>\n",
       "      <td>SPY</td>\n",
       "      <td>AGG</td>\n",
       "      <td>GSG</td>\n",
       "      <td>SPY</td>\n",
       "    </tr>\n",
       "    <tr>\n",
       "      <th>2</th>\n",
       "      <td>2020-01-02</td>\n",
       "      <td>95.99712371826172</td>\n",
       "      <td>16.290000915527344</td>\n",
       "      <td>298.5787048339844</td>\n",
       "      <td>112.68000030517578</td>\n",
       "      <td>16.290000915527344</td>\n",
       "      <td>324.8699951171875</td>\n",
       "      <td>112.80000305175781</td>\n",
       "      <td>16.389999389648438</td>\n",
       "      <td>324.8900146484375</td>\n",
       "      <td>112.55999755859375</td>\n",
       "      <td>16.200000762939453</td>\n",
       "      <td>322.5299987792969</td>\n",
       "      <td>112.68000030517578</td>\n",
       "      <td>16.389999389648438</td>\n",
       "      <td>323.5400085449219</td>\n",
       "      <td>6791400</td>\n",
       "      <td>1537500</td>\n",
       "      <td>59151200</td>\n",
       "    </tr>\n",
       "    <tr>\n",
       "      <th>3</th>\n",
       "      <td>2020-01-03</td>\n",
       "      <td>96.27821350097656</td>\n",
       "      <td>16.510000228881836</td>\n",
       "      <td>296.3177490234375</td>\n",
       "      <td>113.01000213623047</td>\n",
       "      <td>16.510000228881836</td>\n",
       "      <td>322.4100036621094</td>\n",
       "      <td>113.05000305175781</td>\n",
       "      <td>16.610000610351562</td>\n",
       "      <td>323.6400146484375</td>\n",
       "      <td>112.77999877929688</td>\n",
       "      <td>16.420000076293945</td>\n",
       "      <td>321.1000061035156</td>\n",
       "      <td>112.88999938964844</td>\n",
       "      <td>16.540000915527344</td>\n",
       "      <td>321.1600036621094</td>\n",
       "      <td>3664300</td>\n",
       "      <td>429100</td>\n",
       "      <td>77709700</td>\n",
       "    </tr>\n",
       "    <tr>\n",
       "      <th>4</th>\n",
       "      <td>2020-01-06</td>\n",
       "      <td>96.2015609741211</td>\n",
       "      <td>16.510000228881836</td>\n",
       "      <td>297.44818115234375</td>\n",
       "      <td>112.91999816894531</td>\n",
       "      <td>16.510000228881836</td>\n",
       "      <td>323.6400146484375</td>\n",
       "      <td>113.12999725341797</td>\n",
       "      <td>16.610000610351562</td>\n",
       "      <td>323.7300109863281</td>\n",
       "      <td>112.83999633789062</td>\n",
       "      <td>16.479999542236328</td>\n",
       "      <td>320.3599853515625</td>\n",
       "      <td>113.12999725341797</td>\n",
       "      <td>16.610000610351562</td>\n",
       "      <td>320.489990234375</td>\n",
       "      <td>8131600</td>\n",
       "      <td>280500</td>\n",
       "      <td>55653900</td>\n",
       "    </tr>\n",
       "    <tr>\n",
       "      <th>5</th>\n",
       "      <td>2020-01-07</td>\n",
       "      <td>96.0993423461914</td>\n",
       "      <td>16.459999084472656</td>\n",
       "      <td>296.61181640625</td>\n",
       "      <td>112.80000305175781</td>\n",
       "      <td>16.459999084472656</td>\n",
       "      <td>322.7300109863281</td>\n",
       "      <td>112.91999816894531</td>\n",
       "      <td>16.5</td>\n",
       "      <td>323.5400085449219</td>\n",
       "      <td>112.77999877929688</td>\n",
       "      <td>16.3799991607666</td>\n",
       "      <td>322.239990234375</td>\n",
       "      <td>112.91999816894531</td>\n",
       "      <td>16.43000030517578</td>\n",
       "      <td>323.0199890136719</td>\n",
       "      <td>2883000</td>\n",
       "      <td>255300</td>\n",
       "      <td>40496400</td>\n",
       "    </tr>\n",
       "    <tr>\n",
       "      <th>...</th>\n",
       "      <td>...</td>\n",
       "      <td>...</td>\n",
       "      <td>...</td>\n",
       "      <td>...</td>\n",
       "      <td>...</td>\n",
       "      <td>...</td>\n",
       "      <td>...</td>\n",
       "      <td>...</td>\n",
       "      <td>...</td>\n",
       "      <td>...</td>\n",
       "      <td>...</td>\n",
       "      <td>...</td>\n",
       "      <td>...</td>\n",
       "      <td>...</td>\n",
       "      <td>...</td>\n",
       "      <td>...</td>\n",
       "      <td>...</td>\n",
       "      <td>...</td>\n",
       "      <td>...</td>\n",
       "    </tr>\n",
       "    <tr>\n",
       "      <th>1255</th>\n",
       "      <td>2024-12-24</td>\n",
       "      <td>93.97312927246094</td>\n",
       "      <td>21.389999389648438</td>\n",
       "      <td>596.076904296875</td>\n",
       "      <td>96.7699966430664</td>\n",
       "      <td>21.389999389648438</td>\n",
       "      <td>601.2999877929688</td>\n",
       "      <td>96.77999877929688</td>\n",
       "      <td>21.459999084472656</td>\n",
       "      <td>601.3400268554688</td>\n",
       "      <td>96.47000122070312</td>\n",
       "      <td>21.360000610351562</td>\n",
       "      <td>595.469970703125</td>\n",
       "      <td>96.5</td>\n",
       "      <td>21.389999389648438</td>\n",
       "      <td>596.0599975585938</td>\n",
       "      <td>4739300</td>\n",
       "      <td>57400</td>\n",
       "      <td>33160100</td>\n",
       "    </tr>\n",
       "    <tr>\n",
       "      <th>1256</th>\n",
       "      <td>2024-12-26</td>\n",
       "      <td>94.04110717773438</td>\n",
       "      <td>21.34000015258789</td>\n",
       "      <td>596.1166381835938</td>\n",
       "      <td>96.83999633789062</td>\n",
       "      <td>21.34000015258789</td>\n",
       "      <td>601.3400268554688</td>\n",
       "      <td>96.87999725341797</td>\n",
       "      <td>21.450000762939453</td>\n",
       "      <td>602.47998046875</td>\n",
       "      <td>96.51000213623047</td>\n",
       "      <td>21.299999237060547</td>\n",
       "      <td>598.0800170898438</td>\n",
       "      <td>96.5199966430664</td>\n",
       "      <td>21.440000534057617</td>\n",
       "      <td>599.5</td>\n",
       "      <td>10620200</td>\n",
       "      <td>89600</td>\n",
       "      <td>41219100</td>\n",
       "    </tr>\n",
       "    <tr>\n",
       "      <th>1257</th>\n",
       "      <td>2024-12-27</td>\n",
       "      <td>93.8469009399414</td>\n",
       "      <td>21.420000076293945</td>\n",
       "      <td>589.841552734375</td>\n",
       "      <td>96.63999938964844</td>\n",
       "      <td>21.420000076293945</td>\n",
       "      <td>595.010009765625</td>\n",
       "      <td>96.88999938964844</td>\n",
       "      <td>21.489999771118164</td>\n",
       "      <td>597.780029296875</td>\n",
       "      <td>96.61000061035156</td>\n",
       "      <td>21.389999389648438</td>\n",
       "      <td>590.760009765625</td>\n",
       "      <td>96.79000091552734</td>\n",
       "      <td>21.459999084472656</td>\n",
       "      <td>597.5399780273438</td>\n",
       "      <td>8601300</td>\n",
       "      <td>142400</td>\n",
       "      <td>64969300</td>\n",
       "    </tr>\n",
       "    <tr>\n",
       "      <th>1258</th>\n",
       "      <td>2024-12-30</td>\n",
       "      <td>94.21591186523438</td>\n",
       "      <td>21.65999984741211</td>\n",
       "      <td>583.1105346679688</td>\n",
       "      <td>97.0199966430664</td>\n",
       "      <td>21.65999984741211</td>\n",
       "      <td>588.219970703125</td>\n",
       "      <td>97.08000183105469</td>\n",
       "      <td>21.81999969482422</td>\n",
       "      <td>591.739990234375</td>\n",
       "      <td>96.95999908447266</td>\n",
       "      <td>21.639999389648438</td>\n",
       "      <td>584.4099731445312</td>\n",
       "      <td>97.0</td>\n",
       "      <td>21.75</td>\n",
       "      <td>587.8900146484375</td>\n",
       "      <td>10154500</td>\n",
       "      <td>517300</td>\n",
       "      <td>56578800</td>\n",
       "    </tr>\n",
       "    <tr>\n",
       "      <th>1259</th>\n",
       "      <td>2024-12-31</td>\n",
       "      <td>94.09938049316406</td>\n",
       "      <td>21.770000457763672</td>\n",
       "      <td>580.9891357421875</td>\n",
       "      <td>96.9000015258789</td>\n",
       "      <td>21.770000457763672</td>\n",
       "      <td>586.0800170898438</td>\n",
       "      <td>97.20999908447266</td>\n",
       "      <td>21.790000915527344</td>\n",
       "      <td>590.6400146484375</td>\n",
       "      <td>96.83000183105469</td>\n",
       "      <td>21.649999618530273</td>\n",
       "      <td>584.4199829101562</td>\n",
       "      <td>97.1500015258789</td>\n",
       "      <td>21.690000534057617</td>\n",
       "      <td>589.9099731445312</td>\n",
       "      <td>12276700</td>\n",
       "      <td>453500</td>\n",
       "      <td>57052700</td>\n",
       "    </tr>\n",
       "  </tbody>\n",
       "</table>\n",
       "<p>1259 rows × 19 columns</p>\n",
       "</div>"
      ],
      "text/plain": [
       "           Price          Adj Close         Adj Close.1         Adj Close.2  \\\n",
       "0         Ticker                AGG                 GSG                 SPY   \n",
       "2     2020-01-02  95.99712371826172  16.290000915527344   298.5787048339844   \n",
       "3     2020-01-03  96.27821350097656  16.510000228881836   296.3177490234375   \n",
       "4     2020-01-06   96.2015609741211  16.510000228881836  297.44818115234375   \n",
       "5     2020-01-07   96.0993423461914  16.459999084472656     296.61181640625   \n",
       "...          ...                ...                 ...                 ...   \n",
       "1255  2024-12-24  93.97312927246094  21.389999389648438    596.076904296875   \n",
       "1256  2024-12-26  94.04110717773438   21.34000015258789   596.1166381835938   \n",
       "1257  2024-12-27   93.8469009399414  21.420000076293945    589.841552734375   \n",
       "1258  2024-12-30  94.21591186523438   21.65999984741211   583.1105346679688   \n",
       "1259  2024-12-31  94.09938049316406  21.770000457763672   580.9891357421875   \n",
       "\n",
       "                   Close             Close.1            Close.2  \\\n",
       "0                    AGG                 GSG                SPY   \n",
       "2     112.68000030517578  16.290000915527344  324.8699951171875   \n",
       "3     113.01000213623047  16.510000228881836  322.4100036621094   \n",
       "4     112.91999816894531  16.510000228881836  323.6400146484375   \n",
       "5     112.80000305175781  16.459999084472656  322.7300109863281   \n",
       "...                  ...                 ...                ...   \n",
       "1255    96.7699966430664  21.389999389648438  601.2999877929688   \n",
       "1256   96.83999633789062   21.34000015258789  601.3400268554688   \n",
       "1257   96.63999938964844  21.420000076293945   595.010009765625   \n",
       "1258    97.0199966430664   21.65999984741211   588.219970703125   \n",
       "1259    96.9000015258789  21.770000457763672  586.0800170898438   \n",
       "\n",
       "                    High              High.1             High.2  \\\n",
       "0                    AGG                 GSG                SPY   \n",
       "2     112.80000305175781  16.389999389648438  324.8900146484375   \n",
       "3     113.05000305175781  16.610000610351562  323.6400146484375   \n",
       "4     113.12999725341797  16.610000610351562  323.7300109863281   \n",
       "5     112.91999816894531                16.5  323.5400085449219   \n",
       "...                  ...                 ...                ...   \n",
       "1255   96.77999877929688  21.459999084472656  601.3400268554688   \n",
       "1256   96.87999725341797  21.450000762939453    602.47998046875   \n",
       "1257   96.88999938964844  21.489999771118164   597.780029296875   \n",
       "1258   97.08000183105469   21.81999969482422   591.739990234375   \n",
       "1259   97.20999908447266  21.790000915527344  590.6400146484375   \n",
       "\n",
       "                     Low               Low.1              Low.2  \\\n",
       "0                    AGG                 GSG                SPY   \n",
       "2     112.55999755859375  16.200000762939453  322.5299987792969   \n",
       "3     112.77999877929688  16.420000076293945  321.1000061035156   \n",
       "4     112.83999633789062  16.479999542236328  320.3599853515625   \n",
       "5     112.77999877929688    16.3799991607666   322.239990234375   \n",
       "...                  ...                 ...                ...   \n",
       "1255   96.47000122070312  21.360000610351562   595.469970703125   \n",
       "1256   96.51000213623047  21.299999237060547  598.0800170898438   \n",
       "1257   96.61000061035156  21.389999389648438   590.760009765625   \n",
       "1258   96.95999908447266  21.639999389648438  584.4099731445312   \n",
       "1259   96.83000183105469  21.649999618530273  584.4199829101562   \n",
       "\n",
       "                    Open              Open.1             Open.2    Volume  \\\n",
       "0                    AGG                 GSG                SPY       AGG   \n",
       "2     112.68000030517578  16.389999389648438  323.5400085449219   6791400   \n",
       "3     112.88999938964844  16.540000915527344  321.1600036621094   3664300   \n",
       "4     113.12999725341797  16.610000610351562   320.489990234375   8131600   \n",
       "5     112.91999816894531   16.43000030517578  323.0199890136719   2883000   \n",
       "...                  ...                 ...                ...       ...   \n",
       "1255                96.5  21.389999389648438  596.0599975585938   4739300   \n",
       "1256    96.5199966430664  21.440000534057617              599.5  10620200   \n",
       "1257   96.79000091552734  21.459999084472656  597.5399780273438   8601300   \n",
       "1258                97.0               21.75  587.8900146484375  10154500   \n",
       "1259    97.1500015258789  21.690000534057617  589.9099731445312  12276700   \n",
       "\n",
       "     Volume.1  Volume.2  \n",
       "0         GSG       SPY  \n",
       "2     1537500  59151200  \n",
       "3      429100  77709700  \n",
       "4      280500  55653900  \n",
       "5      255300  40496400  \n",
       "...       ...       ...  \n",
       "1255    57400  33160100  \n",
       "1256    89600  41219100  \n",
       "1257   142400  64969300  \n",
       "1258   517300  56578800  \n",
       "1259   453500  57052700  \n",
       "\n",
       "[1259 rows x 19 columns]"
      ]
     },
     "execution_count": 130,
     "metadata": {},
     "output_type": "execute_result"
    }
   ],
   "source": [
    "data"
   ]
  },
  {
   "cell_type": "code",
   "execution_count": 127,
   "id": "ffa12041-04dd-41bc-8f3b-a82df53b5d16",
   "metadata": {},
   "outputs": [],
   "source": [
    "dfdata = data.iloc[:, [0,1,2,3]].copy()\n",
    "#subset_all_rows_iloc = df.iloc[:, [0, 2]] "
   ]
  },
  {
   "cell_type": "code",
   "execution_count": 128,
   "id": "93ebbf3b-1a4d-4c6b-bee3-3baeabba8aff",
   "metadata": {},
   "outputs": [],
   "source": [
    "dfdata.drop(0, inplace=True, axis=0)"
   ]
  },
  {
   "cell_type": "code",
   "execution_count": 129,
   "id": "35b586ab-1488-46af-b5d2-f4f279d34164",
   "metadata": {},
   "outputs": [
    {
     "data": {
      "text/html": [
       "<div>\n",
       "<style scoped>\n",
       "    .dataframe tbody tr th:only-of-type {\n",
       "        vertical-align: middle;\n",
       "    }\n",
       "\n",
       "    .dataframe tbody tr th {\n",
       "        vertical-align: top;\n",
       "    }\n",
       "\n",
       "    .dataframe thead th {\n",
       "        text-align: right;\n",
       "    }\n",
       "</style>\n",
       "<table border=\"1\" class=\"dataframe\">\n",
       "  <thead>\n",
       "    <tr style=\"text-align: right;\">\n",
       "      <th></th>\n",
       "      <th>Price</th>\n",
       "      <th>Adj Close</th>\n",
       "      <th>Adj Close.1</th>\n",
       "      <th>Adj Close.2</th>\n",
       "    </tr>\n",
       "  </thead>\n",
       "  <tbody>\n",
       "    <tr>\n",
       "      <th>2</th>\n",
       "      <td>2020-01-02</td>\n",
       "      <td>95.99712371826172</td>\n",
       "      <td>16.290000915527344</td>\n",
       "      <td>298.5787048339844</td>\n",
       "    </tr>\n",
       "    <tr>\n",
       "      <th>3</th>\n",
       "      <td>2020-01-03</td>\n",
       "      <td>96.27821350097656</td>\n",
       "      <td>16.510000228881836</td>\n",
       "      <td>296.3177490234375</td>\n",
       "    </tr>\n",
       "    <tr>\n",
       "      <th>4</th>\n",
       "      <td>2020-01-06</td>\n",
       "      <td>96.2015609741211</td>\n",
       "      <td>16.510000228881836</td>\n",
       "      <td>297.44818115234375</td>\n",
       "    </tr>\n",
       "    <tr>\n",
       "      <th>5</th>\n",
       "      <td>2020-01-07</td>\n",
       "      <td>96.0993423461914</td>\n",
       "      <td>16.459999084472656</td>\n",
       "      <td>296.61181640625</td>\n",
       "    </tr>\n",
       "    <tr>\n",
       "      <th>6</th>\n",
       "      <td>2020-01-08</td>\n",
       "      <td>95.98861694335938</td>\n",
       "      <td>16.149999618530273</td>\n",
       "      <td>298.1927185058594</td>\n",
       "    </tr>\n",
       "    <tr>\n",
       "      <th>...</th>\n",
       "      <td>...</td>\n",
       "      <td>...</td>\n",
       "      <td>...</td>\n",
       "      <td>...</td>\n",
       "    </tr>\n",
       "    <tr>\n",
       "      <th>1255</th>\n",
       "      <td>2024-12-24</td>\n",
       "      <td>93.97312927246094</td>\n",
       "      <td>21.389999389648438</td>\n",
       "      <td>596.076904296875</td>\n",
       "    </tr>\n",
       "    <tr>\n",
       "      <th>1256</th>\n",
       "      <td>2024-12-26</td>\n",
       "      <td>94.04110717773438</td>\n",
       "      <td>21.34000015258789</td>\n",
       "      <td>596.1166381835938</td>\n",
       "    </tr>\n",
       "    <tr>\n",
       "      <th>1257</th>\n",
       "      <td>2024-12-27</td>\n",
       "      <td>93.8469009399414</td>\n",
       "      <td>21.420000076293945</td>\n",
       "      <td>589.841552734375</td>\n",
       "    </tr>\n",
       "    <tr>\n",
       "      <th>1258</th>\n",
       "      <td>2024-12-30</td>\n",
       "      <td>94.21591186523438</td>\n",
       "      <td>21.65999984741211</td>\n",
       "      <td>583.1105346679688</td>\n",
       "    </tr>\n",
       "    <tr>\n",
       "      <th>1259</th>\n",
       "      <td>2024-12-31</td>\n",
       "      <td>94.09938049316406</td>\n",
       "      <td>21.770000457763672</td>\n",
       "      <td>580.9891357421875</td>\n",
       "    </tr>\n",
       "  </tbody>\n",
       "</table>\n",
       "<p>1258 rows × 4 columns</p>\n",
       "</div>"
      ],
      "text/plain": [
       "           Price          Adj Close         Adj Close.1         Adj Close.2\n",
       "2     2020-01-02  95.99712371826172  16.290000915527344   298.5787048339844\n",
       "3     2020-01-03  96.27821350097656  16.510000228881836   296.3177490234375\n",
       "4     2020-01-06   96.2015609741211  16.510000228881836  297.44818115234375\n",
       "5     2020-01-07   96.0993423461914  16.459999084472656     296.61181640625\n",
       "6     2020-01-08  95.98861694335938  16.149999618530273   298.1927185058594\n",
       "...          ...                ...                 ...                 ...\n",
       "1255  2024-12-24  93.97312927246094  21.389999389648438    596.076904296875\n",
       "1256  2024-12-26  94.04110717773438   21.34000015258789   596.1166381835938\n",
       "1257  2024-12-27   93.8469009399414  21.420000076293945    589.841552734375\n",
       "1258  2024-12-30  94.21591186523438   21.65999984741211   583.1105346679688\n",
       "1259  2024-12-31  94.09938049316406  21.770000457763672   580.9891357421875\n",
       "\n",
       "[1258 rows x 4 columns]"
      ]
     },
     "execution_count": 129,
     "metadata": {},
     "output_type": "execute_result"
    }
   ],
   "source": [
    "dfdata"
   ]
  },
  {
   "cell_type": "code",
   "execution_count": 134,
   "id": "70c60243-2c22-44cc-be30-95ec55bf71a2",
   "metadata": {},
   "outputs": [],
   "source": [
    "dfdata = dfdata.rename(columns={'Price':'Date', 'Adj Close':'BNDS', 'Adj Close.1':'COMM', 'Adj Close.2':'STKS'})"
   ]
  },
  {
   "cell_type": "code",
   "execution_count": 135,
   "id": "7bfa33c4-3fed-48f2-a285-78b19352d2c9",
   "metadata": {
    "scrolled": true
   },
   "outputs": [
    {
     "data": {
      "text/html": [
       "<div>\n",
       "<style scoped>\n",
       "    .dataframe tbody tr th:only-of-type {\n",
       "        vertical-align: middle;\n",
       "    }\n",
       "\n",
       "    .dataframe tbody tr th {\n",
       "        vertical-align: top;\n",
       "    }\n",
       "\n",
       "    .dataframe thead th {\n",
       "        text-align: right;\n",
       "    }\n",
       "</style>\n",
       "<table border=\"1\" class=\"dataframe\">\n",
       "  <thead>\n",
       "    <tr style=\"text-align: right;\">\n",
       "      <th></th>\n",
       "      <th>Date</th>\n",
       "      <th>BNDS</th>\n",
       "      <th>COMM</th>\n",
       "      <th>STKS</th>\n",
       "    </tr>\n",
       "  </thead>\n",
       "  <tbody>\n",
       "    <tr>\n",
       "      <th>2</th>\n",
       "      <td>2020-01-02</td>\n",
       "      <td>95.99712371826172</td>\n",
       "      <td>16.290000915527344</td>\n",
       "      <td>298.5787048339844</td>\n",
       "    </tr>\n",
       "    <tr>\n",
       "      <th>3</th>\n",
       "      <td>2020-01-03</td>\n",
       "      <td>96.27821350097656</td>\n",
       "      <td>16.510000228881836</td>\n",
       "      <td>296.3177490234375</td>\n",
       "    </tr>\n",
       "    <tr>\n",
       "      <th>4</th>\n",
       "      <td>2020-01-06</td>\n",
       "      <td>96.2015609741211</td>\n",
       "      <td>16.510000228881836</td>\n",
       "      <td>297.44818115234375</td>\n",
       "    </tr>\n",
       "    <tr>\n",
       "      <th>5</th>\n",
       "      <td>2020-01-07</td>\n",
       "      <td>96.0993423461914</td>\n",
       "      <td>16.459999084472656</td>\n",
       "      <td>296.61181640625</td>\n",
       "    </tr>\n",
       "    <tr>\n",
       "      <th>6</th>\n",
       "      <td>2020-01-08</td>\n",
       "      <td>95.98861694335938</td>\n",
       "      <td>16.149999618530273</td>\n",
       "      <td>298.1927185058594</td>\n",
       "    </tr>\n",
       "  </tbody>\n",
       "</table>\n",
       "</div>"
      ],
      "text/plain": [
       "         Date               BNDS                COMM                STKS\n",
       "2  2020-01-02  95.99712371826172  16.290000915527344   298.5787048339844\n",
       "3  2020-01-03  96.27821350097656  16.510000228881836   296.3177490234375\n",
       "4  2020-01-06   96.2015609741211  16.510000228881836  297.44818115234375\n",
       "5  2020-01-07   96.0993423461914  16.459999084472656     296.61181640625\n",
       "6  2020-01-08  95.98861694335938  16.149999618530273   298.1927185058594"
      ]
     },
     "execution_count": 135,
     "metadata": {},
     "output_type": "execute_result"
    }
   ],
   "source": [
    "dfdata.head()"
   ]
  },
  {
   "cell_type": "code",
   "execution_count": 137,
   "id": "ce9659d8-3b57-43ee-ba05-bc5d56be1923",
   "metadata": {},
   "outputs": [],
   "source": [
    "dfdata['Date'] = pd.to_datetime(dfdata['Date'])"
   ]
  },
  {
   "cell_type": "code",
   "execution_count": 141,
   "id": "1fface27-f34a-4f29-af5b-765d01df931d",
   "metadata": {},
   "outputs": [],
   "source": [
    "dfdata['BNDS'] = pd.to_numeric(dfdata['BNDS'], errors='coerce') "
   ]
  },
  {
   "cell_type": "code",
   "execution_count": 144,
   "id": "43c0a26f-d246-43fd-80ae-2f239fadc21e",
   "metadata": {},
   "outputs": [],
   "source": [
    "dfdata['COMM'] = pd.to_numeric(dfdata['COMM'], errors='coerce') "
   ]
  },
  {
   "cell_type": "code",
   "execution_count": 145,
   "id": "ab874f0b-568d-4f4e-b426-ca991391eb0e",
   "metadata": {},
   "outputs": [],
   "source": [
    "dfdata['STKS'] = pd.to_numeric(dfdata['STKS'], errors='coerce') "
   ]
  },
  {
   "cell_type": "code",
   "execution_count": 152,
   "id": "85fb5126-b0c9-4e9b-bc32-674289ff8160",
   "metadata": {},
   "outputs": [
    {
     "data": {
      "text/plain": [
       "Date    datetime64[ns]\n",
       "BNDS           float64\n",
       "COMM           float64\n",
       "STKS           float64\n",
       "dtype: object"
      ]
     },
     "execution_count": 152,
     "metadata": {},
     "output_type": "execute_result"
    }
   ],
   "source": [
    "dfdata.dtypes"
   ]
  },
  {
   "cell_type": "code",
   "execution_count": 160,
   "id": "64714e64-4993-4641-a2ef-2330a5121f06",
   "metadata": {},
   "outputs": [
    {
     "data": {
      "text/plain": [
       "(1259, 19)"
      ]
     },
     "execution_count": 160,
     "metadata": {},
     "output_type": "execute_result"
    }
   ],
   "source": [
    "data.shape"
   ]
  },
  {
   "cell_type": "code",
   "execution_count": 164,
   "id": "6827bf7f-cc57-474b-8bb5-2e06025cc760",
   "metadata": {},
   "outputs": [],
   "source": [
    "dfdata = dfdata.reset_index(drop=True)"
   ]
  },
  {
   "cell_type": "code",
   "execution_count": 165,
   "id": "ac688d94-f574-46ae-9db5-a2e9de8f5ed8",
   "metadata": {},
   "outputs": [
    {
     "data": {
      "text/html": [
       "<div>\n",
       "<style scoped>\n",
       "    .dataframe tbody tr th:only-of-type {\n",
       "        vertical-align: middle;\n",
       "    }\n",
       "\n",
       "    .dataframe tbody tr th {\n",
       "        vertical-align: top;\n",
       "    }\n",
       "\n",
       "    .dataframe thead th {\n",
       "        text-align: right;\n",
       "    }\n",
       "</style>\n",
       "<table border=\"1\" class=\"dataframe\">\n",
       "  <thead>\n",
       "    <tr style=\"text-align: right;\">\n",
       "      <th></th>\n",
       "      <th>Date</th>\n",
       "      <th>BNDS</th>\n",
       "      <th>COMM</th>\n",
       "      <th>STKS</th>\n",
       "    </tr>\n",
       "  </thead>\n",
       "  <tbody>\n",
       "    <tr>\n",
       "      <th>0</th>\n",
       "      <td>2020-01-02</td>\n",
       "      <td>95.997124</td>\n",
       "      <td>16.290001</td>\n",
       "      <td>298.578705</td>\n",
       "    </tr>\n",
       "    <tr>\n",
       "      <th>1</th>\n",
       "      <td>2020-01-03</td>\n",
       "      <td>96.278214</td>\n",
       "      <td>16.510000</td>\n",
       "      <td>296.317749</td>\n",
       "    </tr>\n",
       "    <tr>\n",
       "      <th>2</th>\n",
       "      <td>2020-01-06</td>\n",
       "      <td>96.201561</td>\n",
       "      <td>16.510000</td>\n",
       "      <td>297.448181</td>\n",
       "    </tr>\n",
       "    <tr>\n",
       "      <th>3</th>\n",
       "      <td>2020-01-07</td>\n",
       "      <td>96.099342</td>\n",
       "      <td>16.459999</td>\n",
       "      <td>296.611816</td>\n",
       "    </tr>\n",
       "    <tr>\n",
       "      <th>4</th>\n",
       "      <td>2020-01-08</td>\n",
       "      <td>95.988617</td>\n",
       "      <td>16.150000</td>\n",
       "      <td>298.192719</td>\n",
       "    </tr>\n",
       "    <tr>\n",
       "      <th>...</th>\n",
       "      <td>...</td>\n",
       "      <td>...</td>\n",
       "      <td>...</td>\n",
       "      <td>...</td>\n",
       "    </tr>\n",
       "    <tr>\n",
       "      <th>1253</th>\n",
       "      <td>2024-12-24</td>\n",
       "      <td>93.973129</td>\n",
       "      <td>21.389999</td>\n",
       "      <td>596.076904</td>\n",
       "    </tr>\n",
       "    <tr>\n",
       "      <th>1254</th>\n",
       "      <td>2024-12-26</td>\n",
       "      <td>94.041107</td>\n",
       "      <td>21.340000</td>\n",
       "      <td>596.116638</td>\n",
       "    </tr>\n",
       "    <tr>\n",
       "      <th>1255</th>\n",
       "      <td>2024-12-27</td>\n",
       "      <td>93.846901</td>\n",
       "      <td>21.420000</td>\n",
       "      <td>589.841553</td>\n",
       "    </tr>\n",
       "    <tr>\n",
       "      <th>1256</th>\n",
       "      <td>2024-12-30</td>\n",
       "      <td>94.215912</td>\n",
       "      <td>21.660000</td>\n",
       "      <td>583.110535</td>\n",
       "    </tr>\n",
       "    <tr>\n",
       "      <th>1257</th>\n",
       "      <td>2024-12-31</td>\n",
       "      <td>94.099380</td>\n",
       "      <td>21.770000</td>\n",
       "      <td>580.989136</td>\n",
       "    </tr>\n",
       "  </tbody>\n",
       "</table>\n",
       "<p>1258 rows × 4 columns</p>\n",
       "</div>"
      ],
      "text/plain": [
       "           Date       BNDS       COMM        STKS\n",
       "0    2020-01-02  95.997124  16.290001  298.578705\n",
       "1    2020-01-03  96.278214  16.510000  296.317749\n",
       "2    2020-01-06  96.201561  16.510000  297.448181\n",
       "3    2020-01-07  96.099342  16.459999  296.611816\n",
       "4    2020-01-08  95.988617  16.150000  298.192719\n",
       "...         ...        ...        ...         ...\n",
       "1253 2024-12-24  93.973129  21.389999  596.076904\n",
       "1254 2024-12-26  94.041107  21.340000  596.116638\n",
       "1255 2024-12-27  93.846901  21.420000  589.841553\n",
       "1256 2024-12-30  94.215912  21.660000  583.110535\n",
       "1257 2024-12-31  94.099380  21.770000  580.989136\n",
       "\n",
       "[1258 rows x 4 columns]"
      ]
     },
     "execution_count": 165,
     "metadata": {},
     "output_type": "execute_result"
    }
   ],
   "source": [
    "dfdata"
   ]
  },
  {
   "cell_type": "code",
   "execution_count": 207,
   "id": "e4243d28-0808-43bf-96af-a7969f79b46e",
   "metadata": {},
   "outputs": [],
   "source": [
    "dfprice= dfdata.copy()"
   ]
  },
  {
   "cell_type": "code",
   "execution_count": 208,
   "id": "74adaab6-59f7-4ffa-8c3c-a0982a760ea8",
   "metadata": {},
   "outputs": [
    {
     "data": {
      "text/plain": [
       "Index(['Date', 'BNDS', 'COMM', 'STKS'], dtype='object')"
      ]
     },
     "execution_count": 208,
     "metadata": {},
     "output_type": "execute_result"
    }
   ],
   "source": [
    "dfprice.columns"
   ]
  },
  {
   "cell_type": "code",
   "execution_count": 209,
   "id": "688dd142-1c05-4f2d-bff9-00d7fb5fbff4",
   "metadata": {},
   "outputs": [
    {
     "data": {
      "text/html": [
       "<div>\n",
       "<style scoped>\n",
       "    .dataframe tbody tr th:only-of-type {\n",
       "        vertical-align: middle;\n",
       "    }\n",
       "\n",
       "    .dataframe tbody tr th {\n",
       "        vertical-align: top;\n",
       "    }\n",
       "\n",
       "    .dataframe thead th {\n",
       "        text-align: right;\n",
       "    }\n",
       "</style>\n",
       "<table border=\"1\" class=\"dataframe\">\n",
       "  <thead>\n",
       "    <tr style=\"text-align: right;\">\n",
       "      <th></th>\n",
       "      <th>Date</th>\n",
       "      <th>BNDS</th>\n",
       "      <th>COMM</th>\n",
       "      <th>STKS</th>\n",
       "    </tr>\n",
       "  </thead>\n",
       "  <tbody>\n",
       "    <tr>\n",
       "      <th>0</th>\n",
       "      <td>2020-01-02</td>\n",
       "      <td>95.997124</td>\n",
       "      <td>16.290001</td>\n",
       "      <td>298.578705</td>\n",
       "    </tr>\n",
       "    <tr>\n",
       "      <th>1</th>\n",
       "      <td>2020-01-03</td>\n",
       "      <td>96.278214</td>\n",
       "      <td>16.510000</td>\n",
       "      <td>296.317749</td>\n",
       "    </tr>\n",
       "    <tr>\n",
       "      <th>2</th>\n",
       "      <td>2020-01-06</td>\n",
       "      <td>96.201561</td>\n",
       "      <td>16.510000</td>\n",
       "      <td>297.448181</td>\n",
       "    </tr>\n",
       "    <tr>\n",
       "      <th>3</th>\n",
       "      <td>2020-01-07</td>\n",
       "      <td>96.099342</td>\n",
       "      <td>16.459999</td>\n",
       "      <td>296.611816</td>\n",
       "    </tr>\n",
       "    <tr>\n",
       "      <th>4</th>\n",
       "      <td>2020-01-08</td>\n",
       "      <td>95.988617</td>\n",
       "      <td>16.150000</td>\n",
       "      <td>298.192719</td>\n",
       "    </tr>\n",
       "  </tbody>\n",
       "</table>\n",
       "</div>"
      ],
      "text/plain": [
       "        Date       BNDS       COMM        STKS\n",
       "0 2020-01-02  95.997124  16.290001  298.578705\n",
       "1 2020-01-03  96.278214  16.510000  296.317749\n",
       "2 2020-01-06  96.201561  16.510000  297.448181\n",
       "3 2020-01-07  96.099342  16.459999  296.611816\n",
       "4 2020-01-08  95.988617  16.150000  298.192719"
      ]
     },
     "execution_count": 209,
     "metadata": {},
     "output_type": "execute_result"
    }
   ],
   "source": [
    "dfprice.head()"
   ]
  },
  {
   "cell_type": "code",
   "execution_count": 210,
   "id": "f9a3d843-bfbb-4a66-b53a-268135316224",
   "metadata": {},
   "outputs": [],
   "source": [
    "dfprice = dfprice.drop(['Date'], axis=1)"
   ]
  },
  {
   "cell_type": "code",
   "execution_count": 212,
   "id": "cddbe082-7fb0-49c4-87b0-ef7ae628c208",
   "metadata": {},
   "outputs": [
    {
     "data": {
      "text/html": [
       "<div>\n",
       "<style scoped>\n",
       "    .dataframe tbody tr th:only-of-type {\n",
       "        vertical-align: middle;\n",
       "    }\n",
       "\n",
       "    .dataframe tbody tr th {\n",
       "        vertical-align: top;\n",
       "    }\n",
       "\n",
       "    .dataframe thead th {\n",
       "        text-align: right;\n",
       "    }\n",
       "</style>\n",
       "<table border=\"1\" class=\"dataframe\">\n",
       "  <thead>\n",
       "    <tr style=\"text-align: right;\">\n",
       "      <th></th>\n",
       "      <th>BNDS</th>\n",
       "      <th>COMM</th>\n",
       "      <th>STKS</th>\n",
       "    </tr>\n",
       "  </thead>\n",
       "  <tbody>\n",
       "    <tr>\n",
       "      <th>0</th>\n",
       "      <td>95.997124</td>\n",
       "      <td>16.290001</td>\n",
       "      <td>298.578705</td>\n",
       "    </tr>\n",
       "    <tr>\n",
       "      <th>1</th>\n",
       "      <td>96.278214</td>\n",
       "      <td>16.510000</td>\n",
       "      <td>296.317749</td>\n",
       "    </tr>\n",
       "    <tr>\n",
       "      <th>2</th>\n",
       "      <td>96.201561</td>\n",
       "      <td>16.510000</td>\n",
       "      <td>297.448181</td>\n",
       "    </tr>\n",
       "    <tr>\n",
       "      <th>3</th>\n",
       "      <td>96.099342</td>\n",
       "      <td>16.459999</td>\n",
       "      <td>296.611816</td>\n",
       "    </tr>\n",
       "    <tr>\n",
       "      <th>4</th>\n",
       "      <td>95.988617</td>\n",
       "      <td>16.150000</td>\n",
       "      <td>298.192719</td>\n",
       "    </tr>\n",
       "  </tbody>\n",
       "</table>\n",
       "</div>"
      ],
      "text/plain": [
       "        BNDS       COMM        STKS\n",
       "0  95.997124  16.290001  298.578705\n",
       "1  96.278214  16.510000  296.317749\n",
       "2  96.201561  16.510000  297.448181\n",
       "3  96.099342  16.459999  296.611816\n",
       "4  95.988617  16.150000  298.192719"
      ]
     },
     "execution_count": 212,
     "metadata": {},
     "output_type": "execute_result"
    }
   ],
   "source": [
    "dfprice.head()"
   ]
  },
  {
   "cell_type": "code",
   "execution_count": 213,
   "id": "74fb3c0f-6897-49e2-b407-645a15f09359",
   "metadata": {},
   "outputs": [],
   "source": [
    "#returns = np.log(dfprice / dfprice.shift(1)).dropna()"
   ]
  },
  {
   "cell_type": "code",
   "execution_count": 268,
   "id": "64c2a3bb-13fc-4ca4-b346-9017ce11a6e4",
   "metadata": {},
   "outputs": [
    {
     "data": {
      "text/html": [
       "<div>\n",
       "<style scoped>\n",
       "    .dataframe tbody tr th:only-of-type {\n",
       "        vertical-align: middle;\n",
       "    }\n",
       "\n",
       "    .dataframe tbody tr th {\n",
       "        vertical-align: top;\n",
       "    }\n",
       "\n",
       "    .dataframe thead th {\n",
       "        text-align: right;\n",
       "    }\n",
       "</style>\n",
       "<table border=\"1\" class=\"dataframe\">\n",
       "  <thead>\n",
       "    <tr style=\"text-align: right;\">\n",
       "      <th></th>\n",
       "      <th>BNDS</th>\n",
       "      <th>COMM</th>\n",
       "      <th>STKS</th>\n",
       "    </tr>\n",
       "  </thead>\n",
       "  <tbody>\n",
       "    <tr>\n",
       "      <th>1</th>\n",
       "      <td>0.002924</td>\n",
       "      <td>0.013415</td>\n",
       "      <td>-0.007601</td>\n",
       "    </tr>\n",
       "    <tr>\n",
       "      <th>2</th>\n",
       "      <td>-0.000796</td>\n",
       "      <td>0.000000</td>\n",
       "      <td>0.003808</td>\n",
       "    </tr>\n",
       "    <tr>\n",
       "      <th>3</th>\n",
       "      <td>-0.001063</td>\n",
       "      <td>-0.003033</td>\n",
       "      <td>-0.002816</td>\n",
       "    </tr>\n",
       "    <tr>\n",
       "      <th>4</th>\n",
       "      <td>-0.001153</td>\n",
       "      <td>-0.019013</td>\n",
       "      <td>0.005316</td>\n",
       "    </tr>\n",
       "    <tr>\n",
       "      <th>5</th>\n",
       "      <td>0.001064</td>\n",
       "      <td>-0.007458</td>\n",
       "      <td>0.006758</td>\n",
       "    </tr>\n",
       "  </tbody>\n",
       "</table>\n",
       "</div>"
      ],
      "text/plain": [
       "       BNDS      COMM      STKS\n",
       "1  0.002924  0.013415 -0.007601\n",
       "2 -0.000796  0.000000  0.003808\n",
       "3 -0.001063 -0.003033 -0.002816\n",
       "4 -0.001153 -0.019013  0.005316\n",
       "5  0.001064 -0.007458  0.006758"
      ]
     },
     "execution_count": 268,
     "metadata": {},
     "output_type": "execute_result"
    }
   ],
   "source": [
    "#return1 = dfAdjClose.groupby('Ticker').pct_change()\n",
    "returns.head()"
   ]
  },
  {
   "cell_type": "code",
   "execution_count": 265,
   "id": "8db8c620-43eb-4250-a13b-7ad5595cd280",
   "metadata": {},
   "outputs": [
    {
     "data": {
      "text/html": [
       "<div>\n",
       "<style scoped>\n",
       "    .dataframe tbody tr th:only-of-type {\n",
       "        vertical-align: middle;\n",
       "    }\n",
       "\n",
       "    .dataframe tbody tr th {\n",
       "        vertical-align: top;\n",
       "    }\n",
       "\n",
       "    .dataframe thead th {\n",
       "        text-align: right;\n",
       "    }\n",
       "</style>\n",
       "<table border=\"1\" class=\"dataframe\">\n",
       "  <thead>\n",
       "    <tr style=\"text-align: right;\">\n",
       "      <th></th>\n",
       "      <th>Date</th>\n",
       "      <th>BNDS</th>\n",
       "      <th>COMM</th>\n",
       "      <th>STKS</th>\n",
       "    </tr>\n",
       "  </thead>\n",
       "  <tbody>\n",
       "    <tr>\n",
       "      <th>0</th>\n",
       "      <td>2020-01-02</td>\n",
       "      <td>95.997124</td>\n",
       "      <td>16.290001</td>\n",
       "      <td>298.578705</td>\n",
       "    </tr>\n",
       "    <tr>\n",
       "      <th>1</th>\n",
       "      <td>2020-01-03</td>\n",
       "      <td>96.278214</td>\n",
       "      <td>16.510000</td>\n",
       "      <td>296.317749</td>\n",
       "    </tr>\n",
       "    <tr>\n",
       "      <th>2</th>\n",
       "      <td>2020-01-06</td>\n",
       "      <td>96.201561</td>\n",
       "      <td>16.510000</td>\n",
       "      <td>297.448181</td>\n",
       "    </tr>\n",
       "    <tr>\n",
       "      <th>3</th>\n",
       "      <td>2020-01-07</td>\n",
       "      <td>96.099342</td>\n",
       "      <td>16.459999</td>\n",
       "      <td>296.611816</td>\n",
       "    </tr>\n",
       "    <tr>\n",
       "      <th>4</th>\n",
       "      <td>2020-01-08</td>\n",
       "      <td>95.988617</td>\n",
       "      <td>16.150000</td>\n",
       "      <td>298.192719</td>\n",
       "    </tr>\n",
       "  </tbody>\n",
       "</table>\n",
       "</div>"
      ],
      "text/plain": [
       "        Date       BNDS       COMM        STKS\n",
       "0 2020-01-02  95.997124  16.290001  298.578705\n",
       "1 2020-01-03  96.278214  16.510000  296.317749\n",
       "2 2020-01-06  96.201561  16.510000  297.448181\n",
       "3 2020-01-07  96.099342  16.459999  296.611816\n",
       "4 2020-01-08  95.988617  16.150000  298.192719"
      ]
     },
     "execution_count": 265,
     "metadata": {},
     "output_type": "execute_result"
    }
   ],
   "source": [
    "dfdata.head()"
   ]
  },
  {
   "cell_type": "code",
   "execution_count": 297,
   "id": "f14a8d2e-e7cc-4e7f-b37f-25749ce4872d",
   "metadata": {},
   "outputs": [],
   "source": [
    "dfreturn= dfdata.copy()"
   ]
  },
  {
   "cell_type": "code",
   "execution_count": 298,
   "id": "4f101f38-1230-41f4-9986-2574c49a301b",
   "metadata": {},
   "outputs": [
    {
     "data": {
      "text/html": [
       "<div>\n",
       "<style scoped>\n",
       "    .dataframe tbody tr th:only-of-type {\n",
       "        vertical-align: middle;\n",
       "    }\n",
       "\n",
       "    .dataframe tbody tr th {\n",
       "        vertical-align: top;\n",
       "    }\n",
       "\n",
       "    .dataframe thead th {\n",
       "        text-align: right;\n",
       "    }\n",
       "</style>\n",
       "<table border=\"1\" class=\"dataframe\">\n",
       "  <thead>\n",
       "    <tr style=\"text-align: right;\">\n",
       "      <th></th>\n",
       "      <th>Date</th>\n",
       "      <th>BNDS</th>\n",
       "      <th>COMM</th>\n",
       "      <th>STKS</th>\n",
       "    </tr>\n",
       "  </thead>\n",
       "  <tbody>\n",
       "    <tr>\n",
       "      <th>0</th>\n",
       "      <td>2020-01-02</td>\n",
       "      <td>95.997124</td>\n",
       "      <td>16.290001</td>\n",
       "      <td>298.578705</td>\n",
       "    </tr>\n",
       "    <tr>\n",
       "      <th>1</th>\n",
       "      <td>2020-01-03</td>\n",
       "      <td>96.278214</td>\n",
       "      <td>16.510000</td>\n",
       "      <td>296.317749</td>\n",
       "    </tr>\n",
       "    <tr>\n",
       "      <th>2</th>\n",
       "      <td>2020-01-06</td>\n",
       "      <td>96.201561</td>\n",
       "      <td>16.510000</td>\n",
       "      <td>297.448181</td>\n",
       "    </tr>\n",
       "    <tr>\n",
       "      <th>3</th>\n",
       "      <td>2020-01-07</td>\n",
       "      <td>96.099342</td>\n",
       "      <td>16.459999</td>\n",
       "      <td>296.611816</td>\n",
       "    </tr>\n",
       "    <tr>\n",
       "      <th>4</th>\n",
       "      <td>2020-01-08</td>\n",
       "      <td>95.988617</td>\n",
       "      <td>16.150000</td>\n",
       "      <td>298.192719</td>\n",
       "    </tr>\n",
       "  </tbody>\n",
       "</table>\n",
       "</div>"
      ],
      "text/plain": [
       "        Date       BNDS       COMM        STKS\n",
       "0 2020-01-02  95.997124  16.290001  298.578705\n",
       "1 2020-01-03  96.278214  16.510000  296.317749\n",
       "2 2020-01-06  96.201561  16.510000  297.448181\n",
       "3 2020-01-07  96.099342  16.459999  296.611816\n",
       "4 2020-01-08  95.988617  16.150000  298.192719"
      ]
     },
     "execution_count": 298,
     "metadata": {},
     "output_type": "execute_result"
    }
   ],
   "source": [
    "dfdata.head()"
   ]
  },
  {
   "cell_type": "code",
   "execution_count": 272,
   "id": "d42ca139-f4f4-4d4d-bc7b-14c2f54a1508",
   "metadata": {},
   "outputs": [],
   "source": [
    "dfreturn = dfreturn.drop(['Date'], axis=1)"
   ]
  },
  {
   "cell_type": "code",
   "execution_count": 273,
   "id": "4b0c4f3d-f3cd-42c8-9457-c6721e60fb1d",
   "metadata": {},
   "outputs": [],
   "source": [
    "dfreturn = dfreturn.reset_index(drop=True)"
   ]
  },
  {
   "cell_type": "code",
   "execution_count": 274,
   "id": "e1ed768f-d57f-431d-b059-c99bced3c716",
   "metadata": {},
   "outputs": [],
   "source": [
    "dfreturn = dfreturn.pct_change().dropna()"
   ]
  },
  {
   "cell_type": "code",
   "execution_count": 275,
   "id": "5c00fdfa-a79f-44c0-b3a6-85e82df08ac9",
   "metadata": {},
   "outputs": [
    {
     "data": {
      "text/html": [
       "<div>\n",
       "<style scoped>\n",
       "    .dataframe tbody tr th:only-of-type {\n",
       "        vertical-align: middle;\n",
       "    }\n",
       "\n",
       "    .dataframe tbody tr th {\n",
       "        vertical-align: top;\n",
       "    }\n",
       "\n",
       "    .dataframe thead th {\n",
       "        text-align: right;\n",
       "    }\n",
       "</style>\n",
       "<table border=\"1\" class=\"dataframe\">\n",
       "  <thead>\n",
       "    <tr style=\"text-align: right;\">\n",
       "      <th></th>\n",
       "      <th>BNDS</th>\n",
       "      <th>COMM</th>\n",
       "      <th>STKS</th>\n",
       "    </tr>\n",
       "  </thead>\n",
       "  <tbody>\n",
       "    <tr>\n",
       "      <th>1</th>\n",
       "      <td>0.002928</td>\n",
       "      <td>0.013505</td>\n",
       "      <td>-0.007572</td>\n",
       "    </tr>\n",
       "    <tr>\n",
       "      <th>2</th>\n",
       "      <td>-0.000796</td>\n",
       "      <td>0.000000</td>\n",
       "      <td>0.003815</td>\n",
       "    </tr>\n",
       "    <tr>\n",
       "      <th>3</th>\n",
       "      <td>-0.001063</td>\n",
       "      <td>-0.003029</td>\n",
       "      <td>-0.002812</td>\n",
       "    </tr>\n",
       "    <tr>\n",
       "      <th>4</th>\n",
       "      <td>-0.001152</td>\n",
       "      <td>-0.018834</td>\n",
       "      <td>0.005330</td>\n",
       "    </tr>\n",
       "    <tr>\n",
       "      <th>5</th>\n",
       "      <td>0.001065</td>\n",
       "      <td>-0.007430</td>\n",
       "      <td>0.006781</td>\n",
       "    </tr>\n",
       "  </tbody>\n",
       "</table>\n",
       "</div>"
      ],
      "text/plain": [
       "       BNDS      COMM      STKS\n",
       "1  0.002928  0.013505 -0.007572\n",
       "2 -0.000796  0.000000  0.003815\n",
       "3 -0.001063 -0.003029 -0.002812\n",
       "4 -0.001152 -0.018834  0.005330\n",
       "5  0.001065 -0.007430  0.006781"
      ]
     },
     "execution_count": 275,
     "metadata": {},
     "output_type": "execute_result"
    }
   ],
   "source": [
    "dfreturn.head()"
   ]
  },
  {
   "cell_type": "code",
   "execution_count": 276,
   "id": "6c9e93fa-f48e-4f09-b84d-a52dbf58132c",
   "metadata": {},
   "outputs": [],
   "source": [
    "mean_returns = dfreturn.mean() * 252"
   ]
  },
  {
   "cell_type": "code",
   "execution_count": 277,
   "id": "19b5b78a-fce2-46c4-b5b6-d085c94012d8",
   "metadata": {},
   "outputs": [
    {
     "data": {
      "text/plain": [
       "BNDS   -0.001665\n",
       "COMM    0.089492\n",
       "STKS    0.155639\n",
       "dtype: float64"
      ]
     },
     "execution_count": 277,
     "metadata": {},
     "output_type": "execute_result"
    }
   ],
   "source": [
    "mean_returns"
   ]
  },
  {
   "cell_type": "code",
   "execution_count": 278,
   "id": "021dc07e-2ef9-4b25-a1c5-88bd204283fa",
   "metadata": {},
   "outputs": [],
   "source": [
    "cov_matrix = dfreturn.cov() * 252"
   ]
  },
  {
   "cell_type": "code",
   "execution_count": 279,
   "id": "9740866b-fbca-41c5-b3c7-2965e4144828",
   "metadata": {},
   "outputs": [
    {
     "data": {
      "text/html": [
       "<div>\n",
       "<style scoped>\n",
       "    .dataframe tbody tr th:only-of-type {\n",
       "        vertical-align: middle;\n",
       "    }\n",
       "\n",
       "    .dataframe tbody tr th {\n",
       "        vertical-align: top;\n",
       "    }\n",
       "\n",
       "    .dataframe thead th {\n",
       "        text-align: right;\n",
       "    }\n",
       "</style>\n",
       "<table border=\"1\" class=\"dataframe\">\n",
       "  <thead>\n",
       "    <tr style=\"text-align: right;\">\n",
       "      <th></th>\n",
       "      <th>BNDS</th>\n",
       "      <th>COMM</th>\n",
       "      <th>STKS</th>\n",
       "    </tr>\n",
       "  </thead>\n",
       "  <tbody>\n",
       "    <tr>\n",
       "      <th>BNDS</th>\n",
       "      <td>0.004665</td>\n",
       "      <td>0.000365</td>\n",
       "      <td>0.002653</td>\n",
       "    </tr>\n",
       "    <tr>\n",
       "      <th>COMM</th>\n",
       "      <td>0.000365</td>\n",
       "      <td>0.061985</td>\n",
       "      <td>0.017827</td>\n",
       "    </tr>\n",
       "    <tr>\n",
       "      <th>STKS</th>\n",
       "      <td>0.002653</td>\n",
       "      <td>0.017827</td>\n",
       "      <td>0.044089</td>\n",
       "    </tr>\n",
       "  </tbody>\n",
       "</table>\n",
       "</div>"
      ],
      "text/plain": [
       "          BNDS      COMM      STKS\n",
       "BNDS  0.004665  0.000365  0.002653\n",
       "COMM  0.000365  0.061985  0.017827\n",
       "STKS  0.002653  0.017827  0.044089"
      ]
     },
     "execution_count": 279,
     "metadata": {},
     "output_type": "execute_result"
    }
   ],
   "source": [
    "cov_matrix"
   ]
  },
  {
   "cell_type": "code",
   "execution_count": 282,
   "id": "4248d01a-3262-4053-8f09-8b3899e23cc5",
   "metadata": {},
   "outputs": [],
   "source": [
    "stdDiv = dfdata.std()"
   ]
  },
  {
   "cell_type": "code",
   "execution_count": 283,
   "id": "81d5fede-5f2a-47d7-8c0b-624267a6e1e5",
   "metadata": {},
   "outputs": [
    {
     "data": {
      "text/plain": [
       "Date    527 days 10:36:33.005863304\n",
       "BNDS                       5.344193\n",
       "COMM                       4.400391\n",
       "STKS                      80.832172\n",
       "dtype: object"
      ]
     },
     "execution_count": 283,
     "metadata": {},
     "output_type": "execute_result"
    }
   ],
   "source": [
    "stdDiv"
   ]
  },
  {
   "cell_type": "code",
   "execution_count": 284,
   "id": "a65818e8-39a6-495a-8c17-df236f8e34e7",
   "metadata": {},
   "outputs": [],
   "source": [
    "def portfolio_stats(weights, mean_returns, cov_matrix):\n",
    "    port_return = np.dot(weights, mean_returns)\n",
    "    port_vol = np.sqrt(np.dot(weights.T, np.dot(cov_matrix, weights)))\n",
    "    return port_return, port_vol"
   ]
  },
  {
   "cell_type": "code",
   "execution_count": 285,
   "id": "e885acbc-8475-4ada-9dd7-d2563b2c0b48",
   "metadata": {},
   "outputs": [],
   "source": [
    "num_assets = len(mean_returns)\n",
    "initial_weights = np.repeat(1/num_assets, num_assets)\n",
    "bounds = tuple((0, 0.6) for _ in range(num_assets))\n",
    "constraints = {'type': 'eq', 'fun': lambda w: np.sum(w) - 1}"
   ]
  },
  {
   "cell_type": "code",
   "execution_count": 286,
   "id": "38f277f9-ac30-41ae-b658-331152da0b42",
   "metadata": {},
   "outputs": [],
   "source": [
    "def min_vol_portfolio(mean_returns, cov_matrix):\n",
    "    result = minimize(lambda w: portfolio_stats(w, mean_returns, cov_matrix)[1],\n",
    "                      initial_weights, method='SLSQP', bounds=bounds, constraints=constraints)\n",
    "    return result\n"
   ]
  },
  {
   "cell_type": "code",
   "execution_count": 287,
   "id": "f08ddbc3-3575-479a-8dcd-8380ff5828f5",
   "metadata": {},
   "outputs": [],
   "source": [
    "min_vol = min_vol_portfolio(mean_returns, cov_matrix)\n",
    "min_weights = min_vol.x\n",
    "min_ret, min_volatility = portfolio_stats(min_weights, mean_returns, cov_matrix)"
   ]
  },
  {
   "cell_type": "code",
   "execution_count": 288,
   "id": "cd02346b-89a1-4c77-b01e-1caf4848103a",
   "metadata": {},
   "outputs": [],
   "source": [
    "target_returns = np.linspace(0.03, 0.08, 30)\n",
    "frontier_vols = []"
   ]
  },
  {
   "cell_type": "code",
   "execution_count": 289,
   "id": "3361557d-7cce-4966-ae6a-a6c3142d7486",
   "metadata": {},
   "outputs": [],
   "source": [
    "for tr in target_returns:\n",
    "    cons = [{'type': 'eq', 'fun': lambda w: np.sum(w) - 1},\n",
    "            {'type': 'eq', 'fun': lambda w: np.dot(w, mean_returns) - tr}]\n",
    "    res = minimize(lambda w: portfolio_stats(w, mean_returns, cov_matrix)[1],\n",
    "                   initial_weights, method='SLSQP', bounds=bounds, constraints=cons)\n",
    "    frontier_vols.append(res.fun)"
   ]
  },
  {
   "cell_type": "code",
   "execution_count": 296,
   "id": "9c46816e-f378-4297-865d-29587b79dfc0",
   "metadata": {},
   "outputs": [
    {
     "name": "stdout",
     "output_type": "stream",
     "text": [
      "======== LOW-RISK MEAN-VARIANCE OPTIMIZATION ========\n",
      "Expected Annualized Returns (%):\n",
      "BNDS    -0.17\n",
      "COMM     8.95\n",
      "STKS    15.56\n",
      "dtype: float64\n",
      "\n",
      "Covariance Matrix (Annualized):\n",
      "        BNDS    COMM    STKS\n",
      "BNDS  0.0047  0.0004  0.0027\n",
      "COMM  0.0004  0.0620  0.0178\n",
      "STKS  0.0027  0.0178  0.0441\n",
      "\n",
      "Minimum Volatility Portfolio Weights:\n",
      "US Stocks (SPY): 60.00%\n",
      "US Bonds (AGG): 16.87%\n",
      "Commodities (GSG): 23.13%\n"
     ]
    }
   ],
   "source": [
    "print(\"======== LOW-RISK MEAN-VARIANCE OPTIMIZATION ========\")\n",
    "print(\"Expected Annualized Returns (%):\")\n",
    "print((mean_returns * 100).round(2))\n",
    "print(\"\\nCovariance Matrix (Annualized):\")\n",
    "print(cov_matrix.round(4))\n",
    "print(\"\\nMinimum Volatility Portfolio Weights:\")\n",
    "for name, w in zip(tickers.keys(), min_weights):\n",
    "    print(f\"{name}: {w*100:.2f}%\")"
   ]
  },
  {
   "cell_type": "code",
   "execution_count": 291,
   "id": "c3ea08b9-caab-4585-bbb4-97edf405ff8d",
   "metadata": {},
   "outputs": [
    {
     "name": "stdout",
     "output_type": "stream",
     "text": [
      "\n",
      "Expected Portfolio Return: 5.01%\n",
      "Expected Portfolio Volatility: 8.95%\n"
     ]
    }
   ],
   "source": [
    "print(f\"\\nExpected Portfolio Return: {min_ret:.2%}\")\n",
    "print(f\"Expected Portfolio Volatility: {min_volatility:.2%}\")"
   ]
  },
  {
   "cell_type": "code",
   "execution_count": 292,
   "id": "cc1aa6a7-99ea-4420-ae96-01eec825b0dc",
   "metadata": {
    "scrolled": true
   },
   "outputs": [
    {
     "data": {
      "image/png": "[encoded data removed]",
      "text/plain": [
       "<Figure size 1000x600 with 1 Axes>"
      ]
     },
     "metadata": {},
     "output_type": "display_data"
    }
   ],
   "source": [
    "plt.figure(figsize=(10,6))\n",
    "plt.plot(np.array(frontier_vols)*100, target_returns*100, 'b--', label='Efficient Frontier')\n",
    "plt.scatter(min_volatility*100, min_ret*100, c='red', marker='*', s=200, label='Minimum Volatility Portfolio')\n",
    "plt.title(\"Efficient Frontier using ETF Proxies (Low Risk Tolerance)\")\n",
    "plt.xlabel(\"Annualized Volatility (%)\")\n",
    "plt.ylabel(\"Expected Annual Return (%)\")\n",
    "plt.legend()\n",
    "plt.grid(True)\n",
    "plt.show()"
   ]
  },
  {
   "cell_type": "code",
   "execution_count": null,
   "id": "bd18aa9e-97af-4a76-ac92-0980fc165765",
   "metadata": {},
   "outputs": [],
   "source": [
    "##dfhrp = dfdata.copy()"
   ]
  },
  {
   "cell_type": "code",
   "execution_count": 430,
   "id": "bb65d45d-c905-4261-83b4-fd74aca22a28",
   "metadata": {},
   "outputs": [],
   "source": [
    "#hrp = HRPOpt(returns=returns, cov_matrix=cov_matrix)"
   ]
  },
  {
   "cell_type": "code",
   "execution_count": 431,
   "id": "4c1d1199-3dd7-4b46-92b4-a4210fc1eabc",
   "metadata": {},
   "outputs": [
    {
     "data": {
      "text/plain": [
       "OrderedDict([('BNDS', 0.8178609793404243),\n",
       "             ('COMM', 0.07981785141615139),\n",
       "             ('STKS', 0.10232116924342431)])"
      ]
     },
     "execution_count": 431,
     "metadata": {},
     "output_type": "execute_result"
    }
   ],
   "source": [
    "#hrp.optimize()"
   ]
  },
  {
   "cell_type": "code",
   "execution_count": 432,
   "id": "b3994a1e-f15f-4592-b979-301dcb170b86",
   "metadata": {},
   "outputs": [
    {
     "data": {
      "text/html": [
       "<div>\n",
       "<style scoped>\n",
       "    .dataframe tbody tr th:only-of-type {\n",
       "        vertical-align: middle;\n",
       "    }\n",
       "\n",
       "    .dataframe tbody tr th {\n",
       "        vertical-align: top;\n",
       "    }\n",
       "\n",
       "    .dataframe thead th {\n",
       "        text-align: right;\n",
       "    }\n",
       "</style>\n",
       "<table border=\"1\" class=\"dataframe\">\n",
       "  <thead>\n",
       "    <tr style=\"text-align: right;\">\n",
       "      <th></th>\n",
       "      <th>BNDS</th>\n",
       "      <th>COMM</th>\n",
       "      <th>STKS</th>\n",
       "    </tr>\n",
       "  </thead>\n",
       "  <tbody>\n",
       "    <tr>\n",
       "      <th>BNDS</th>\n",
       "      <td>0.004665</td>\n",
       "      <td>0.000365</td>\n",
       "      <td>0.002653</td>\n",
       "    </tr>\n",
       "    <tr>\n",
       "      <th>COMM</th>\n",
       "      <td>0.000365</td>\n",
       "      <td>0.061985</td>\n",
       "      <td>0.017827</td>\n",
       "    </tr>\n",
       "    <tr>\n",
       "      <th>STKS</th>\n",
       "      <td>0.002653</td>\n",
       "      <td>0.017827</td>\n",
       "      <td>0.044089</td>\n",
       "    </tr>\n",
       "  </tbody>\n",
       "</table>\n",
       "</div>"
      ],
      "text/plain": [
       "          BNDS      COMM      STKS\n",
       "BNDS  0.004665  0.000365  0.002653\n",
       "COMM  0.000365  0.061985  0.017827\n",
       "STKS  0.002653  0.017827  0.044089"
      ]
     },
     "execution_count": 432,
     "metadata": {},
     "output_type": "execute_result"
    }
   ],
   "source": [
    "cov_matrix"
   ]
  },
  {
   "cell_type": "code",
   "execution_count": 433,
   "id": "49720620-7325-42ce-b880-b484dc2c6c00",
   "metadata": {},
   "outputs": [],
   "source": [
    "#weights = hrp.optimize()"
   ]
  },
  {
   "cell_type": "code",
   "execution_count": 434,
   "id": "cd5fbac3-8db6-43a8-8ce2-b8fb09d609b5",
   "metadata": {},
   "outputs": [],
   "source": [
    "linkage_matrix = hrp.clusters"
   ]
  },
  {
   "cell_type": "code",
   "execution_count": 435,
   "id": "4567fd83-fb32-45e0-ae8f-9c5a30a7ade2",
   "metadata": {},
   "outputs": [
    {
     "data": {
      "text/plain": [
       "array([[0.        , 2.        , 0.45944544, 2.        ],\n",
       "       [1.        , 3.        , 0.56158288, 3.        ]])"
      ]
     },
     "execution_count": 435,
     "metadata": {},
     "output_type": "execute_result"
    }
   ],
   "source": [
    "linkage_matrix"
   ]
  },
  {
   "cell_type": "code",
   "execution_count": 387,
   "id": "7822b9bc-669b-4169-9fab-8ec2594ff5d5",
   "metadata": {},
   "outputs": [
    {
     "data": {
      "text/html": [
       "<div>\n",
       "<style scoped>\n",
       "    .dataframe tbody tr th:only-of-type {\n",
       "        vertical-align: middle;\n",
       "    }\n",
       "\n",
       "    .dataframe tbody tr th {\n",
       "        vertical-align: top;\n",
       "    }\n",
       "\n",
       "    .dataframe thead th {\n",
       "        text-align: right;\n",
       "    }\n",
       "</style>\n",
       "<table border=\"1\" class=\"dataframe\">\n",
       "  <thead>\n",
       "    <tr style=\"text-align: right;\">\n",
       "      <th></th>\n",
       "      <th>Date</th>\n",
       "      <th>BNDS</th>\n",
       "      <th>COMM</th>\n",
       "      <th>STKS</th>\n",
       "    </tr>\n",
       "  </thead>\n",
       "  <tbody>\n",
       "    <tr>\n",
       "      <th>0</th>\n",
       "      <td>2020-01-02</td>\n",
       "      <td>95.997124</td>\n",
       "      <td>16.290001</td>\n",
       "      <td>298.578705</td>\n",
       "    </tr>\n",
       "    <tr>\n",
       "      <th>1</th>\n",
       "      <td>2020-01-03</td>\n",
       "      <td>96.278214</td>\n",
       "      <td>16.510000</td>\n",
       "      <td>296.317749</td>\n",
       "    </tr>\n",
       "    <tr>\n",
       "      <th>2</th>\n",
       "      <td>2020-01-06</td>\n",
       "      <td>96.201561</td>\n",
       "      <td>16.510000</td>\n",
       "      <td>297.448181</td>\n",
       "    </tr>\n",
       "    <tr>\n",
       "      <th>3</th>\n",
       "      <td>2020-01-07</td>\n",
       "      <td>96.099342</td>\n",
       "      <td>16.459999</td>\n",
       "      <td>296.611816</td>\n",
       "    </tr>\n",
       "    <tr>\n",
       "      <th>4</th>\n",
       "      <td>2020-01-08</td>\n",
       "      <td>95.988617</td>\n",
       "      <td>16.150000</td>\n",
       "      <td>298.192719</td>\n",
       "    </tr>\n",
       "  </tbody>\n",
       "</table>\n",
       "</div>"
      ],
      "text/plain": [
       "        Date       BNDS       COMM        STKS\n",
       "0 2020-01-02  95.997124  16.290001  298.578705\n",
       "1 2020-01-03  96.278214  16.510000  296.317749\n",
       "2 2020-01-06  96.201561  16.510000  297.448181\n",
       "3 2020-01-07  96.099342  16.459999  296.611816\n",
       "4 2020-01-08  95.988617  16.150000  298.192719"
      ]
     },
     "execution_count": 387,
     "metadata": {},
     "output_type": "execute_result"
    }
   ],
   "source": [
    "dfdata.head()"
   ]
  },
  {
   "cell_type": "code",
   "execution_count": 388,
   "id": "f3c38081-f325-4a73-b1aa-44e1a89db3dc",
   "metadata": {},
   "outputs": [
    {
     "data": {
      "text/html": [
       "<div>\n",
       "<style scoped>\n",
       "    .dataframe tbody tr th:only-of-type {\n",
       "        vertical-align: middle;\n",
       "    }\n",
       "\n",
       "    .dataframe tbody tr th {\n",
       "        vertical-align: top;\n",
       "    }\n",
       "\n",
       "    .dataframe thead th {\n",
       "        text-align: right;\n",
       "    }\n",
       "</style>\n",
       "<table border=\"1\" class=\"dataframe\">\n",
       "  <thead>\n",
       "    <tr style=\"text-align: right;\">\n",
       "      <th></th>\n",
       "      <th>Date</th>\n",
       "      <th>BNDS</th>\n",
       "      <th>COMM</th>\n",
       "      <th>STKS</th>\n",
       "    </tr>\n",
       "  </thead>\n",
       "  <tbody>\n",
       "    <tr>\n",
       "      <th>0</th>\n",
       "      <td>2020-01-02</td>\n",
       "      <td>95.997124</td>\n",
       "      <td>16.290001</td>\n",
       "      <td>298.578705</td>\n",
       "    </tr>\n",
       "    <tr>\n",
       "      <th>1</th>\n",
       "      <td>2020-01-03</td>\n",
       "      <td>96.278214</td>\n",
       "      <td>16.510000</td>\n",
       "      <td>296.317749</td>\n",
       "    </tr>\n",
       "    <tr>\n",
       "      <th>2</th>\n",
       "      <td>2020-01-06</td>\n",
       "      <td>96.201561</td>\n",
       "      <td>16.510000</td>\n",
       "      <td>297.448181</td>\n",
       "    </tr>\n",
       "    <tr>\n",
       "      <th>3</th>\n",
       "      <td>2020-01-07</td>\n",
       "      <td>96.099342</td>\n",
       "      <td>16.459999</td>\n",
       "      <td>296.611816</td>\n",
       "    </tr>\n",
       "    <tr>\n",
       "      <th>4</th>\n",
       "      <td>2020-01-08</td>\n",
       "      <td>95.988617</td>\n",
       "      <td>16.150000</td>\n",
       "      <td>298.192719</td>\n",
       "    </tr>\n",
       "  </tbody>\n",
       "</table>\n",
       "</div>"
      ],
      "text/plain": [
       "        Date       BNDS       COMM        STKS\n",
       "0 2020-01-02  95.997124  16.290001  298.578705\n",
       "1 2020-01-03  96.278214  16.510000  296.317749\n",
       "2 2020-01-06  96.201561  16.510000  297.448181\n",
       "3 2020-01-07  96.099342  16.459999  296.611816\n",
       "4 2020-01-08  95.988617  16.150000  298.192719"
      ]
     },
     "execution_count": 388,
     "metadata": {},
     "output_type": "execute_result"
    }
   ],
   "source": [
    "dfhrp.head()"
   ]
  },
  {
   "cell_type": "code",
   "execution_count": 389,
   "id": "1ad2e9a1-24a5-4a0d-9446-65147bd463d7",
   "metadata": {},
   "outputs": [
    {
     "data": {
      "text/plain": [
       "Index(['Date', 'BNDS', 'COMM', 'STKS'], dtype='object')"
      ]
     },
     "execution_count": 389,
     "metadata": {},
     "output_type": "execute_result"
    }
   ],
   "source": [
    "dfhrp.columns"
   ]
  },
  {
   "cell_type": "code",
   "execution_count": 391,
   "id": "b14ac8e7-97ee-4fc7-b04f-2fa9101d5a3d",
   "metadata": {},
   "outputs": [
    {
     "data": {
      "text/plain": [
       "Date    datetime64[ns]\n",
       "BNDS           float64\n",
       "COMM           float64\n",
       "STKS           float64\n",
       "dtype: object"
      ]
     },
     "execution_count": 391,
     "metadata": {},
     "output_type": "execute_result"
    }
   ],
   "source": [
    "dfhrp.dtypes"
   ]
  },
  {
   "cell_type": "code",
   "execution_count": 392,
   "id": "dbd47a79-339a-4b5a-bbce-7e10c05756f5",
   "metadata": {},
   "outputs": [],
   "source": [
    "dfhrp1 = dfhrp.set_index('Date')"
   ]
  },
  {
   "cell_type": "code",
   "execution_count": 393,
   "id": "32bc761d-4e54-494b-8826-edb38526fda1",
   "metadata": {},
   "outputs": [
    {
     "data": {
      "text/html": [
       "<div>\n",
       "<style scoped>\n",
       "    .dataframe tbody tr th:only-of-type {\n",
       "        vertical-align: middle;\n",
       "    }\n",
       "\n",
       "    .dataframe tbody tr th {\n",
       "        vertical-align: top;\n",
       "    }\n",
       "\n",
       "    .dataframe thead th {\n",
       "        text-align: right;\n",
       "    }\n",
       "</style>\n",
       "<table border=\"1\" class=\"dataframe\">\n",
       "  <thead>\n",
       "    <tr style=\"text-align: right;\">\n",
       "      <th></th>\n",
       "      <th>BNDS</th>\n",
       "      <th>COMM</th>\n",
       "      <th>STKS</th>\n",
       "    </tr>\n",
       "    <tr>\n",
       "      <th>Date</th>\n",
       "      <th></th>\n",
       "      <th></th>\n",
       "      <th></th>\n",
       "    </tr>\n",
       "  </thead>\n",
       "  <tbody>\n",
       "    <tr>\n",
       "      <th>2020-01-02</th>\n",
       "      <td>95.997124</td>\n",
       "      <td>16.290001</td>\n",
       "      <td>298.578705</td>\n",
       "    </tr>\n",
       "    <tr>\n",
       "      <th>2020-01-03</th>\n",
       "      <td>96.278214</td>\n",
       "      <td>16.510000</td>\n",
       "      <td>296.317749</td>\n",
       "    </tr>\n",
       "    <tr>\n",
       "      <th>2020-01-06</th>\n",
       "      <td>96.201561</td>\n",
       "      <td>16.510000</td>\n",
       "      <td>297.448181</td>\n",
       "    </tr>\n",
       "    <tr>\n",
       "      <th>2020-01-07</th>\n",
       "      <td>96.099342</td>\n",
       "      <td>16.459999</td>\n",
       "      <td>296.611816</td>\n",
       "    </tr>\n",
       "    <tr>\n",
       "      <th>2020-01-08</th>\n",
       "      <td>95.988617</td>\n",
       "      <td>16.150000</td>\n",
       "      <td>298.192719</td>\n",
       "    </tr>\n",
       "  </tbody>\n",
       "</table>\n",
       "</div>"
      ],
      "text/plain": [
       "                 BNDS       COMM        STKS\n",
       "Date                                        \n",
       "2020-01-02  95.997124  16.290001  298.578705\n",
       "2020-01-03  96.278214  16.510000  296.317749\n",
       "2020-01-06  96.201561  16.510000  297.448181\n",
       "2020-01-07  96.099342  16.459999  296.611816\n",
       "2020-01-08  95.988617  16.150000  298.192719"
      ]
     },
     "execution_count": 393,
     "metadata": {},
     "output_type": "execute_result"
    }
   ],
   "source": [
    "dfhrp1.head()"
   ]
  },
  {
   "cell_type": "code",
   "execution_count": 395,
   "id": "62ae49e9-6f86-44f8-aa2a-7a5dfefe9e83",
   "metadata": {},
   "outputs": [],
   "source": [
    "monthly_prices = dfhrp1.resample(\"M\").last()"
   ]
  },
  {
   "cell_type": "code",
   "execution_count": 366,
   "id": "60e02f1e-2819-4f54-b7e5-690c55cb4adf",
   "metadata": {},
   "outputs": [],
   "source": [
    "dfhrp = dfhrp.drop(['Date'], axis=1)"
   ]
  },
  {
   "cell_type": "code",
   "execution_count": 368,
   "id": "65a4e438-6f22-4d24-8af5-75355a00006f",
   "metadata": {},
   "outputs": [],
   "source": [
    "dfhrp = dfhrp.reset_index(drop=True)"
   ]
  },
  {
   "cell_type": "code",
   "execution_count": 396,
   "id": "2cd76dda-d5d9-4bd0-93a8-60bb08ec9ea4",
   "metadata": {},
   "outputs": [
    {
     "data": {
      "text/html": [
       "<div>\n",
       "<style scoped>\n",
       "    .dataframe tbody tr th:only-of-type {\n",
       "        vertical-align: middle;\n",
       "    }\n",
       "\n",
       "    .dataframe tbody tr th {\n",
       "        vertical-align: top;\n",
       "    }\n",
       "\n",
       "    .dataframe thead th {\n",
       "        text-align: right;\n",
       "    }\n",
       "</style>\n",
       "<table border=\"1\" class=\"dataframe\">\n",
       "  <thead>\n",
       "    <tr style=\"text-align: right;\">\n",
       "      <th></th>\n",
       "      <th>Date</th>\n",
       "      <th>BNDS</th>\n",
       "      <th>COMM</th>\n",
       "      <th>STKS</th>\n",
       "    </tr>\n",
       "  </thead>\n",
       "  <tbody>\n",
       "    <tr>\n",
       "      <th>0</th>\n",
       "      <td>2020-01-02</td>\n",
       "      <td>95.997124</td>\n",
       "      <td>16.290001</td>\n",
       "      <td>298.578705</td>\n",
       "    </tr>\n",
       "    <tr>\n",
       "      <th>1</th>\n",
       "      <td>2020-01-03</td>\n",
       "      <td>96.278214</td>\n",
       "      <td>16.510000</td>\n",
       "      <td>296.317749</td>\n",
       "    </tr>\n",
       "    <tr>\n",
       "      <th>2</th>\n",
       "      <td>2020-01-06</td>\n",
       "      <td>96.201561</td>\n",
       "      <td>16.510000</td>\n",
       "      <td>297.448181</td>\n",
       "    </tr>\n",
       "    <tr>\n",
       "      <th>3</th>\n",
       "      <td>2020-01-07</td>\n",
       "      <td>96.099342</td>\n",
       "      <td>16.459999</td>\n",
       "      <td>296.611816</td>\n",
       "    </tr>\n",
       "    <tr>\n",
       "      <th>4</th>\n",
       "      <td>2020-01-08</td>\n",
       "      <td>95.988617</td>\n",
       "      <td>16.150000</td>\n",
       "      <td>298.192719</td>\n",
       "    </tr>\n",
       "  </tbody>\n",
       "</table>\n",
       "</div>"
      ],
      "text/plain": [
       "        Date       BNDS       COMM        STKS\n",
       "0 2020-01-02  95.997124  16.290001  298.578705\n",
       "1 2020-01-03  96.278214  16.510000  296.317749\n",
       "2 2020-01-06  96.201561  16.510000  297.448181\n",
       "3 2020-01-07  96.099342  16.459999  296.611816\n",
       "4 2020-01-08  95.988617  16.150000  298.192719"
      ]
     },
     "execution_count": 396,
     "metadata": {},
     "output_type": "execute_result"
    }
   ],
   "source": [
    "dfhrp.head()"
   ]
  },
  {
   "cell_type": "code",
   "execution_count": 322,
   "id": "4d294f80-91f4-49e1-b2fa-ce2c0abce74b",
   "metadata": {},
   "outputs": [],
   "source": [
    "dfhrp = dfhrp.reset_index(drop=True)"
   ]
  },
  {
   "cell_type": "code",
   "execution_count": 323,
   "id": "5bef09ff-ed4e-4f34-a88a-3b7e797b58e4",
   "metadata": {},
   "outputs": [],
   "source": [
    "dfhrp = dfhrp.pct_change().dropna()"
   ]
  },
  {
   "cell_type": "code",
   "execution_count": 397,
   "id": "1527d09b-e1c5-4bd9-9322-5b0a9d47488b",
   "metadata": {},
   "outputs": [
    {
     "data": {
      "text/html": [
       "<div>\n",
       "<style scoped>\n",
       "    .dataframe tbody tr th:only-of-type {\n",
       "        vertical-align: middle;\n",
       "    }\n",
       "\n",
       "    .dataframe tbody tr th {\n",
       "        vertical-align: top;\n",
       "    }\n",
       "\n",
       "    .dataframe thead th {\n",
       "        text-align: right;\n",
       "    }\n",
       "</style>\n",
       "<table border=\"1\" class=\"dataframe\">\n",
       "  <thead>\n",
       "    <tr style=\"text-align: right;\">\n",
       "      <th></th>\n",
       "      <th>Date</th>\n",
       "      <th>BNDS</th>\n",
       "      <th>COMM</th>\n",
       "      <th>STKS</th>\n",
       "    </tr>\n",
       "  </thead>\n",
       "  <tbody>\n",
       "    <tr>\n",
       "      <th>0</th>\n",
       "      <td>2020-01-02</td>\n",
       "      <td>95.997124</td>\n",
       "      <td>16.290001</td>\n",
       "      <td>298.578705</td>\n",
       "    </tr>\n",
       "    <tr>\n",
       "      <th>1</th>\n",
       "      <td>2020-01-03</td>\n",
       "      <td>96.278214</td>\n",
       "      <td>16.510000</td>\n",
       "      <td>296.317749</td>\n",
       "    </tr>\n",
       "    <tr>\n",
       "      <th>2</th>\n",
       "      <td>2020-01-06</td>\n",
       "      <td>96.201561</td>\n",
       "      <td>16.510000</td>\n",
       "      <td>297.448181</td>\n",
       "    </tr>\n",
       "    <tr>\n",
       "      <th>3</th>\n",
       "      <td>2020-01-07</td>\n",
       "      <td>96.099342</td>\n",
       "      <td>16.459999</td>\n",
       "      <td>296.611816</td>\n",
       "    </tr>\n",
       "    <tr>\n",
       "      <th>4</th>\n",
       "      <td>2020-01-08</td>\n",
       "      <td>95.988617</td>\n",
       "      <td>16.150000</td>\n",
       "      <td>298.192719</td>\n",
       "    </tr>\n",
       "  </tbody>\n",
       "</table>\n",
       "</div>"
      ],
      "text/plain": [
       "        Date       BNDS       COMM        STKS\n",
       "0 2020-01-02  95.997124  16.290001  298.578705\n",
       "1 2020-01-03  96.278214  16.510000  296.317749\n",
       "2 2020-01-06  96.201561  16.510000  297.448181\n",
       "3 2020-01-07  96.099342  16.459999  296.611816\n",
       "4 2020-01-08  95.988617  16.150000  298.192719"
      ]
     },
     "execution_count": 397,
     "metadata": {},
     "output_type": "execute_result"
    }
   ],
   "source": [
    "dfhrp.head()"
   ]
  },
  {
   "cell_type": "code",
   "execution_count": 398,
   "id": "5adab943-7517-43bf-ab9e-c7dc5fc018f5",
   "metadata": {},
   "outputs": [],
   "source": [
    "returns = monthly_prices.pct_change().dropna()"
   ]
  },
  {
   "cell_type": "code",
   "execution_count": 399,
   "id": "f8e62b71-0e8e-4b05-b810-01d746e3e557",
   "metadata": {},
   "outputs": [],
   "source": [
    "mu = expected_returns.mean_historical_return(monthly_prices, frequency=12)"
   ]
  },
  {
   "cell_type": "code",
   "execution_count": 400,
   "id": "d76b8c50-e4d3-4d08-bb56-52b0a992f16f",
   "metadata": {},
   "outputs": [],
   "source": [
    "S = risk_models.sample_cov(monthly_prices, frequency=12)"
   ]
  },
  {
   "cell_type": "code",
   "execution_count": 401,
   "id": "0e6ae6a1-e1b8-4b21-a977-3efe209b2f7e",
   "metadata": {},
   "outputs": [],
   "source": [
    "hrp = HRPOpt(returns=returns)"
   ]
  },
  {
   "cell_type": "code",
   "execution_count": 402,
   "id": "a1b66878-9931-4ca7-a834-cc757f71ce8d",
   "metadata": {},
   "outputs": [],
   "source": [
    "hrp_weights = hrp.optimize()"
   ]
  },
  {
   "cell_type": "code",
   "execution_count": 403,
   "id": "1dcf92cc-581d-4db1-80fb-a0fd8c80edfd",
   "metadata": {},
   "outputs": [
    {
     "name": "stdout",
     "output_type": "stream",
     "text": [
      "Expected Annual Returns:\n",
      "BNDS   -0.0076\n",
      "COMM    0.0863\n",
      "STKS    0.1473\n",
      "dtype: float64\n"
     ]
    }
   ],
   "source": [
    "print(\"Expected Annual Returns:\")\n",
    "print(mu.round(4))"
   ]
  },
  {
   "cell_type": "code",
   "execution_count": 455,
   "id": "0e0be91f-5f9a-4d97-8d2e-534c1f49edd4",
   "metadata": {},
   "outputs": [
    {
     "name": "stdout",
     "output_type": "stream",
     "text": [
      "\n",
      "Covariance Matrix:\n"
     ]
    }
   ],
   "source": [
    "print(\"\\nCovariance Matrix:\")"
   ]
  },
  {
   "cell_type": "code",
   "execution_count": 453,
   "id": "812f5385-924e-4545-986f-286fc4fa56d9",
   "metadata": {},
   "outputs": [],
   "source": [
    "cov_matrix=S.round(4)"
   ]
  },
  {
   "cell_type": "code",
   "execution_count": 454,
   "id": "1eeeca84-ccd6-452e-b6b0-e19a621a913c",
   "metadata": {},
   "outputs": [
    {
     "data": {
      "text/html": [
       "<div>\n",
       "<style scoped>\n",
       "    .dataframe tbody tr th:only-of-type {\n",
       "        vertical-align: middle;\n",
       "    }\n",
       "\n",
       "    .dataframe tbody tr th {\n",
       "        vertical-align: top;\n",
       "    }\n",
       "\n",
       "    .dataframe thead th {\n",
       "        text-align: right;\n",
       "    }\n",
       "</style>\n",
       "<table border=\"1\" class=\"dataframe\">\n",
       "  <thead>\n",
       "    <tr style=\"text-align: right;\">\n",
       "      <th></th>\n",
       "      <th>BNDS</th>\n",
       "      <th>COMM</th>\n",
       "      <th>STKS</th>\n",
       "    </tr>\n",
       "  </thead>\n",
       "  <tbody>\n",
       "    <tr>\n",
       "      <th>BNDS</th>\n",
       "      <td>0.0042</td>\n",
       "      <td>-0.0014</td>\n",
       "      <td>0.0069</td>\n",
       "    </tr>\n",
       "    <tr>\n",
       "      <th>COMM</th>\n",
       "      <td>-0.0014</td>\n",
       "      <td>0.0587</td>\n",
       "      <td>0.0164</td>\n",
       "    </tr>\n",
       "    <tr>\n",
       "      <th>STKS</th>\n",
       "      <td>0.0069</td>\n",
       "      <td>0.0164</td>\n",
       "      <td>0.0336</td>\n",
       "    </tr>\n",
       "  </tbody>\n",
       "</table>\n",
       "</div>"
      ],
      "text/plain": [
       "        BNDS    COMM    STKS\n",
       "BNDS  0.0042 -0.0014  0.0069\n",
       "COMM -0.0014  0.0587  0.0164\n",
       "STKS  0.0069  0.0164  0.0336"
      ]
     },
     "execution_count": 454,
     "metadata": {},
     "output_type": "execute_result"
    }
   ],
   "source": [
    "cov_matrix"
   ]
  },
  {
   "cell_type": "code",
   "execution_count": null,
   "id": "5b96fe9f-6bce-4543-a159-486113411816",
   "metadata": {},
   "outputs": [],
   "source": []
  },
  {
   "cell_type": "code",
   "execution_count": 439,
   "id": "bc13ca45-4f38-4c9a-9b12-a3f9039f1432",
   "metadata": {},
   "outputs": [
    {
     "name": "stdout",
     "output_type": "stream",
     "text": [
      "\n",
      "HRP Portfolio Weights:\n",
      "BNDS: 81.79%\n",
      "COMM: 7.98%\n",
      "STKS: 10.23%\n"
     ]
    }
   ],
   "source": [
    "print(\"\\nHRP Portfolio Weights:\")\n",
    "for t, w in hrp_weights.items():\n",
    "    print(f\"{t}: {w*100:.2f}%\")"
   ]
  },
  {
   "cell_type": "code",
   "execution_count": 440,
   "id": "5c1bd3a6-e8bf-4494-836f-8810faab63d8",
   "metadata": {},
   "outputs": [
    {
     "name": "stdout",
     "output_type": "stream",
     "text": [
      "OrderedDict([('BNDS', 0.8178609793404243), ('COMM', 0.07981785141615139), ('STKS', 0.10232116924342431)])\n"
     ]
    }
   ],
   "source": [
    "print(hrp_weights)"
   ]
  },
  {
   "cell_type": "code",
   "execution_count": null,
   "id": "98d913bc-585c-4153-b3f0-a625e6e470e9",
   "metadata": {},
   "outputs": [],
   "source": []
  },
  {
   "cell_type": "code",
   "execution_count": 406,
   "id": "be54b835-b10c-4cb5-a40d-f19d6528747f",
   "metadata": {},
   "outputs": [],
   "source": [
    "ret, vol, sharpe = hrp.portfolio_performance(risk_free_rate=0.01)"
   ]
  },
  {
   "cell_type": "code",
   "execution_count": 443,
   "id": "ee2a6499-04a0-4348-b704-af0090c3e5cc",
   "metadata": {},
   "outputs": [
    {
     "name": "stdout",
     "output_type": "stream",
     "text": [
      "\n",
      "Expected Annual Return: 42.89%\n",
      "Expected Volatility: 31.66%\n",
      "Sharpe Ratio: 1.32\n"
     ]
    }
   ],
   "source": [
    "print(f\"\\nExpected Annual Return: {ret:.2%}\")\n",
    "print(f\"Expected Volatility: {vol:.2%}\")\n",
    "print(f\"Sharpe Ratio: {sharpe:.2f}\")"
   ]
  },
  {
   "cell_type": "code",
   "execution_count": 450,
   "id": "8382d1a0-186e-4f2f-bba6-97d286a0900c",
   "metadata": {},
   "outputs": [],
   "source": [
    "cluster_matrix = hrp.clusters"
   ]
  },
  {
   "cell_type": "code",
   "execution_count": 458,
   "id": "008460ab-d8cd-443c-a952-78bb52302c89",
   "metadata": {},
   "outputs": [
    {
     "data": {
      "text/plain": [
       "array([[0.        , 2.        , 0.45944544, 2.        ],\n",
       "       [1.        , 3.        , 0.56158288, 3.        ]])"
      ]
     },
     "execution_count": 458,
     "metadata": {},
     "output_type": "execute_result"
    }
   ],
   "source": [
    "cluster_matrix"
   ]
  },
  {
   "cell_type": "code",
   "execution_count": 466,
   "id": "cb5a2d44-5c54-4e1c-8e53-3f000eede603",
   "metadata": {},
   "outputs": [
    {
     "data": {
      "image/png": "[encoded data removed]",
      "text/plain": [
       "<Figure size 800x400 with 1 Axes>"
      ]
     },
     "metadata": {},
     "output_type": "display_data"
    }
   ],
   "source": [
    "plt.figure(figsize=(8, 4))\n",
    "plotting.plot_dendrogram(hrp)\n",
    "plt.title(\"Hierarchical Clustering Dendrogram of ETF Correlations\")\n",
    "plt.show()"
   ]
  },
  {
   "cell_type": "code",
   "execution_count": null,
   "id": "3dbc9e76-aaa5-4f94-89a6-391906e573ea",
   "metadata": {},
   "outputs": [],
   "source": []
  }
 ],
 "metadata": {
  "kernelspec": {
   "display_name": "Python 3 (ipykernel)",
   "language": "python",
   "name": "python3"
  },
  "language_info": {
   "codemirror_mode": {
    "name": "ipython",
    "version": 3
   },
   "file_extension": ".py",
   "mimetype": "text/x-python",
   "name": "python",
   "nbconvert_exporter": "python",
   "pygments_lexer": "ipython3",
   "version": "3.11.7"
  }
 },
 "nbformat": 4,
 "nbformat_minor": 5
}
