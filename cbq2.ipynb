{
 "cells": [
  {
   "cell_type": "code",
   "execution_count": 1,
   "id": "42ac6bb3-23e1-4f0a-9c7a-1e6d3acff233",
   "metadata": {},
   "outputs": [],
   "source": [
    "import pandas as pd\n",
    "import numpy as np\n",
    "import matplotlib.pyplot as plt\n",
    "import seaborn as sns"
   ]
  },
  {
   "cell_type": "code",
   "execution_count": 2,
   "id": "885f92d6-f33f-48d9-9d1e-c6b2b691956a",
   "metadata": {},
   "outputs": [],
   "source": [
    "df = pd.read_csv('C:\\CB\\q2.csv')"
   ]
  },
  {
   "cell_type": "code",
   "execution_count": 3,
   "id": "ae06837f-c269-4904-b993-cf0e8c2a3189",
   "metadata": {},
   "outputs": [
    {
     "data": {
      "text/plain": [
       "Index(['Trade id', 'Trade Date', 'Counterparty', 'Instrument',\n",
       "       'Notinal Amount', 'Price', 'Settlement Amount', 'Trade Direction',\n",
       "       'Execution Venue', 'Transaction Cost (% of price)'],\n",
       "      dtype='object')"
      ]
     },
     "execution_count": 3,
     "metadata": {},
     "output_type": "execute_result"
    }
   ],
   "source": [
    "df.columns"
   ]
  },
  {
   "cell_type": "code",
   "execution_count": 4,
   "id": "a0da3bba-5204-40c8-8909-eac10f92535f",
   "metadata": {},
   "outputs": [],
   "source": [
    "df = df.rename(columns={'Trade id':'TradeId', 'Trade Date':'TradeDate', 'Notinal Amount':'NotionalAmount', \n",
    "                        'Settlement Amount':'SettlementAmount', 'Trade Direction':'TradeDirection', 'Execution Venue':'ExecutionVenue', 'Transaction Cost (% of price)':'TransactionCost%ofPrice'})"
   ]
  },
  {
   "cell_type": "code",
   "execution_count": 43,
   "id": "1c1d9584-8b65-4df8-9abf-24b1d51c01b0",
   "metadata": {},
   "outputs": [],
   "source": [
    "#df = df.rename(columns={'Trade id':'TradeId', 'Trade Date':'TradeDate', 'Notinal Amount':'NominalAmount'})"
   ]
  },
  {
   "cell_type": "code",
   "execution_count": 7,
   "id": "5528378b-36ba-448c-9968-d220d981e774",
   "metadata": {},
   "outputs": [
    {
     "data": {
      "text/plain": [
       "Index(['TradeId', 'TradeDate', 'Counterparty', 'Instrument', 'NotionalAmount',\n",
       "       'Price', 'SettlementAmount', 'TradeDirection', 'ExecutionVenue',\n",
       "       'TransactionCost%ofPrice'],\n",
       "      dtype='object')"
      ]
     },
     "execution_count": 7,
     "metadata": {},
     "output_type": "execute_result"
    }
   ],
   "source": [
    "df.columns"
   ]
  },
  {
   "cell_type": "code",
   "execution_count": 8,
   "id": "733ad2c2-a8ac-46e4-9bee-330ee1ac7f2b",
   "metadata": {},
   "outputs": [
    {
     "data": {
      "text/plain": [
       "<bound method DataFrame.info of      TradeId   TradeDate Counterparty Instrument  NotionalAmount  Price  \\\n",
       "0      17011  2025-05-07        BRK 4     Google            1095    101   \n",
       "1      11356  2025-08-31        BRK 3      Apple             581     99   \n",
       "2      18878  2025-01-15        BRK 3  Microsoft            1429     98   \n",
       "3      11939  2025-05-27        BRK 5      Tesla             991     96   \n",
       "4      13886  2025-02-06        BRK 4     Nvidia            1215     99   \n",
       "..       ...         ...          ...        ...             ...    ...   \n",
       "197    18404  2025-04-08        BRK 1     Google             686     96   \n",
       "198    17555  2025-07-29        BRK 5     Google            1910     98   \n",
       "199    12646  2025-05-21        BRK 4     Google             497     96   \n",
       "200    19611  2025-05-02        BRK 4     Google             855     97   \n",
       "201    12982  2025-03-13        BRK 5     Google             289     98   \n",
       "\n",
       "     SettlementAmount TradeDirection ExecutionVenue  TransactionCost%ofPrice  \n",
       "0              110595            BUY        Venue 1                 0.333497  \n",
       "1               57519           SELL        Venue 3                 0.462467  \n",
       "2              140042           SELL        Venue 2                 0.436245  \n",
       "3               95136           SELL        Venue 3                 0.373437  \n",
       "4              120285           SELL        Venue 2                 0.466305  \n",
       "..                ...            ...            ...                      ...  \n",
       "197             65856            BUY        Venue 2                 0.301569  \n",
       "198            187180            BUY        Venue 3                 0.284344  \n",
       "199             47712            BUY        Venue 2                 0.471615  \n",
       "200             82935            BUY        Venue 1                 0.348248  \n",
       "201             28322            BUY        Venue 1                 0.464609  \n",
       "\n",
       "[202 rows x 10 columns]>"
      ]
     },
     "execution_count": 8,
     "metadata": {},
     "output_type": "execute_result"
    }
   ],
   "source": [
    "df.info"
   ]
  },
  {
   "cell_type": "code",
   "execution_count": 9,
   "id": "9e30d555-20d5-4cbb-a708-513fd4653e29",
   "metadata": {},
   "outputs": [
    {
     "data": {
      "text/plain": [
       "TradeId                      int64\n",
       "TradeDate                   object\n",
       "Counterparty                object\n",
       "Instrument                  object\n",
       "NotionalAmount               int64\n",
       "Price                        int64\n",
       "SettlementAmount             int64\n",
       "TradeDirection              object\n",
       "ExecutionVenue              object\n",
       "TransactionCost%ofPrice    float64\n",
       "dtype: object"
      ]
     },
     "execution_count": 9,
     "metadata": {},
     "output_type": "execute_result"
    }
   ],
   "source": [
    "df.dtypes"
   ]
  },
  {
   "cell_type": "code",
   "execution_count": 10,
   "id": "5513f067-67ad-40da-8db8-ebb2638774e8",
   "metadata": {},
   "outputs": [],
   "source": [
    "df['TradeDate'] = pd.to_datetime(df['TradeDate'])"
   ]
  },
  {
   "cell_type": "code",
   "execution_count": 11,
   "id": "02237b4e-c8f9-4d3d-9a82-686d247d35e5",
   "metadata": {},
   "outputs": [],
   "source": [
    "df['Counterparty'] = df['Counterparty'].astype('string')\n",
    "#print(df['Counterparty'].dtype)"
   ]
  },
  {
   "cell_type": "code",
   "execution_count": 12,
   "id": "5a260b4d-e4fb-4050-a175-cfb5cd89d71f",
   "metadata": {},
   "outputs": [],
   "source": [
    "df['Instrument'] = df['Instrument'].astype('string')"
   ]
  },
  {
   "cell_type": "code",
   "execution_count": 13,
   "id": "dba41389-d1b8-4565-bb03-01f74980c402",
   "metadata": {},
   "outputs": [],
   "source": [
    "df['TradeDirection'] = df['TradeDirection'].astype('string')"
   ]
  },
  {
   "cell_type": "code",
   "execution_count": 14,
   "id": "2299d20e-f8f7-41b4-97e2-dee88931b781",
   "metadata": {},
   "outputs": [],
   "source": [
    "df['ExecutionVenue'] = df['ExecutionVenue'].astype('string')"
   ]
  },
  {
   "cell_type": "code",
   "execution_count": 15,
   "id": "36d56a00-26ac-4f64-8668-419c95ac7e62",
   "metadata": {},
   "outputs": [
    {
     "data": {
      "text/plain": [
       "TradeId                             int64\n",
       "TradeDate                  datetime64[ns]\n",
       "Counterparty               string[python]\n",
       "Instrument                 string[python]\n",
       "NotionalAmount                      int64\n",
       "Price                               int64\n",
       "SettlementAmount                    int64\n",
       "TradeDirection             string[python]\n",
       "ExecutionVenue             string[python]\n",
       "TransactionCost%ofPrice           float64\n",
       "dtype: object"
      ]
     },
     "execution_count": 15,
     "metadata": {},
     "output_type": "execute_result"
    }
   ],
   "source": [
    "df.dtypes"
   ]
  },
  {
   "cell_type": "code",
   "execution_count": 16,
   "id": "e4f74dfe-cc89-4a33-b9e9-45a8c22ac1a3",
   "metadata": {},
   "outputs": [
    {
     "data": {
      "text/plain": [
       "(202, 10)"
      ]
     },
     "execution_count": 16,
     "metadata": {},
     "output_type": "execute_result"
    }
   ],
   "source": [
    "df.shape"
   ]
  },
  {
   "cell_type": "code",
   "execution_count": 17,
   "id": "164f8c4a-a607-4100-96e1-03d7e20e338b",
   "metadata": {},
   "outputs": [
    {
     "data": {
      "text/plain": [
       "TradeId                    0\n",
       "TradeDate                  0\n",
       "Counterparty               0\n",
       "Instrument                 0\n",
       "NotionalAmount             0\n",
       "Price                      0\n",
       "SettlementAmount           0\n",
       "TradeDirection             0\n",
       "ExecutionVenue             0\n",
       "TransactionCost%ofPrice    0\n",
       "dtype: int64"
      ]
     },
     "execution_count": 17,
     "metadata": {},
     "output_type": "execute_result"
    }
   ],
   "source": [
    "df.isnull().sum()"
   ]
  },
  {
   "cell_type": "code",
   "execution_count": 18,
   "id": "6c7710c4-d91d-462c-b7e8-7de603262565",
   "metadata": {},
   "outputs": [
    {
     "data": {
      "text/plain": [
       "False"
      ]
     },
     "execution_count": 18,
     "metadata": {},
     "output_type": "execute_result"
    }
   ],
   "source": [
    "df.isnull().values.any()"
   ]
  },
  {
   "cell_type": "code",
   "execution_count": 19,
   "id": "37ac29fe-ccec-420c-8fc3-b23d731bb743",
   "metadata": {},
   "outputs": [
    {
     "data": {
      "text/html": [
       "<div>\n",
       "<style scoped>\n",
       "    .dataframe tbody tr th:only-of-type {\n",
       "        vertical-align: middle;\n",
       "    }\n",
       "\n",
       "    .dataframe tbody tr th {\n",
       "        vertical-align: top;\n",
       "    }\n",
       "\n",
       "    .dataframe thead th {\n",
       "        text-align: right;\n",
       "    }\n",
       "</style>\n",
       "<table border=\"1\" class=\"dataframe\">\n",
       "  <thead>\n",
       "    <tr style=\"text-align: right;\">\n",
       "      <th></th>\n",
       "      <th>TradeId</th>\n",
       "      <th>TradeDate</th>\n",
       "      <th>Counterparty</th>\n",
       "      <th>Instrument</th>\n",
       "      <th>NotionalAmount</th>\n",
       "      <th>Price</th>\n",
       "      <th>SettlementAmount</th>\n",
       "      <th>TradeDirection</th>\n",
       "      <th>ExecutionVenue</th>\n",
       "      <th>TransactionCost%ofPrice</th>\n",
       "    </tr>\n",
       "  </thead>\n",
       "  <tbody>\n",
       "  </tbody>\n",
       "</table>\n",
       "</div>"
      ],
      "text/plain": [
       "Empty DataFrame\n",
       "Columns: [TradeId, TradeDate, Counterparty, Instrument, NotionalAmount, Price, SettlementAmount, TradeDirection, ExecutionVenue, TransactionCost%ofPrice]\n",
       "Index: []"
      ]
     },
     "execution_count": 19,
     "metadata": {},
     "output_type": "execute_result"
    }
   ],
   "source": [
    "df.loc[df.duplicated()]"
   ]
  },
  {
   "cell_type": "code",
   "execution_count": 20,
   "id": "caeb19b8-eabe-4c05-bdf7-c30055889bb2",
   "metadata": {},
   "outputs": [
    {
     "data": {
      "text/plain": [
       "<bound method NDFrame.describe of      TradeId  TradeDate Counterparty Instrument  NotionalAmount  Price  \\\n",
       "0      17011 2025-05-07        BRK 4     Google            1095    101   \n",
       "1      11356 2025-08-31        BRK 3      Apple             581     99   \n",
       "2      18878 2025-01-15        BRK 3  Microsoft            1429     98   \n",
       "3      11939 2025-05-27        BRK 5      Tesla             991     96   \n",
       "4      13886 2025-02-06        BRK 4     Nvidia            1215     99   \n",
       "..       ...        ...          ...        ...             ...    ...   \n",
       "197    18404 2025-04-08        BRK 1     Google             686     96   \n",
       "198    17555 2025-07-29        BRK 5     Google            1910     98   \n",
       "199    12646 2025-05-21        BRK 4     Google             497     96   \n",
       "200    19611 2025-05-02        BRK 4     Google             855     97   \n",
       "201    12982 2025-03-13        BRK 5     Google             289     98   \n",
       "\n",
       "     SettlementAmount TradeDirection ExecutionVenue  TransactionCost%ofPrice  \n",
       "0              110595            BUY        Venue 1                 0.333497  \n",
       "1               57519           SELL        Venue 3                 0.462467  \n",
       "2              140042           SELL        Venue 2                 0.436245  \n",
       "3               95136           SELL        Venue 3                 0.373437  \n",
       "4              120285           SELL        Venue 2                 0.466305  \n",
       "..                ...            ...            ...                      ...  \n",
       "197             65856            BUY        Venue 2                 0.301569  \n",
       "198            187180            BUY        Venue 3                 0.284344  \n",
       "199             47712            BUY        Venue 2                 0.471615  \n",
       "200             82935            BUY        Venue 1                 0.348248  \n",
       "201             28322            BUY        Venue 1                 0.464609  \n",
       "\n",
       "[202 rows x 10 columns]>"
      ]
     },
     "execution_count": 20,
     "metadata": {},
     "output_type": "execute_result"
    }
   ],
   "source": [
    "df.describe"
   ]
  },
  {
   "cell_type": "code",
   "execution_count": 71,
   "id": "d828e90a-416b-447b-8192-0d557faf9798",
   "metadata": {},
   "outputs": [],
   "source": [
    "top_Counterparties = (df.groupby('Counterparty')['NotionalAmount'].sum().sort_values(ascending=False))"
   ]
  },
  {
   "cell_type": "code",
   "execution_count": 72,
   "id": "10cb8301-5dbf-40fe-b997-36f864394ae7",
   "metadata": {},
   "outputs": [
    {
     "data": {
      "text/plain": [
       "Counterparty\n",
       "BRK 5    57081\n",
       "BRK 4    56077\n",
       "BRK 2    41175\n",
       "Name: NotionalAmount, dtype: int64"
      ]
     },
     "execution_count": 72,
     "metadata": {},
     "output_type": "execute_result"
    }
   ],
   "source": [
    "top_Counterparties.head(3)"
   ]
  },
  {
   "cell_type": "code",
   "execution_count": 73,
   "id": "870da269-f83f-4367-9d48-c6f8acd82674",
   "metadata": {},
   "outputs": [],
   "source": [
    "top_Counterparties = top_Counterparties.reset_index()"
   ]
  },
  {
   "cell_type": "code",
   "execution_count": 74,
   "id": "eb9521c2-c739-48dd-8231-48cae16af46a",
   "metadata": {},
   "outputs": [
    {
     "data": {
      "text/html": [
       "<div>\n",
       "<style scoped>\n",
       "    .dataframe tbody tr th:only-of-type {\n",
       "        vertical-align: middle;\n",
       "    }\n",
       "\n",
       "    .dataframe tbody tr th {\n",
       "        vertical-align: top;\n",
       "    }\n",
       "\n",
       "    .dataframe thead th {\n",
       "        text-align: right;\n",
       "    }\n",
       "</style>\n",
       "<table border=\"1\" class=\"dataframe\">\n",
       "  <thead>\n",
       "    <tr style=\"text-align: right;\">\n",
       "      <th></th>\n",
       "      <th>Counterparty</th>\n",
       "      <th>NotionalAmount</th>\n",
       "    </tr>\n",
       "  </thead>\n",
       "  <tbody>\n",
       "    <tr>\n",
       "      <th>0</th>\n",
       "      <td>BRK 5</td>\n",
       "      <td>57081</td>\n",
       "    </tr>\n",
       "    <tr>\n",
       "      <th>1</th>\n",
       "      <td>BRK 4</td>\n",
       "      <td>56077</td>\n",
       "    </tr>\n",
       "    <tr>\n",
       "      <th>2</th>\n",
       "      <td>BRK 2</td>\n",
       "      <td>41175</td>\n",
       "    </tr>\n",
       "  </tbody>\n",
       "</table>\n",
       "</div>"
      ],
      "text/plain": [
       "  Counterparty  NotionalAmount\n",
       "0        BRK 5           57081\n",
       "1        BRK 4           56077\n",
       "2        BRK 2           41175"
      ]
     },
     "execution_count": 74,
     "metadata": {},
     "output_type": "execute_result"
    }
   ],
   "source": [
    "top_Counterparties.head(3)"
   ]
  },
  {
   "cell_type": "code",
   "execution_count": 75,
   "id": "14b702e6-b886-43fe-a75b-7a00133c0b67",
   "metadata": {},
   "outputs": [],
   "source": [
    "top_Counterparties = top_Counterparties.head(3)"
   ]
  },
  {
   "cell_type": "code",
   "execution_count": 76,
   "id": "98ac9906-6992-4f61-b903-806d4c98911d",
   "metadata": {},
   "outputs": [
    {
     "name": "stdout",
     "output_type": "stream",
     "text": [
      "Top Three counter Parties\n"
     ]
    },
    {
     "data": {
      "text/html": [
       "<div>\n",
       "<style scoped>\n",
       "    .dataframe tbody tr th:only-of-type {\n",
       "        vertical-align: middle;\n",
       "    }\n",
       "\n",
       "    .dataframe tbody tr th {\n",
       "        vertical-align: top;\n",
       "    }\n",
       "\n",
       "    .dataframe thead th {\n",
       "        text-align: right;\n",
       "    }\n",
       "</style>\n",
       "<table border=\"1\" class=\"dataframe\">\n",
       "  <thead>\n",
       "    <tr style=\"text-align: right;\">\n",
       "      <th></th>\n",
       "      <th>Counterparty</th>\n",
       "      <th>NotionalAmount</th>\n",
       "    </tr>\n",
       "  </thead>\n",
       "  <tbody>\n",
       "    <tr>\n",
       "      <th>0</th>\n",
       "      <td>BRK 5</td>\n",
       "      <td>57081</td>\n",
       "    </tr>\n",
       "    <tr>\n",
       "      <th>1</th>\n",
       "      <td>BRK 4</td>\n",
       "      <td>56077</td>\n",
       "    </tr>\n",
       "    <tr>\n",
       "      <th>2</th>\n",
       "      <td>BRK 2</td>\n",
       "      <td>41175</td>\n",
       "    </tr>\n",
       "  </tbody>\n",
       "</table>\n",
       "</div>"
      ],
      "text/plain": [
       "  Counterparty  NotionalAmount\n",
       "0        BRK 5           57081\n",
       "1        BRK 4           56077\n",
       "2        BRK 2           41175"
      ]
     },
     "execution_count": 76,
     "metadata": {},
     "output_type": "execute_result"
    }
   ],
   "source": [
    "print(\"Top Three counter Parties\")\n",
    "top_Counterparties"
   ]
  },
  {
   "cell_type": "code",
   "execution_count": 77,
   "id": "d0000ccc-9660-49bd-abf8-715a4fdcf403",
   "metadata": {},
   "outputs": [],
   "source": [
    "total_Notional = df['NotionalAmount'].sum()"
   ]
  },
  {
   "cell_type": "code",
   "execution_count": 79,
   "id": "832de649-f3cc-4c41-a986-4156f5782748",
   "metadata": {},
   "outputs": [
    {
     "data": {
      "text/plain": [
       "225870"
      ]
     },
     "execution_count": 79,
     "metadata": {},
     "output_type": "execute_result"
    }
   ],
   "source": [
    "total_Notional"
   ]
  },
  {
   "cell_type": "code",
   "execution_count": 80,
   "id": "e09efc7d-9d2b-40bb-b01d-a64027639182",
   "metadata": {},
   "outputs": [
    {
     "name": "stdout",
     "output_type": "stream",
     "text": [
      "0    57081\n",
      "1    56077\n",
      "2    41175\n",
      "Name: NotionalAmount, dtype: int64\n"
     ]
    }
   ],
   "source": [
    "print(top_Counterparties['NotionalAmount'])"
   ]
  },
  {
   "cell_type": "code",
   "execution_count": 83,
   "id": "780545ab-bff3-4a67-9458-1c7b4b22a22d",
   "metadata": {},
   "outputs": [],
   "source": [
    "top_Notional_sum = top_Counterparties['NotionalAmount'].sum()"
   ]
  },
  {
   "cell_type": "code",
   "execution_count": 84,
   "id": "910ee1e0-512c-446f-a455-772e85861d55",
   "metadata": {},
   "outputs": [
    {
     "data": {
      "text/plain": [
       "154333"
      ]
     },
     "execution_count": 84,
     "metadata": {},
     "output_type": "execute_result"
    }
   ],
   "source": [
    "top_Notional_sum"
   ]
  },
  {
   "cell_type": "code",
   "execution_count": 85,
   "id": "33ee0e89-b289-4662-bb2e-ebb6b99da204",
   "metadata": {},
   "outputs": [],
   "source": [
    "top_Percentage = (top_Notional_sum / total_Notional) * 100"
   ]
  },
  {
   "cell_type": "code",
   "execution_count": 86,
   "id": "f2bd44f2-1d38-404a-8fe7-9fe980509e0e",
   "metadata": {},
   "outputs": [
    {
     "data": {
      "text/plain": [
       "68.32824190906274"
      ]
     },
     "execution_count": 86,
     "metadata": {},
     "output_type": "execute_result"
    }
   ],
   "source": [
    "top_Percentage"
   ]
  },
  {
   "cell_type": "code",
   "execution_count": 87,
   "id": "9e1fd5fc-63a1-42c5-910f-ac354bc98887",
   "metadata": {},
   "outputs": [
    {
     "name": "stdout",
     "output_type": "stream",
     "text": [
      "Percentage of Notional amount by Top Three Counterparties\n"
     ]
    },
    {
     "data": {
      "text/plain": [
       "68.32824190906274"
      ]
     },
     "execution_count": 87,
     "metadata": {},
     "output_type": "execute_result"
    }
   ],
   "source": [
    "print(\"Percentage of Notional amount by Top Three Counterparties\")\n",
    "top_Percentage"
   ]
  },
  {
   "cell_type": "code",
   "execution_count": 50,
   "id": "f990b124-9b96-464f-b3eb-a778127ed5b1",
   "metadata": {},
   "outputs": [
    {
     "data": {
      "text/plain": [
       "TradeId                             int64\n",
       "TradeDate                  datetime64[ns]\n",
       "Counterparty               string[python]\n",
       "Instrument                 string[python]\n",
       "NotionalAmount                      int64\n",
       "Price                               int64\n",
       "SettlementAmount                    int64\n",
       "TradeDirection             string[python]\n",
       "ExecutionVenue             string[python]\n",
       "TransactionCost%ofPrice           float64\n",
       "dtype: object"
      ]
     },
     "execution_count": 50,
     "metadata": {},
     "output_type": "execute_result"
    }
   ],
   "source": [
    "#avg_Transcost = (\n",
    "#    df.groupby('TransactionCost%ofPrice')\n",
    "df.dtypes"
   ]
  },
  {
   "cell_type": "code",
   "execution_count": 90,
   "id": "a80d24c2-0699-4e1e-be73-28aee3927e9c",
   "metadata": {},
   "outputs": [],
   "source": [
    "venue_Stats = df.groupby('ExecutionVenue')['TransactionCost%ofPrice'].agg(['mean','std','count']).reset_index().sort_values('mean')"
   ]
  },
  {
   "cell_type": "code",
   "execution_count": 91,
   "id": "8bfc83bd-fb42-434a-88df-03cce804f3a0",
   "metadata": {},
   "outputs": [],
   "source": [
    "venue_Stats.rename(columns={'mean':'avg_cost','std':'std_cost','count':'trades'}, inplace=True)"
   ]
  },
  {
   "cell_type": "code",
   "execution_count": 144,
   "id": "b101cca2-c379-40c9-9ec4-4593728ff850",
   "metadata": {},
   "outputs": [],
   "source": [
    "#venue_stats = df.groupby('ExecutionVenue')['TransactionCost%ofPrice'].mean().sort_values()\n",
    "#.reset_index().sort_values('mean')"
   ]
  },
  {
   "cell_type": "code",
   "execution_count": 92,
   "id": "8a3ac826-721f-45aa-81a2-5589a45746df",
   "metadata": {},
   "outputs": [
    {
     "data": {
      "text/html": [
       "<div>\n",
       "<style scoped>\n",
       "    .dataframe tbody tr th:only-of-type {\n",
       "        vertical-align: middle;\n",
       "    }\n",
       "\n",
       "    .dataframe tbody tr th {\n",
       "        vertical-align: top;\n",
       "    }\n",
       "\n",
       "    .dataframe thead th {\n",
       "        text-align: right;\n",
       "    }\n",
       "</style>\n",
       "<table border=\"1\" class=\"dataframe\">\n",
       "  <thead>\n",
       "    <tr style=\"text-align: right;\">\n",
       "      <th></th>\n",
       "      <th>ExecutionVenue</th>\n",
       "      <th>avg_cost</th>\n",
       "      <th>std_cost</th>\n",
       "      <th>trades</th>\n",
       "    </tr>\n",
       "  </thead>\n",
       "  <tbody>\n",
       "    <tr>\n",
       "      <th>0</th>\n",
       "      <td>Venue 1</td>\n",
       "      <td>0.368104</td>\n",
       "      <td>0.076923</td>\n",
       "      <td>63</td>\n",
       "    </tr>\n",
       "    <tr>\n",
       "      <th>1</th>\n",
       "      <td>Venue 2</td>\n",
       "      <td>0.373465</td>\n",
       "      <td>0.075712</td>\n",
       "      <td>59</td>\n",
       "    </tr>\n",
       "    <tr>\n",
       "      <th>2</th>\n",
       "      <td>Venue 3</td>\n",
       "      <td>0.388888</td>\n",
       "      <td>0.075424</td>\n",
       "      <td>80</td>\n",
       "    </tr>\n",
       "  </tbody>\n",
       "</table>\n",
       "</div>"
      ],
      "text/plain": [
       "  ExecutionVenue  avg_cost  std_cost  trades\n",
       "0        Venue 1  0.368104  0.076923      63\n",
       "1        Venue 2  0.373465  0.075712      59\n",
       "2        Venue 3  0.388888  0.075424      80"
      ]
     },
     "execution_count": 92,
     "metadata": {},
     "output_type": "execute_result"
    }
   ],
   "source": [
    "venue_Stats"
   ]
  },
  {
   "cell_type": "code",
   "execution_count": 93,
   "id": "dc65eca2-2f52-4f16-8b17-b65e29f6eb30",
   "metadata": {},
   "outputs": [
    {
     "data": {
      "text/plain": [
       "array([['Venue 1', 0.3681044724761905, 0.07692262262713144, 63],\n",
       "       ['Venue 2', 0.3734650500677966, 0.07571237191596183, 59],\n",
       "       ['Venue 3', 0.3888878542625, 0.07542447087699851, 80]],\n",
       "      dtype=object)"
      ]
     },
     "execution_count": 93,
     "metadata": {},
     "output_type": "execute_result"
    }
   ],
   "source": [
    "venue_Stats.values"
   ]
  },
  {
   "cell_type": "code",
   "execution_count": 94,
   "id": "0c913464-da17-4b8b-81f4-987cea310523",
   "metadata": {},
   "outputs": [],
   "source": [
    "counterparty_Stats = df.groupby('Counterparty')['TransactionCost%ofPrice'].agg(['mean','std','count']).reset_index().sort_values('mean')"
   ]
  },
  {
   "cell_type": "code",
   "execution_count": 95,
   "id": "65885572-27cc-4689-abe0-5eb350fb7e4a",
   "metadata": {},
   "outputs": [],
   "source": [
    "counterparty_Stats.rename(columns={'mean':'avg_cost','std':'std_cost','count':'trades'}, inplace=True)"
   ]
  },
  {
   "cell_type": "code",
   "execution_count": 96,
   "id": "ca7c0974-ba79-4d27-aee5-4ef878f7debf",
   "metadata": {},
   "outputs": [
    {
     "data": {
      "text/html": [
       "<div>\n",
       "<style scoped>\n",
       "    .dataframe tbody tr th:only-of-type {\n",
       "        vertical-align: middle;\n",
       "    }\n",
       "\n",
       "    .dataframe tbody tr th {\n",
       "        vertical-align: top;\n",
       "    }\n",
       "\n",
       "    .dataframe thead th {\n",
       "        text-align: right;\n",
       "    }\n",
       "</style>\n",
       "<table border=\"1\" class=\"dataframe\">\n",
       "  <thead>\n",
       "    <tr style=\"text-align: right;\">\n",
       "      <th></th>\n",
       "      <th>Counterparty</th>\n",
       "      <th>avg_cost</th>\n",
       "      <th>std_cost</th>\n",
       "      <th>trades</th>\n",
       "    </tr>\n",
       "  </thead>\n",
       "  <tbody>\n",
       "    <tr>\n",
       "      <th>3</th>\n",
       "      <td>BRK 4</td>\n",
       "      <td>0.359458</td>\n",
       "      <td>0.076078</td>\n",
       "      <td>49</td>\n",
       "    </tr>\n",
       "    <tr>\n",
       "      <th>1</th>\n",
       "      <td>BRK 2</td>\n",
       "      <td>0.369356</td>\n",
       "      <td>0.077052</td>\n",
       "      <td>36</td>\n",
       "    </tr>\n",
       "    <tr>\n",
       "      <th>2</th>\n",
       "      <td>BRK 3</td>\n",
       "      <td>0.385203</td>\n",
       "      <td>0.079346</td>\n",
       "      <td>32</td>\n",
       "    </tr>\n",
       "    <tr>\n",
       "      <th>0</th>\n",
       "      <td>BRK 1</td>\n",
       "      <td>0.386259</td>\n",
       "      <td>0.074557</td>\n",
       "      <td>35</td>\n",
       "    </tr>\n",
       "    <tr>\n",
       "      <th>4</th>\n",
       "      <td>BRK 5</td>\n",
       "      <td>0.391605</td>\n",
       "      <td>0.073263</td>\n",
       "      <td>50</td>\n",
       "    </tr>\n",
       "  </tbody>\n",
       "</table>\n",
       "</div>"
      ],
      "text/plain": [
       "  Counterparty  avg_cost  std_cost  trades\n",
       "3        BRK 4  0.359458  0.076078      49\n",
       "1        BRK 2  0.369356  0.077052      36\n",
       "2        BRK 3  0.385203  0.079346      32\n",
       "0        BRK 1  0.386259  0.074557      35\n",
       "4        BRK 5  0.391605  0.073263      50"
      ]
     },
     "execution_count": 96,
     "metadata": {},
     "output_type": "execute_result"
    }
   ],
   "source": [
    "counterparty_Stats"
   ]
  },
  {
   "cell_type": "code",
   "execution_count": 97,
   "id": "aac9b842-4124-4eb0-9bc8-5f7b975c70ea",
   "metadata": {},
   "outputs": [],
   "source": [
    "SettlBuckts = df['SettlementAmount'].quantile([0,0.25,0.5,0.75,1.0])"
   ]
  },
  {
   "cell_type": "code",
   "execution_count": 71,
   "id": "56aecbf7-4790-4c40-8fa4-c028d6cf63bc",
   "metadata": {},
   "outputs": [
    {
     "data": {
      "text/plain": [
       "0.00     20855.0\n",
       "0.25     75682.5\n",
       "0.50    110337.5\n",
       "0.75    151388.5\n",
       "1.00    198566.0\n",
       "Name: SettlementAmount, dtype: float64"
      ]
     },
     "execution_count": 71,
     "metadata": {},
     "output_type": "execute_result"
    }
   ],
   "source": [
    "SettlBuckts"
   ]
  },
  {
   "cell_type": "code",
   "execution_count": 98,
   "id": "9b05d5d9-bf68-4aea-a4fb-27fb622e3299",
   "metadata": {},
   "outputs": [],
   "source": [
    "sttlData = df['SettlementAmount'].agg(['min','max','mean'])"
   ]
  },
  {
   "cell_type": "code",
   "execution_count": 99,
   "id": "d48931ce-c9bf-496f-b3be-fd33ff033d91",
   "metadata": {},
   "outputs": [
    {
     "data": {
      "text/plain": [
       "min      20855.000000\n",
       "max     198566.000000\n",
       "mean    110208.361386\n",
       "Name: SettlementAmount, dtype: float64"
      ]
     },
     "execution_count": 99,
     "metadata": {},
     "output_type": "execute_result"
    }
   ],
   "source": [
    "sttlData"
   ]
  },
  {
   "cell_type": "code",
   "execution_count": 100,
   "id": "55404928-f241-4e29-a6db-5240e10a82a2",
   "metadata": {},
   "outputs": [
    {
     "data": {
      "text/plain": [
       "dtype('float64')"
      ]
     },
     "execution_count": 100,
     "metadata": {},
     "output_type": "execute_result"
    }
   ],
   "source": [
    "SettlBuckts.dtypes"
   ]
  },
  {
   "cell_type": "code",
   "execution_count": 103,
   "id": "41e72101-1a78-48dc-b77c-dae87ff44773",
   "metadata": {},
   "outputs": [
    {
     "data": {
      "text/plain": [
       "array([ 20855. ,  75682.5, 110337.5, 151388.5, 198566. ])"
      ]
     },
     "execution_count": 103,
     "metadata": {},
     "output_type": "execute_result"
    }
   ],
   "source": [
    "SettlBuckts.values"
   ]
  },
  {
   "cell_type": "code",
   "execution_count": 108,
   "id": "a77ed65e-ba6b-4a13-b20a-ac4dcc8a4442",
   "metadata": {},
   "outputs": [],
   "source": [
    "bins = np.unique(np.concatenate(([0], SettlBuckts)))"
   ]
  },
  {
   "cell_type": "code",
   "execution_count": 109,
   "id": "119e636b-b9d9-4eed-8515-8a37a1c27f25",
   "metadata": {},
   "outputs": [
    {
     "data": {
      "text/plain": [
       "array([     0. ,  20855. ,  75682.5, 110337.5, 151388.5, 198566. ])"
      ]
     },
     "execution_count": 109,
     "metadata": {},
     "output_type": "execute_result"
    }
   ],
   "source": [
    "bins"
   ]
  },
  {
   "cell_type": "code",
   "execution_count": 110,
   "id": "c438439e-e6f4-4c5d-859e-2f6d9947676d",
   "metadata": {},
   "outputs": [
    {
     "name": "stdout",
     "output_type": "stream",
     "text": [
      "6\n"
     ]
    }
   ],
   "source": [
    "print(len(bins))"
   ]
  },
  {
   "cell_type": "code",
   "execution_count": 112,
   "id": "71f677a3-394c-4075-996f-3bc975201818",
   "metadata": {},
   "outputs": [],
   "source": [
    "labels = ['Bucket 1','Bucket 2','Bucket 3','Bucket 4','Bucket 5'][:len(bins)-1]"
   ]
  },
  {
   "cell_type": "code",
   "execution_count": 114,
   "id": "ec470619-181b-458e-9e69-4f2db43b5a55",
   "metadata": {},
   "outputs": [
    {
     "name": "stdout",
     "output_type": "stream",
     "text": [
      "['Bucket 1', 'Bucket 2', 'Bucket 3', 'Bucket 4', 'Bucket 5']\n"
     ]
    }
   ],
   "source": [
    "print(labels)"
   ]
  },
  {
   "cell_type": "code",
   "execution_count": 115,
   "id": "a084d2f0-c4e4-4c1f-838f-4911cef51e76",
   "metadata": {},
   "outputs": [],
   "source": [
    "df['SettlementBucket'] = pd.cut(df['SettlementAmount'], bins=bins, labels=labels, include_lowest=True)"
   ]
  },
  {
   "cell_type": "code",
   "execution_count": 116,
   "id": "826bfd58-bd46-499d-906f-78f32e7170c3",
   "metadata": {},
   "outputs": [
    {
     "data": {
      "text/html": [
       "<div>\n",
       "<style scoped>\n",
       "    .dataframe tbody tr th:only-of-type {\n",
       "        vertical-align: middle;\n",
       "    }\n",
       "\n",
       "    .dataframe tbody tr th {\n",
       "        vertical-align: top;\n",
       "    }\n",
       "\n",
       "    .dataframe thead th {\n",
       "        text-align: right;\n",
       "    }\n",
       "</style>\n",
       "<table border=\"1\" class=\"dataframe\">\n",
       "  <thead>\n",
       "    <tr style=\"text-align: right;\">\n",
       "      <th></th>\n",
       "      <th>TradeId</th>\n",
       "      <th>TradeDate</th>\n",
       "      <th>Counterparty</th>\n",
       "      <th>Instrument</th>\n",
       "      <th>NotionalAmount</th>\n",
       "      <th>Price</th>\n",
       "      <th>SettlementAmount</th>\n",
       "      <th>TradeDirection</th>\n",
       "      <th>ExecutionVenue</th>\n",
       "      <th>TransactionCost%ofPrice</th>\n",
       "      <th>SettlementBucket</th>\n",
       "    </tr>\n",
       "  </thead>\n",
       "  <tbody>\n",
       "    <tr>\n",
       "      <th>0</th>\n",
       "      <td>17011</td>\n",
       "      <td>2025-05-07</td>\n",
       "      <td>BRK 4</td>\n",
       "      <td>Google</td>\n",
       "      <td>1095</td>\n",
       "      <td>101</td>\n",
       "      <td>110595</td>\n",
       "      <td>BUY</td>\n",
       "      <td>Venue 1</td>\n",
       "      <td>0.333497</td>\n",
       "      <td>Bucket 4</td>\n",
       "    </tr>\n",
       "    <tr>\n",
       "      <th>1</th>\n",
       "      <td>11356</td>\n",
       "      <td>2025-08-31</td>\n",
       "      <td>BRK 3</td>\n",
       "      <td>Apple</td>\n",
       "      <td>581</td>\n",
       "      <td>99</td>\n",
       "      <td>57519</td>\n",
       "      <td>SELL</td>\n",
       "      <td>Venue 3</td>\n",
       "      <td>0.462467</td>\n",
       "      <td>Bucket 2</td>\n",
       "    </tr>\n",
       "    <tr>\n",
       "      <th>2</th>\n",
       "      <td>18878</td>\n",
       "      <td>2025-01-15</td>\n",
       "      <td>BRK 3</td>\n",
       "      <td>Microsoft</td>\n",
       "      <td>1429</td>\n",
       "      <td>98</td>\n",
       "      <td>140042</td>\n",
       "      <td>SELL</td>\n",
       "      <td>Venue 2</td>\n",
       "      <td>0.436245</td>\n",
       "      <td>Bucket 4</td>\n",
       "    </tr>\n",
       "    <tr>\n",
       "      <th>3</th>\n",
       "      <td>11939</td>\n",
       "      <td>2025-05-27</td>\n",
       "      <td>BRK 5</td>\n",
       "      <td>Tesla</td>\n",
       "      <td>991</td>\n",
       "      <td>96</td>\n",
       "      <td>95136</td>\n",
       "      <td>SELL</td>\n",
       "      <td>Venue 3</td>\n",
       "      <td>0.373437</td>\n",
       "      <td>Bucket 3</td>\n",
       "    </tr>\n",
       "    <tr>\n",
       "      <th>4</th>\n",
       "      <td>13886</td>\n",
       "      <td>2025-02-06</td>\n",
       "      <td>BRK 4</td>\n",
       "      <td>Nvidia</td>\n",
       "      <td>1215</td>\n",
       "      <td>99</td>\n",
       "      <td>120285</td>\n",
       "      <td>SELL</td>\n",
       "      <td>Venue 2</td>\n",
       "      <td>0.466305</td>\n",
       "      <td>Bucket 4</td>\n",
       "    </tr>\n",
       "  </tbody>\n",
       "</table>\n",
       "</div>"
      ],
      "text/plain": [
       "   TradeId  TradeDate Counterparty Instrument  NotionalAmount  Price  \\\n",
       "0    17011 2025-05-07        BRK 4     Google            1095    101   \n",
       "1    11356 2025-08-31        BRK 3      Apple             581     99   \n",
       "2    18878 2025-01-15        BRK 3  Microsoft            1429     98   \n",
       "3    11939 2025-05-27        BRK 5      Tesla             991     96   \n",
       "4    13886 2025-02-06        BRK 4     Nvidia            1215     99   \n",
       "\n",
       "   SettlementAmount TradeDirection ExecutionVenue  TransactionCost%ofPrice  \\\n",
       "0            110595            BUY        Venue 1                 0.333497   \n",
       "1             57519           SELL        Venue 3                 0.462467   \n",
       "2            140042           SELL        Venue 2                 0.436245   \n",
       "3             95136           SELL        Venue 3                 0.373437   \n",
       "4            120285           SELL        Venue 2                 0.466305   \n",
       "\n",
       "  SettlementBucket  \n",
       "0         Bucket 4  \n",
       "1         Bucket 2  \n",
       "2         Bucket 4  \n",
       "3         Bucket 3  \n",
       "4         Bucket 4  "
      ]
     },
     "execution_count": 116,
     "metadata": {},
     "output_type": "execute_result"
    }
   ],
   "source": [
    "df.head()"
   ]
  },
  {
   "cell_type": "code",
   "execution_count": 117,
   "id": "a6c3048b-5a2f-484a-bd34-0a99b204b724",
   "metadata": {},
   "outputs": [
    {
     "data": {
      "text/plain": [
       "0      Bucket 4\n",
       "1      Bucket 2\n",
       "2      Bucket 4\n",
       "3      Bucket 3\n",
       "4      Bucket 4\n",
       "         ...   \n",
       "197    Bucket 2\n",
       "198    Bucket 5\n",
       "199    Bucket 2\n",
       "200    Bucket 3\n",
       "201    Bucket 2\n",
       "Name: SettlementBucket, Length: 202, dtype: category\n",
       "Categories (5, object): ['Bucket 1' < 'Bucket 2' < 'Bucket 3' < 'Bucket 4' < 'Bucket 5']"
      ]
     },
     "execution_count": 117,
     "metadata": {},
     "output_type": "execute_result"
    }
   ],
   "source": [
    "df['SettlementBucket']"
   ]
  },
  {
   "cell_type": "code",
   "execution_count": 120,
   "id": "00f2dfbc-ff6b-478e-b7b2-042988235427",
   "metadata": {},
   "outputs": [
    {
     "data": {
      "text/plain": [
       "Index(['Bucket 1', 'Bucket 2', 'Bucket 3', 'Bucket 4', 'Bucket 5'], dtype='object')"
      ]
     },
     "execution_count": 120,
     "metadata": {},
     "output_type": "execute_result"
    }
   ],
   "source": [
    "df['SettlementBucket'].cat.categories"
   ]
  },
  {
   "cell_type": "code",
   "execution_count": 123,
   "id": "d4b56e65-6417-4c2f-96da-8a1e37b94232",
   "metadata": {},
   "outputs": [],
   "source": [
    "bucket_insights = []\n",
    "for bucket in df['SettlementBucket'].cat.categories:\n",
    "    sub = df[df['SettlementBucket']==bucket]\n",
    "    if sub.empty:\n",
    "        continue\n",
    "    best_venue = sub.groupby('ExecutionVenue')['TransactionCost%ofPrice'].mean().sort_values().head(1)\n",
    "    best_counterparty = sub.groupby('Counterparty')['TransactionCost%ofPrice'].mean().sort_values().head(1)\n",
    "    bucket_insights.append({\n",
    "        'SettlementBucket': bucket,\n",
    "        'n_trades': len(sub),\n",
    "        'best_venue': best_venue.index[0],\n",
    "        'best_venue_avg_cost': best_venue.iloc[0],\n",
    "        'best_counterparty': best_counterparty.index[0],\n",
    "        'best_counterparty_avg_cost': best_counterparty.iloc[0]\n",
    "    })\n",
    "bucket_insights_df = pd.DataFrame(bucket_insights)\n"
   ]
  },
  {
   "cell_type": "code",
   "execution_count": null,
   "id": "87d5b2b2-3053-4652-9552-8df29fd77f70",
   "metadata": {},
   "outputs": [],
   "source": []
  },
  {
   "cell_type": "code",
   "execution_count": 124,
   "id": "120093e0-969e-4b6b-8b39-c45597864ab1",
   "metadata": {},
   "outputs": [
    {
     "data": {
      "text/html": [
       "<div>\n",
       "<style scoped>\n",
       "    .dataframe tbody tr th:only-of-type {\n",
       "        vertical-align: middle;\n",
       "    }\n",
       "\n",
       "    .dataframe tbody tr th {\n",
       "        vertical-align: top;\n",
       "    }\n",
       "\n",
       "    .dataframe thead th {\n",
       "        text-align: right;\n",
       "    }\n",
       "</style>\n",
       "<table border=\"1\" class=\"dataframe\">\n",
       "  <thead>\n",
       "    <tr style=\"text-align: right;\">\n",
       "      <th></th>\n",
       "      <th>SettlementBucket</th>\n",
       "      <th>n_trades</th>\n",
       "      <th>best_venue</th>\n",
       "      <th>best_venue_avg_cost</th>\n",
       "      <th>best_counterparty</th>\n",
       "      <th>best_counterparty_avg_cost</th>\n",
       "    </tr>\n",
       "  </thead>\n",
       "  <tbody>\n",
       "    <tr>\n",
       "      <th>0</th>\n",
       "      <td>Bucket 1</td>\n",
       "      <td>1</td>\n",
       "      <td>Venue 3</td>\n",
       "      <td>0.357639</td>\n",
       "      <td>BRK 4</td>\n",
       "      <td>0.357639</td>\n",
       "    </tr>\n",
       "    <tr>\n",
       "      <th>1</th>\n",
       "      <td>Bucket 2</td>\n",
       "      <td>50</td>\n",
       "      <td>Venue 2</td>\n",
       "      <td>0.389137</td>\n",
       "      <td>BRK 1</td>\n",
       "      <td>0.384145</td>\n",
       "    </tr>\n",
       "    <tr>\n",
       "      <th>2</th>\n",
       "      <td>Bucket 3</td>\n",
       "      <td>50</td>\n",
       "      <td>Venue 2</td>\n",
       "      <td>0.363385</td>\n",
       "      <td>BRK 4</td>\n",
       "      <td>0.336074</td>\n",
       "    </tr>\n",
       "    <tr>\n",
       "      <th>3</th>\n",
       "      <td>Bucket 4</td>\n",
       "      <td>50</td>\n",
       "      <td>Venue 1</td>\n",
       "      <td>0.360823</td>\n",
       "      <td>BRK 2</td>\n",
       "      <td>0.343869</td>\n",
       "    </tr>\n",
       "    <tr>\n",
       "      <th>4</th>\n",
       "      <td>Bucket 5</td>\n",
       "      <td>51</td>\n",
       "      <td>Venue 1</td>\n",
       "      <td>0.357344</td>\n",
       "      <td>BRK 4</td>\n",
       "      <td>0.342395</td>\n",
       "    </tr>\n",
       "  </tbody>\n",
       "</table>\n",
       "</div>"
      ],
      "text/plain": [
       "  SettlementBucket  n_trades best_venue  best_venue_avg_cost  \\\n",
       "0         Bucket 1         1    Venue 3             0.357639   \n",
       "1         Bucket 2        50    Venue 2             0.389137   \n",
       "2         Bucket 3        50    Venue 2             0.363385   \n",
       "3         Bucket 4        50    Venue 1             0.360823   \n",
       "4         Bucket 5        51    Venue 1             0.357344   \n",
       "\n",
       "  best_counterparty  best_counterparty_avg_cost  \n",
       "0             BRK 4                    0.357639  \n",
       "1             BRK 1                    0.384145  \n",
       "2             BRK 4                    0.336074  \n",
       "3             BRK 2                    0.343869  \n",
       "4             BRK 4                    0.342395  "
      ]
     },
     "execution_count": 124,
     "metadata": {},
     "output_type": "execute_result"
    }
   ],
   "source": [
    "bucket_insights_df"
   ]
  },
  {
   "cell_type": "code",
   "execution_count": 136,
   "id": "51aaec66-f47e-486e-8765-a069ce411d31",
   "metadata": {},
   "outputs": [],
   "source": [
    "df['MonthlyTrade'] = df['TradeDate'].dt.month"
   ]
  },
  {
   "cell_type": "code",
   "execution_count": 137,
   "id": "f011edda-15d4-43c2-9621-a7c5e6f61bd9",
   "metadata": {},
   "outputs": [],
   "source": [
    "monthly_Stats = df.groupby('MonthlyTrade')['TransactionCost%ofPrice'].agg(['mean','count']).reset_index().sort_values('MonthlyTrade')"
   ]
  },
  {
   "cell_type": "code",
   "execution_count": 138,
   "id": "3354db64-595c-4cd9-8ac5-71d6487eac5a",
   "metadata": {},
   "outputs": [
    {
     "data": {
      "text/html": [
       "<div>\n",
       "<style scoped>\n",
       "    .dataframe tbody tr th:only-of-type {\n",
       "        vertical-align: middle;\n",
       "    }\n",
       "\n",
       "    .dataframe tbody tr th {\n",
       "        vertical-align: top;\n",
       "    }\n",
       "\n",
       "    .dataframe thead th {\n",
       "        text-align: right;\n",
       "    }\n",
       "</style>\n",
       "<table border=\"1\" class=\"dataframe\">\n",
       "  <thead>\n",
       "    <tr style=\"text-align: right;\">\n",
       "      <th></th>\n",
       "      <th>MonthlyTrade</th>\n",
       "      <th>mean</th>\n",
       "      <th>count</th>\n",
       "    </tr>\n",
       "  </thead>\n",
       "  <tbody>\n",
       "    <tr>\n",
       "      <th>0</th>\n",
       "      <td>1</td>\n",
       "      <td>0.406334</td>\n",
       "      <td>15</td>\n",
       "    </tr>\n",
       "    <tr>\n",
       "      <th>1</th>\n",
       "      <td>2</td>\n",
       "      <td>0.377857</td>\n",
       "      <td>18</td>\n",
       "    </tr>\n",
       "    <tr>\n",
       "      <th>2</th>\n",
       "      <td>3</td>\n",
       "      <td>0.353521</td>\n",
       "      <td>24</td>\n",
       "    </tr>\n",
       "    <tr>\n",
       "      <th>3</th>\n",
       "      <td>4</td>\n",
       "      <td>0.382298</td>\n",
       "      <td>23</td>\n",
       "    </tr>\n",
       "    <tr>\n",
       "      <th>4</th>\n",
       "      <td>5</td>\n",
       "      <td>0.389149</td>\n",
       "      <td>30</td>\n",
       "    </tr>\n",
       "    <tr>\n",
       "      <th>5</th>\n",
       "      <td>6</td>\n",
       "      <td>0.390437</td>\n",
       "      <td>15</td>\n",
       "    </tr>\n",
       "    <tr>\n",
       "      <th>6</th>\n",
       "      <td>7</td>\n",
       "      <td>0.374922</td>\n",
       "      <td>30</td>\n",
       "    </tr>\n",
       "    <tr>\n",
       "      <th>7</th>\n",
       "      <td>8</td>\n",
       "      <td>0.382581</td>\n",
       "      <td>24</td>\n",
       "    </tr>\n",
       "    <tr>\n",
       "      <th>8</th>\n",
       "      <td>9</td>\n",
       "      <td>0.356593</td>\n",
       "      <td>23</td>\n",
       "    </tr>\n",
       "  </tbody>\n",
       "</table>\n",
       "</div>"
      ],
      "text/plain": [
       "   MonthlyTrade      mean  count\n",
       "0             1  0.406334     15\n",
       "1             2  0.377857     18\n",
       "2             3  0.353521     24\n",
       "3             4  0.382298     23\n",
       "4             5  0.389149     30\n",
       "5             6  0.390437     15\n",
       "6             7  0.374922     30\n",
       "7             8  0.382581     24\n",
       "8             9  0.356593     23"
      ]
     },
     "execution_count": 138,
     "metadata": {},
     "output_type": "execute_result"
    }
   ],
   "source": [
    "monthly_Stats"
   ]
  },
  {
   "cell_type": "code",
   "execution_count": 139,
   "id": "a674c50a-bc0d-4222-bf94-40766f51f136",
   "metadata": {},
   "outputs": [],
   "source": [
    "monthly_Stats.rename(columns={'mean':'avg_cost','count':'trades'}, inplace=True)"
   ]
  },
  {
   "cell_type": "code",
   "execution_count": 151,
   "id": "78e290ac-90e1-45ae-adf7-d8e20ad420eb",
   "metadata": {},
   "outputs": [
    {
     "data": {
      "text/html": [
       "<div>\n",
       "<style scoped>\n",
       "    .dataframe tbody tr th:only-of-type {\n",
       "        vertical-align: middle;\n",
       "    }\n",
       "\n",
       "    .dataframe tbody tr th {\n",
       "        vertical-align: top;\n",
       "    }\n",
       "\n",
       "    .dataframe thead th {\n",
       "        text-align: right;\n",
       "    }\n",
       "</style>\n",
       "<table border=\"1\" class=\"dataframe\">\n",
       "  <thead>\n",
       "    <tr style=\"text-align: right;\">\n",
       "      <th></th>\n",
       "      <th>MonthlyTrade</th>\n",
       "      <th>avg_cost</th>\n",
       "      <th>trades</th>\n",
       "    </tr>\n",
       "  </thead>\n",
       "  <tbody>\n",
       "    <tr>\n",
       "      <th>0</th>\n",
       "      <td>1</td>\n",
       "      <td>0.406334</td>\n",
       "      <td>15</td>\n",
       "    </tr>\n",
       "    <tr>\n",
       "      <th>1</th>\n",
       "      <td>2</td>\n",
       "      <td>0.377857</td>\n",
       "      <td>18</td>\n",
       "    </tr>\n",
       "    <tr>\n",
       "      <th>2</th>\n",
       "      <td>3</td>\n",
       "      <td>0.353521</td>\n",
       "      <td>24</td>\n",
       "    </tr>\n",
       "    <tr>\n",
       "      <th>3</th>\n",
       "      <td>4</td>\n",
       "      <td>0.382298</td>\n",
       "      <td>23</td>\n",
       "    </tr>\n",
       "    <tr>\n",
       "      <th>4</th>\n",
       "      <td>5</td>\n",
       "      <td>0.389149</td>\n",
       "      <td>30</td>\n",
       "    </tr>\n",
       "    <tr>\n",
       "      <th>5</th>\n",
       "      <td>6</td>\n",
       "      <td>0.390437</td>\n",
       "      <td>15</td>\n",
       "    </tr>\n",
       "    <tr>\n",
       "      <th>6</th>\n",
       "      <td>7</td>\n",
       "      <td>0.374922</td>\n",
       "      <td>30</td>\n",
       "    </tr>\n",
       "    <tr>\n",
       "      <th>7</th>\n",
       "      <td>8</td>\n",
       "      <td>0.382581</td>\n",
       "      <td>24</td>\n",
       "    </tr>\n",
       "    <tr>\n",
       "      <th>8</th>\n",
       "      <td>9</td>\n",
       "      <td>0.356593</td>\n",
       "      <td>23</td>\n",
       "    </tr>\n",
       "  </tbody>\n",
       "</table>\n",
       "</div>"
      ],
      "text/plain": [
       "   MonthlyTrade  avg_cost  trades\n",
       "0             1  0.406334      15\n",
       "1             2  0.377857      18\n",
       "2             3  0.353521      24\n",
       "3             4  0.382298      23\n",
       "4             5  0.389149      30\n",
       "5             6  0.390437      15\n",
       "6             7  0.374922      30\n",
       "7             8  0.382581      24\n",
       "8             9  0.356593      23"
      ]
     },
     "execution_count": 151,
     "metadata": {},
     "output_type": "execute_result"
    }
   ],
   "source": [
    "monthly_Stats"
   ]
  },
  {
   "cell_type": "code",
   "execution_count": 162,
   "id": "484a983d-7a42-41b2-b037-e348cbbf1a09",
   "metadata": {},
   "outputs": [
    {
     "data": {
      "image/png": "[encoded data removed]",
      "text/plain": [
       "<Figure size 800x500 with 2 Axes>"
      ]
     },
     "metadata": {},
     "output_type": "display_data"
    }
   ],
   "source": [
    "plt.figure(figsize=(8,5))\n",
    "plt.subplot(1,2,1)\n",
    "plt.plot(monthly_Stats['MonthlyTrade'], monthly_Stats['avg_cost'], marker='o', linewidth=2)\n",
    "plt.title(f\"Average Trading Cost Seasonality View \")\n",
    "plt.xlabel(\"Month\")\n",
    "plt.ylabel(\"Average Trading Cost\")\n",
    "plt.grid(True)\n",
    "plt.tight_layout()\n",
    "plt.subplot(1,2,2)\n",
    "plt.plot(monthly_Stats['MonthlyTrade'], monthly_Stats['trades'], marker='o', linewidth=2)\n",
    "plt.title(f\"Number of trades Monthwise \")\n",
    "plt.xlabel(\"Month\")\n",
    "plt.ylabel(\"Number of trades\")\n",
    "plt.grid(True)\n",
    "plt.tight_layout()\n",
    "plt.show()"
   ]
  },
  {
   "cell_type": "code",
   "execution_count": 145,
   "id": "72c06f85-378b-43ff-a17c-2de9a3973e3f",
   "metadata": {},
   "outputs": [],
   "source": [
    "top_Venues = venue_Stats.head(3)['ExecutionVenue'].tolist()"
   ]
  },
  {
   "cell_type": "code",
   "execution_count": 147,
   "id": "05495ae5-4739-46ab-a83a-9198ae021468",
   "metadata": {},
   "outputs": [],
   "source": [
    "top_Counterparties = counterparty_Stats.head(3)['Counterparty'].tolist()"
   ]
  },
  {
   "cell_type": "code",
   "execution_count": 164,
   "id": "c1ecaea2-4ff7-41e8-b3e1-b8bd97fea0ad",
   "metadata": {},
   "outputs": [
    {
     "data": {
      "text/plain": [
       "['Venue 1', 'Venue 2', 'Venue 3']"
      ]
     },
     "execution_count": 164,
     "metadata": {},
     "output_type": "execute_result"
    }
   ],
   "source": [
    "top_Venues"
   ]
  },
  {
   "cell_type": "code",
   "execution_count": 165,
   "id": "8a914c30-e637-4038-9c66-defce5671941",
   "metadata": {},
   "outputs": [
    {
     "data": {
      "text/plain": [
       "['BRK 4', 'BRK 2', 'BRK 3']"
      ]
     },
     "execution_count": 165,
     "metadata": {},
     "output_type": "execute_result"
    }
   ],
   "source": [
    "top_Counterparties"
   ]
  },
  {
   "cell_type": "code",
   "execution_count": 167,
   "id": "4a590fbf-9ece-438c-a9b1-341d11c2a805",
   "metadata": {},
   "outputs": [],
   "source": [
    "monthwise_top_venues = df[df['ExecutionVenue'].isin(top_Venues)].groupby(['MonthlyTrade','ExecutionVenue'])['TransactionCost%ofPrice'].mean().reset_index()\n"
   ]
  },
  {
   "cell_type": "code",
   "execution_count": 168,
   "id": "fc01a3d8-645d-49d9-9826-b6227ab81265",
   "metadata": {},
   "outputs": [
    {
     "data": {
      "text/html": [
       "<div>\n",
       "<style scoped>\n",
       "    .dataframe tbody tr th:only-of-type {\n",
       "        vertical-align: middle;\n",
       "    }\n",
       "\n",
       "    .dataframe tbody tr th {\n",
       "        vertical-align: top;\n",
       "    }\n",
       "\n",
       "    .dataframe thead th {\n",
       "        text-align: right;\n",
       "    }\n",
       "</style>\n",
       "<table border=\"1\" class=\"dataframe\">\n",
       "  <thead>\n",
       "    <tr style=\"text-align: right;\">\n",
       "      <th></th>\n",
       "      <th>MonthlyTrade</th>\n",
       "      <th>ExecutionVenue</th>\n",
       "      <th>TransactionCost%ofPrice</th>\n",
       "    </tr>\n",
       "  </thead>\n",
       "  <tbody>\n",
       "    <tr>\n",
       "      <th>0</th>\n",
       "      <td>1</td>\n",
       "      <td>Venue 1</td>\n",
       "      <td>0.401112</td>\n",
       "    </tr>\n",
       "    <tr>\n",
       "      <th>1</th>\n",
       "      <td>1</td>\n",
       "      <td>Venue 2</td>\n",
       "      <td>0.415122</td>\n",
       "    </tr>\n",
       "    <tr>\n",
       "      <th>2</th>\n",
       "      <td>1</td>\n",
       "      <td>Venue 3</td>\n",
       "      <td>0.404296</td>\n",
       "    </tr>\n",
       "    <tr>\n",
       "      <th>3</th>\n",
       "      <td>2</td>\n",
       "      <td>Venue 1</td>\n",
       "      <td>0.348955</td>\n",
       "    </tr>\n",
       "    <tr>\n",
       "      <th>4</th>\n",
       "      <td>2</td>\n",
       "      <td>Venue 2</td>\n",
       "      <td>0.466305</td>\n",
       "    </tr>\n",
       "    <tr>\n",
       "      <th>5</th>\n",
       "      <td>2</td>\n",
       "      <td>Venue 3</td>\n",
       "      <td>0.393720</td>\n",
       "    </tr>\n",
       "    <tr>\n",
       "      <th>6</th>\n",
       "      <td>3</td>\n",
       "      <td>Venue 1</td>\n",
       "      <td>0.342069</td>\n",
       "    </tr>\n",
       "    <tr>\n",
       "      <th>7</th>\n",
       "      <td>3</td>\n",
       "      <td>Venue 2</td>\n",
       "      <td>0.348559</td>\n",
       "    </tr>\n",
       "    <tr>\n",
       "      <th>8</th>\n",
       "      <td>3</td>\n",
       "      <td>Venue 3</td>\n",
       "      <td>0.366839</td>\n",
       "    </tr>\n",
       "    <tr>\n",
       "      <th>9</th>\n",
       "      <td>4</td>\n",
       "      <td>Venue 1</td>\n",
       "      <td>0.355185</td>\n",
       "    </tr>\n",
       "    <tr>\n",
       "      <th>10</th>\n",
       "      <td>4</td>\n",
       "      <td>Venue 2</td>\n",
       "      <td>0.392416</td>\n",
       "    </tr>\n",
       "    <tr>\n",
       "      <th>11</th>\n",
       "      <td>4</td>\n",
       "      <td>Venue 3</td>\n",
       "      <td>0.400558</td>\n",
       "    </tr>\n",
       "    <tr>\n",
       "      <th>12</th>\n",
       "      <td>5</td>\n",
       "      <td>Venue 1</td>\n",
       "      <td>0.367078</td>\n",
       "    </tr>\n",
       "    <tr>\n",
       "      <th>13</th>\n",
       "      <td>5</td>\n",
       "      <td>Venue 2</td>\n",
       "      <td>0.397490</td>\n",
       "    </tr>\n",
       "    <tr>\n",
       "      <th>14</th>\n",
       "      <td>5</td>\n",
       "      <td>Venue 3</td>\n",
       "      <td>0.394822</td>\n",
       "    </tr>\n",
       "    <tr>\n",
       "      <th>15</th>\n",
       "      <td>6</td>\n",
       "      <td>Venue 1</td>\n",
       "      <td>0.372218</td>\n",
       "    </tr>\n",
       "    <tr>\n",
       "      <th>16</th>\n",
       "      <td>6</td>\n",
       "      <td>Venue 2</td>\n",
       "      <td>0.370365</td>\n",
       "    </tr>\n",
       "    <tr>\n",
       "      <th>17</th>\n",
       "      <td>6</td>\n",
       "      <td>Venue 3</td>\n",
       "      <td>0.419618</td>\n",
       "    </tr>\n",
       "    <tr>\n",
       "      <th>18</th>\n",
       "      <td>7</td>\n",
       "      <td>Venue 1</td>\n",
       "      <td>0.386690</td>\n",
       "    </tr>\n",
       "    <tr>\n",
       "      <th>19</th>\n",
       "      <td>7</td>\n",
       "      <td>Venue 2</td>\n",
       "      <td>0.376156</td>\n",
       "    </tr>\n",
       "    <tr>\n",
       "      <th>20</th>\n",
       "      <td>7</td>\n",
       "      <td>Venue 3</td>\n",
       "      <td>0.366049</td>\n",
       "    </tr>\n",
       "    <tr>\n",
       "      <th>21</th>\n",
       "      <td>8</td>\n",
       "      <td>Venue 1</td>\n",
       "      <td>0.401284</td>\n",
       "    </tr>\n",
       "    <tr>\n",
       "      <th>22</th>\n",
       "      <td>8</td>\n",
       "      <td>Venue 2</td>\n",
       "      <td>0.344725</td>\n",
       "    </tr>\n",
       "    <tr>\n",
       "      <th>23</th>\n",
       "      <td>8</td>\n",
       "      <td>Venue 3</td>\n",
       "      <td>0.401683</td>\n",
       "    </tr>\n",
       "    <tr>\n",
       "      <th>24</th>\n",
       "      <td>9</td>\n",
       "      <td>Venue 1</td>\n",
       "      <td>0.360894</td>\n",
       "    </tr>\n",
       "    <tr>\n",
       "      <th>25</th>\n",
       "      <td>9</td>\n",
       "      <td>Venue 2</td>\n",
       "      <td>0.342216</td>\n",
       "    </tr>\n",
       "    <tr>\n",
       "      <th>26</th>\n",
       "      <td>9</td>\n",
       "      <td>Venue 3</td>\n",
       "      <td>0.363085</td>\n",
       "    </tr>\n",
       "  </tbody>\n",
       "</table>\n",
       "</div>"
      ],
      "text/plain": [
       "    MonthlyTrade ExecutionVenue  TransactionCost%ofPrice\n",
       "0              1        Venue 1                 0.401112\n",
       "1              1        Venue 2                 0.415122\n",
       "2              1        Venue 3                 0.404296\n",
       "3              2        Venue 1                 0.348955\n",
       "4              2        Venue 2                 0.466305\n",
       "5              2        Venue 3                 0.393720\n",
       "6              3        Venue 1                 0.342069\n",
       "7              3        Venue 2                 0.348559\n",
       "8              3        Venue 3                 0.366839\n",
       "9              4        Venue 1                 0.355185\n",
       "10             4        Venue 2                 0.392416\n",
       "11             4        Venue 3                 0.400558\n",
       "12             5        Venue 1                 0.367078\n",
       "13             5        Venue 2                 0.397490\n",
       "14             5        Venue 3                 0.394822\n",
       "15             6        Venue 1                 0.372218\n",
       "16             6        Venue 2                 0.370365\n",
       "17             6        Venue 3                 0.419618\n",
       "18             7        Venue 1                 0.386690\n",
       "19             7        Venue 2                 0.376156\n",
       "20             7        Venue 3                 0.366049\n",
       "21             8        Venue 1                 0.401284\n",
       "22             8        Venue 2                 0.344725\n",
       "23             8        Venue 3                 0.401683\n",
       "24             9        Venue 1                 0.360894\n",
       "25             9        Venue 2                 0.342216\n",
       "26             9        Venue 3                 0.363085"
      ]
     },
     "execution_count": 168,
     "metadata": {},
     "output_type": "execute_result"
    }
   ],
   "source": [
    "monthwise_top_venues"
   ]
  },
  {
   "cell_type": "code",
   "execution_count": 170,
   "id": "f459196c-874e-4b89-91a5-578e637deec6",
   "metadata": {},
   "outputs": [],
   "source": [
    "monthwise_top_counterparties = df[df['Counterparty'].isin(top_Counterparties)].groupby(['MonthlyTrade','Counterparty'])['TransactionCost%ofPrice'].mean().reset_index()"
   ]
  },
  {
   "cell_type": "code",
   "execution_count": 498,
   "id": "151ae961-27e9-4f2c-bde3-12d7c8904382",
   "metadata": {},
   "outputs": [
    {
     "data": {
      "text/html": [
       "<div>\n",
       "<style scoped>\n",
       "    .dataframe tbody tr th:only-of-type {\n",
       "        vertical-align: middle;\n",
       "    }\n",
       "\n",
       "    .dataframe tbody tr th {\n",
       "        vertical-align: top;\n",
       "    }\n",
       "\n",
       "    .dataframe thead th {\n",
       "        text-align: right;\n",
       "    }\n",
       "</style>\n",
       "<table border=\"1\" class=\"dataframe\">\n",
       "  <thead>\n",
       "    <tr style=\"text-align: right;\">\n",
       "      <th></th>\n",
       "      <th>MonthlyTrade</th>\n",
       "      <th>Counterparty</th>\n",
       "      <th>TransactionCost%ofPrice</th>\n",
       "    </tr>\n",
       "  </thead>\n",
       "  <tbody>\n",
       "    <tr>\n",
       "      <th>0</th>\n",
       "      <td>1</td>\n",
       "      <td>BRK 2</td>\n",
       "      <td>0.414806</td>\n",
       "    </tr>\n",
       "    <tr>\n",
       "      <th>1</th>\n",
       "      <td>1</td>\n",
       "      <td>BRK 3</td>\n",
       "      <td>0.414804</td>\n",
       "    </tr>\n",
       "    <tr>\n",
       "      <th>2</th>\n",
       "      <td>2</td>\n",
       "      <td>BRK 2</td>\n",
       "      <td>0.373822</td>\n",
       "    </tr>\n",
       "    <tr>\n",
       "      <th>3</th>\n",
       "      <td>2</td>\n",
       "      <td>BRK 3</td>\n",
       "      <td>0.343700</td>\n",
       "    </tr>\n",
       "    <tr>\n",
       "      <th>4</th>\n",
       "      <td>2</td>\n",
       "      <td>BRK 4</td>\n",
       "      <td>0.380686</td>\n",
       "    </tr>\n",
       "    <tr>\n",
       "      <th>5</th>\n",
       "      <td>3</td>\n",
       "      <td>BRK 2</td>\n",
       "      <td>0.311855</td>\n",
       "    </tr>\n",
       "    <tr>\n",
       "      <th>6</th>\n",
       "      <td>3</td>\n",
       "      <td>BRK 3</td>\n",
       "      <td>0.322246</td>\n",
       "    </tr>\n",
       "    <tr>\n",
       "      <th>7</th>\n",
       "      <td>3</td>\n",
       "      <td>BRK 4</td>\n",
       "      <td>0.326968</td>\n",
       "    </tr>\n",
       "    <tr>\n",
       "      <th>8</th>\n",
       "      <td>4</td>\n",
       "      <td>BRK 2</td>\n",
       "      <td>0.378799</td>\n",
       "    </tr>\n",
       "    <tr>\n",
       "      <th>9</th>\n",
       "      <td>4</td>\n",
       "      <td>BRK 3</td>\n",
       "      <td>0.355879</td>\n",
       "    </tr>\n",
       "    <tr>\n",
       "      <th>10</th>\n",
       "      <td>4</td>\n",
       "      <td>BRK 4</td>\n",
       "      <td>0.338853</td>\n",
       "    </tr>\n",
       "    <tr>\n",
       "      <th>11</th>\n",
       "      <td>5</td>\n",
       "      <td>BRK 2</td>\n",
       "      <td>0.415210</td>\n",
       "    </tr>\n",
       "    <tr>\n",
       "      <th>12</th>\n",
       "      <td>5</td>\n",
       "      <td>BRK 3</td>\n",
       "      <td>0.379618</td>\n",
       "    </tr>\n",
       "    <tr>\n",
       "      <th>13</th>\n",
       "      <td>5</td>\n",
       "      <td>BRK 4</td>\n",
       "      <td>0.361452</td>\n",
       "    </tr>\n",
       "    <tr>\n",
       "      <th>14</th>\n",
       "      <td>6</td>\n",
       "      <td>BRK 2</td>\n",
       "      <td>0.391900</td>\n",
       "    </tr>\n",
       "    <tr>\n",
       "      <th>15</th>\n",
       "      <td>6</td>\n",
       "      <td>BRK 3</td>\n",
       "      <td>0.414556</td>\n",
       "    </tr>\n",
       "    <tr>\n",
       "      <th>16</th>\n",
       "      <td>6</td>\n",
       "      <td>BRK 4</td>\n",
       "      <td>0.404090</td>\n",
       "    </tr>\n",
       "    <tr>\n",
       "      <th>17</th>\n",
       "      <td>7</td>\n",
       "      <td>BRK 2</td>\n",
       "      <td>0.364559</td>\n",
       "    </tr>\n",
       "    <tr>\n",
       "      <th>18</th>\n",
       "      <td>7</td>\n",
       "      <td>BRK 3</td>\n",
       "      <td>0.452292</td>\n",
       "    </tr>\n",
       "    <tr>\n",
       "      <th>19</th>\n",
       "      <td>7</td>\n",
       "      <td>BRK 4</td>\n",
       "      <td>0.355757</td>\n",
       "    </tr>\n",
       "    <tr>\n",
       "      <th>20</th>\n",
       "      <td>8</td>\n",
       "      <td>BRK 2</td>\n",
       "      <td>0.358739</td>\n",
       "    </tr>\n",
       "    <tr>\n",
       "      <th>21</th>\n",
       "      <td>8</td>\n",
       "      <td>BRK 3</td>\n",
       "      <td>0.383817</td>\n",
       "    </tr>\n",
       "    <tr>\n",
       "      <th>22</th>\n",
       "      <td>8</td>\n",
       "      <td>BRK 4</td>\n",
       "      <td>0.370273</td>\n",
       "    </tr>\n",
       "    <tr>\n",
       "      <th>23</th>\n",
       "      <td>9</td>\n",
       "      <td>BRK 2</td>\n",
       "      <td>0.351584</td>\n",
       "    </tr>\n",
       "    <tr>\n",
       "      <th>24</th>\n",
       "      <td>9</td>\n",
       "      <td>BRK 3</td>\n",
       "      <td>0.369839</td>\n",
       "    </tr>\n",
       "    <tr>\n",
       "      <th>25</th>\n",
       "      <td>9</td>\n",
       "      <td>BRK 4</td>\n",
       "      <td>0.336094</td>\n",
       "    </tr>\n",
       "  </tbody>\n",
       "</table>\n",
       "</div>"
      ],
      "text/plain": [
       "    MonthlyTrade Counterparty  TransactionCost%ofPrice\n",
       "0              1        BRK 2                 0.414806\n",
       "1              1        BRK 3                 0.414804\n",
       "2              2        BRK 2                 0.373822\n",
       "3              2        BRK 3                 0.343700\n",
       "4              2        BRK 4                 0.380686\n",
       "5              3        BRK 2                 0.311855\n",
       "6              3        BRK 3                 0.322246\n",
       "7              3        BRK 4                 0.326968\n",
       "8              4        BRK 2                 0.378799\n",
       "9              4        BRK 3                 0.355879\n",
       "10             4        BRK 4                 0.338853\n",
       "11             5        BRK 2                 0.415210\n",
       "12             5        BRK 3                 0.379618\n",
       "13             5        BRK 4                 0.361452\n",
       "14             6        BRK 2                 0.391900\n",
       "15             6        BRK 3                 0.414556\n",
       "16             6        BRK 4                 0.404090\n",
       "17             7        BRK 2                 0.364559\n",
       "18             7        BRK 3                 0.452292\n",
       "19             7        BRK 4                 0.355757\n",
       "20             8        BRK 2                 0.358739\n",
       "21             8        BRK 3                 0.383817\n",
       "22             8        BRK 4                 0.370273\n",
       "23             9        BRK 2                 0.351584\n",
       "24             9        BRK 3                 0.369839\n",
       "25             9        BRK 4                 0.336094"
      ]
     },
     "execution_count": 498,
     "metadata": {},
     "output_type": "execute_result"
    }
   ],
   "source": [
    "monthwise_top_counterparties"
   ]
  },
  {
   "cell_type": "code",
   "execution_count": 172,
   "id": "f482f015-fe81-48d0-920d-eb940433275c",
   "metadata": {},
   "outputs": [],
   "source": [
    "pivot_cv = df.pivot_table(values='TransactionCost%ofPrice', index='Counterparty', columns='ExecutionVenue', aggfunc='mean')"
   ]
  },
  {
   "cell_type": "code",
   "execution_count": 173,
   "id": "6b92d689-ef5d-4d0e-bc01-f73efd1c2d22",
   "metadata": {},
   "outputs": [
    {
     "data": {
      "text/html": [
       "<div>\n",
       "<style scoped>\n",
       "    .dataframe tbody tr th:only-of-type {\n",
       "        vertical-align: middle;\n",
       "    }\n",
       "\n",
       "    .dataframe tbody tr th {\n",
       "        vertical-align: top;\n",
       "    }\n",
       "\n",
       "    .dataframe thead th {\n",
       "        text-align: right;\n",
       "    }\n",
       "</style>\n",
       "<table border=\"1\" class=\"dataframe\">\n",
       "  <thead>\n",
       "    <tr style=\"text-align: right;\">\n",
       "      <th>ExecutionVenue</th>\n",
       "      <th>Venue 1</th>\n",
       "      <th>Venue 2</th>\n",
       "      <th>Venue 3</th>\n",
       "    </tr>\n",
       "    <tr>\n",
       "      <th>Counterparty</th>\n",
       "      <th></th>\n",
       "      <th></th>\n",
       "      <th></th>\n",
       "    </tr>\n",
       "  </thead>\n",
       "  <tbody>\n",
       "    <tr>\n",
       "      <th>BRK 1</th>\n",
       "      <td>0.344560</td>\n",
       "      <td>0.373395</td>\n",
       "      <td>0.420711</td>\n",
       "    </tr>\n",
       "    <tr>\n",
       "      <th>BRK 2</th>\n",
       "      <td>0.374688</td>\n",
       "      <td>0.376993</td>\n",
       "      <td>0.352725</td>\n",
       "    </tr>\n",
       "    <tr>\n",
       "      <th>BRK 3</th>\n",
       "      <td>0.374017</td>\n",
       "      <td>0.382104</td>\n",
       "      <td>0.397108</td>\n",
       "    </tr>\n",
       "    <tr>\n",
       "      <th>BRK 4</th>\n",
       "      <td>0.320907</td>\n",
       "      <td>0.349021</td>\n",
       "      <td>0.395174</td>\n",
       "    </tr>\n",
       "    <tr>\n",
       "      <th>BRK 5</th>\n",
       "      <td>0.407762</td>\n",
       "      <td>0.405420</td>\n",
       "      <td>0.374979</td>\n",
       "    </tr>\n",
       "  </tbody>\n",
       "</table>\n",
       "</div>"
      ],
      "text/plain": [
       "ExecutionVenue   Venue 1   Venue 2   Venue 3\n",
       "Counterparty                                \n",
       "BRK 1           0.344560  0.373395  0.420711\n",
       "BRK 2           0.374688  0.376993  0.352725\n",
       "BRK 3           0.374017  0.382104  0.397108\n",
       "BRK 4           0.320907  0.349021  0.395174\n",
       "BRK 5           0.407762  0.405420  0.374979"
      ]
     },
     "execution_count": 173,
     "metadata": {},
     "output_type": "execute_result"
    }
   ],
   "source": [
    "pivot_cv"
   ]
  },
  {
   "cell_type": "code",
   "execution_count": 174,
   "id": "855d3258-59a7-4166-a71b-39e950628e3c",
   "metadata": {},
   "outputs": [],
   "source": [
    "dfinstr = df[['TradeDate', 'Instrument', 'NotionalAmount']]\n"
   ]
  },
  {
   "cell_type": "code",
   "execution_count": 175,
   "id": "68edf32b-9453-4db7-a315-a9df11f2db41",
   "metadata": {},
   "outputs": [
    {
     "data": {
      "text/html": [
       "<div>\n",
       "<style scoped>\n",
       "    .dataframe tbody tr th:only-of-type {\n",
       "        vertical-align: middle;\n",
       "    }\n",
       "\n",
       "    .dataframe tbody tr th {\n",
       "        vertical-align: top;\n",
       "    }\n",
       "\n",
       "    .dataframe thead th {\n",
       "        text-align: right;\n",
       "    }\n",
       "</style>\n",
       "<table border=\"1\" class=\"dataframe\">\n",
       "  <thead>\n",
       "    <tr style=\"text-align: right;\">\n",
       "      <th></th>\n",
       "      <th>TradeDate</th>\n",
       "      <th>Instrument</th>\n",
       "      <th>NotionalAmount</th>\n",
       "    </tr>\n",
       "  </thead>\n",
       "  <tbody>\n",
       "    <tr>\n",
       "      <th>0</th>\n",
       "      <td>2025-05-07</td>\n",
       "      <td>Google</td>\n",
       "      <td>1095</td>\n",
       "    </tr>\n",
       "    <tr>\n",
       "      <th>1</th>\n",
       "      <td>2025-08-31</td>\n",
       "      <td>Apple</td>\n",
       "      <td>581</td>\n",
       "    </tr>\n",
       "    <tr>\n",
       "      <th>2</th>\n",
       "      <td>2025-01-15</td>\n",
       "      <td>Microsoft</td>\n",
       "      <td>1429</td>\n",
       "    </tr>\n",
       "    <tr>\n",
       "      <th>3</th>\n",
       "      <td>2025-05-27</td>\n",
       "      <td>Tesla</td>\n",
       "      <td>991</td>\n",
       "    </tr>\n",
       "    <tr>\n",
       "      <th>4</th>\n",
       "      <td>2025-02-06</td>\n",
       "      <td>Nvidia</td>\n",
       "      <td>1215</td>\n",
       "    </tr>\n",
       "    <tr>\n",
       "      <th>...</th>\n",
       "      <td>...</td>\n",
       "      <td>...</td>\n",
       "      <td>...</td>\n",
       "    </tr>\n",
       "    <tr>\n",
       "      <th>197</th>\n",
       "      <td>2025-04-08</td>\n",
       "      <td>Google</td>\n",
       "      <td>686</td>\n",
       "    </tr>\n",
       "    <tr>\n",
       "      <th>198</th>\n",
       "      <td>2025-07-29</td>\n",
       "      <td>Google</td>\n",
       "      <td>1910</td>\n",
       "    </tr>\n",
       "    <tr>\n",
       "      <th>199</th>\n",
       "      <td>2025-05-21</td>\n",
       "      <td>Google</td>\n",
       "      <td>497</td>\n",
       "    </tr>\n",
       "    <tr>\n",
       "      <th>200</th>\n",
       "      <td>2025-05-02</td>\n",
       "      <td>Google</td>\n",
       "      <td>855</td>\n",
       "    </tr>\n",
       "    <tr>\n",
       "      <th>201</th>\n",
       "      <td>2025-03-13</td>\n",
       "      <td>Google</td>\n",
       "      <td>289</td>\n",
       "    </tr>\n",
       "  </tbody>\n",
       "</table>\n",
       "<p>202 rows × 3 columns</p>\n",
       "</div>"
      ],
      "text/plain": [
       "     TradeDate Instrument  NotionalAmount\n",
       "0   2025-05-07     Google            1095\n",
       "1   2025-08-31      Apple             581\n",
       "2   2025-01-15  Microsoft            1429\n",
       "3   2025-05-27      Tesla             991\n",
       "4   2025-02-06     Nvidia            1215\n",
       "..         ...        ...             ...\n",
       "197 2025-04-08     Google             686\n",
       "198 2025-07-29     Google            1910\n",
       "199 2025-05-21     Google             497\n",
       "200 2025-05-02     Google             855\n",
       "201 2025-03-13     Google             289\n",
       "\n",
       "[202 rows x 3 columns]"
      ]
     },
     "execution_count": 175,
     "metadata": {},
     "output_type": "execute_result"
    }
   ],
   "source": [
    "dfinstr"
   ]
  },
  {
   "cell_type": "code",
   "execution_count": 178,
   "id": "8cbf71b3-d4be-4ba7-b243-ba6fe4f3c1cb",
   "metadata": {},
   "outputs": [],
   "source": [
    "most_freq_Instrument = df['Instrument'].value_counts().idxmax()\n",
    "#.sort_values().head(1)"
   ]
  },
  {
   "cell_type": "code",
   "execution_count": 181,
   "id": "d46eb975-5f63-4e02-9543-6f2909d41bb7",
   "metadata": {},
   "outputs": [
    {
     "data": {
      "text/plain": [
       "Instrument\n",
       "Microsoft    46\n",
       "Tesla        45\n",
       "Google       42\n",
       "Apple        40\n",
       "Nvidia       29\n",
       "Name: count, dtype: Int64"
      ]
     },
     "execution_count": 181,
     "metadata": {},
     "output_type": "execute_result"
    }
   ],
   "source": [
    "df['Instrument'].value_counts()"
   ]
  },
  {
   "cell_type": "code",
   "execution_count": 182,
   "id": "eec4cf6a-7059-477b-8468-dd87f2f07b5e",
   "metadata": {},
   "outputs": [
    {
     "data": {
      "text/plain": [
       "'Microsoft'"
      ]
     },
     "execution_count": 182,
     "metadata": {},
     "output_type": "execute_result"
    }
   ],
   "source": [
    "most_freq_Instrument"
   ]
  },
  {
   "cell_type": "code",
   "execution_count": 183,
   "id": "9f1b2bab-d6fd-44d7-9e48-f12567e850ee",
   "metadata": {},
   "outputs": [],
   "source": [
    "most_freq_count = df['Instrument'].value_counts().max()"
   ]
  },
  {
   "cell_type": "code",
   "execution_count": 184,
   "id": "d2de5498-d0b6-405b-ae80-23e78b189a11",
   "metadata": {},
   "outputs": [
    {
     "data": {
      "text/plain": [
       "46"
      ]
     },
     "execution_count": 184,
     "metadata": {},
     "output_type": "execute_result"
    }
   ],
   "source": [
    "most_freq_count"
   ]
  },
  {
   "cell_type": "code",
   "execution_count": 187,
   "id": "3e1f01f2-569f-43b5-b5ec-f27eeb34c78a",
   "metadata": {},
   "outputs": [],
   "source": [
    "df_most_freq = df[df['Instrument'] == most_freq_Instrument].copy()"
   ]
  },
  {
   "cell_type": "code",
   "execution_count": 188,
   "id": "48b214d0-586e-4d04-aa1d-e524d7ff0bc0",
   "metadata": {},
   "outputs": [
    {
     "data": {
      "text/html": [
       "<div>\n",
       "<style scoped>\n",
       "    .dataframe tbody tr th:only-of-type {\n",
       "        vertical-align: middle;\n",
       "    }\n",
       "\n",
       "    .dataframe tbody tr th {\n",
       "        vertical-align: top;\n",
       "    }\n",
       "\n",
       "    .dataframe thead th {\n",
       "        text-align: right;\n",
       "    }\n",
       "</style>\n",
       "<table border=\"1\" class=\"dataframe\">\n",
       "  <thead>\n",
       "    <tr style=\"text-align: right;\">\n",
       "      <th></th>\n",
       "      <th>TradeId</th>\n",
       "      <th>TradeDate</th>\n",
       "      <th>Counterparty</th>\n",
       "      <th>Instrument</th>\n",
       "      <th>NotionalAmount</th>\n",
       "      <th>Price</th>\n",
       "      <th>SettlementAmount</th>\n",
       "      <th>TradeDirection</th>\n",
       "      <th>ExecutionVenue</th>\n",
       "      <th>TransactionCost%ofPrice</th>\n",
       "      <th>SettlementBucket</th>\n",
       "      <th>MonthlyTrade</th>\n",
       "    </tr>\n",
       "  </thead>\n",
       "  <tbody>\n",
       "    <tr>\n",
       "      <th>2</th>\n",
       "      <td>18878</td>\n",
       "      <td>2025-01-15</td>\n",
       "      <td>BRK 3</td>\n",
       "      <td>Microsoft</td>\n",
       "      <td>1429</td>\n",
       "      <td>98</td>\n",
       "      <td>140042</td>\n",
       "      <td>SELL</td>\n",
       "      <td>Venue 2</td>\n",
       "      <td>0.436245</td>\n",
       "      <td>Bucket 4</td>\n",
       "      <td>1</td>\n",
       "    </tr>\n",
       "    <tr>\n",
       "      <th>7</th>\n",
       "      <td>17586</td>\n",
       "      <td>2025-05-18</td>\n",
       "      <td>BRK 1</td>\n",
       "      <td>Microsoft</td>\n",
       "      <td>299</td>\n",
       "      <td>96</td>\n",
       "      <td>28704</td>\n",
       "      <td>BUY</td>\n",
       "      <td>Venue 3</td>\n",
       "      <td>0.302660</td>\n",
       "      <td>Bucket 2</td>\n",
       "      <td>5</td>\n",
       "    </tr>\n",
       "    <tr>\n",
       "      <th>12</th>\n",
       "      <td>12047</td>\n",
       "      <td>2025-07-17</td>\n",
       "      <td>BRK 4</td>\n",
       "      <td>Microsoft</td>\n",
       "      <td>1849</td>\n",
       "      <td>100</td>\n",
       "      <td>184900</td>\n",
       "      <td>SELL</td>\n",
       "      <td>Venue 2</td>\n",
       "      <td>0.416648</td>\n",
       "      <td>Bucket 5</td>\n",
       "      <td>7</td>\n",
       "    </tr>\n",
       "    <tr>\n",
       "      <th>17</th>\n",
       "      <td>10169</td>\n",
       "      <td>2025-07-03</td>\n",
       "      <td>BRK 2</td>\n",
       "      <td>Microsoft</td>\n",
       "      <td>1799</td>\n",
       "      <td>101</td>\n",
       "      <td>181699</td>\n",
       "      <td>BUY</td>\n",
       "      <td>Venue 1</td>\n",
       "      <td>0.286633</td>\n",
       "      <td>Bucket 5</td>\n",
       "      <td>7</td>\n",
       "    </tr>\n",
       "    <tr>\n",
       "      <th>22</th>\n",
       "      <td>19789</td>\n",
       "      <td>2025-02-08</td>\n",
       "      <td>BRK 4</td>\n",
       "      <td>Microsoft</td>\n",
       "      <td>837</td>\n",
       "      <td>100</td>\n",
       "      <td>83700</td>\n",
       "      <td>BUY</td>\n",
       "      <td>Venue 3</td>\n",
       "      <td>0.490115</td>\n",
       "      <td>Bucket 3</td>\n",
       "      <td>2</td>\n",
       "    </tr>\n",
       "  </tbody>\n",
       "</table>\n",
       "</div>"
      ],
      "text/plain": [
       "    TradeId  TradeDate Counterparty Instrument  NotionalAmount  Price  \\\n",
       "2     18878 2025-01-15        BRK 3  Microsoft            1429     98   \n",
       "7     17586 2025-05-18        BRK 1  Microsoft             299     96   \n",
       "12    12047 2025-07-17        BRK 4  Microsoft            1849    100   \n",
       "17    10169 2025-07-03        BRK 2  Microsoft            1799    101   \n",
       "22    19789 2025-02-08        BRK 4  Microsoft             837    100   \n",
       "\n",
       "    SettlementAmount TradeDirection ExecutionVenue  TransactionCost%ofPrice  \\\n",
       "2             140042           SELL        Venue 2                 0.436245   \n",
       "7              28704            BUY        Venue 3                 0.302660   \n",
       "12            184900           SELL        Venue 2                 0.416648   \n",
       "17            181699            BUY        Venue 1                 0.286633   \n",
       "22             83700            BUY        Venue 3                 0.490115   \n",
       "\n",
       "   SettlementBucket  MonthlyTrade  \n",
       "2          Bucket 4             1  \n",
       "7          Bucket 2             5  \n",
       "12         Bucket 5             7  \n",
       "17         Bucket 5             7  \n",
       "22         Bucket 3             2  "
      ]
     },
     "execution_count": 188,
     "metadata": {},
     "output_type": "execute_result"
    }
   ],
   "source": [
    "df_most_freq.head()"
   ]
  },
  {
   "cell_type": "code",
   "execution_count": 189,
   "id": "020bac03-7bbd-4188-a782-db2fb775d2bd",
   "metadata": {},
   "outputs": [],
   "source": [
    "from datetime import datetime"
   ]
  },
  {
   "cell_type": "code",
   "execution_count": 190,
   "id": "2ac90a09-ee61-4467-92f8-6453b6ef206b",
   "metadata": {},
   "outputs": [
    {
     "data": {
      "text/plain": [
       "Index(['TradeId', 'TradeDate', 'Counterparty', 'Instrument', 'NotionalAmount',\n",
       "       'Price', 'SettlementAmount', 'TradeDirection', 'ExecutionVenue',\n",
       "       'TransactionCost%ofPrice', 'SettlementBucket', 'MonthlyTrade'],\n",
       "      dtype='object')"
      ]
     },
     "execution_count": 190,
     "metadata": {},
     "output_type": "execute_result"
    }
   ],
   "source": [
    "df.columns"
   ]
  },
  {
   "cell_type": "code",
   "execution_count": 374,
   "id": "35321329-d55a-4b71-b558-8b2fce87ea91",
   "metadata": {},
   "outputs": [],
   "source": [
    "#df_most_freq_month = df_most_freq['TradeDate'].dt.to_period('M').dt.to_timestamp()"
   ]
  },
  {
   "cell_type": "code",
   "execution_count": 191,
   "id": "4753d466-4af8-4422-a8c2-51e716b29421",
   "metadata": {},
   "outputs": [],
   "source": [
    "df_most_freq['Month'] = df_most_freq['TradeDate'].dt.to_period('M').dt.to_timestamp()\n",
    "#df_most_freq['TradeDate']\n",
    "#pd.to_datetime(df_most_freq['TradeDate']).dt.month\n",
    "#df_most_freq_month"
   ]
  },
  {
   "cell_type": "code",
   "execution_count": 193,
   "id": "44a42c2d-de66-42b8-ba91-9dcf4a291c58",
   "metadata": {},
   "outputs": [
    {
     "data": {
      "text/html": [
       "<div>\n",
       "<style scoped>\n",
       "    .dataframe tbody tr th:only-of-type {\n",
       "        vertical-align: middle;\n",
       "    }\n",
       "\n",
       "    .dataframe tbody tr th {\n",
       "        vertical-align: top;\n",
       "    }\n",
       "\n",
       "    .dataframe thead th {\n",
       "        text-align: right;\n",
       "    }\n",
       "</style>\n",
       "<table border=\"1\" class=\"dataframe\">\n",
       "  <thead>\n",
       "    <tr style=\"text-align: right;\">\n",
       "      <th></th>\n",
       "      <th>TradeId</th>\n",
       "      <th>TradeDate</th>\n",
       "      <th>Counterparty</th>\n",
       "      <th>Instrument</th>\n",
       "      <th>NotionalAmount</th>\n",
       "      <th>Price</th>\n",
       "      <th>SettlementAmount</th>\n",
       "      <th>TradeDirection</th>\n",
       "      <th>ExecutionVenue</th>\n",
       "      <th>TransactionCost%ofPrice</th>\n",
       "      <th>SettlementBucket</th>\n",
       "      <th>MonthlyTrade</th>\n",
       "      <th>Month</th>\n",
       "    </tr>\n",
       "  </thead>\n",
       "  <tbody>\n",
       "    <tr>\n",
       "      <th>2</th>\n",
       "      <td>18878</td>\n",
       "      <td>2025-01-15</td>\n",
       "      <td>BRK 3</td>\n",
       "      <td>Microsoft</td>\n",
       "      <td>1429</td>\n",
       "      <td>98</td>\n",
       "      <td>140042</td>\n",
       "      <td>SELL</td>\n",
       "      <td>Venue 2</td>\n",
       "      <td>0.436245</td>\n",
       "      <td>Bucket 4</td>\n",
       "      <td>1</td>\n",
       "      <td>2025-01-01</td>\n",
       "    </tr>\n",
       "    <tr>\n",
       "      <th>7</th>\n",
       "      <td>17586</td>\n",
       "      <td>2025-05-18</td>\n",
       "      <td>BRK 1</td>\n",
       "      <td>Microsoft</td>\n",
       "      <td>299</td>\n",
       "      <td>96</td>\n",
       "      <td>28704</td>\n",
       "      <td>BUY</td>\n",
       "      <td>Venue 3</td>\n",
       "      <td>0.302660</td>\n",
       "      <td>Bucket 2</td>\n",
       "      <td>5</td>\n",
       "      <td>2025-05-01</td>\n",
       "    </tr>\n",
       "    <tr>\n",
       "      <th>12</th>\n",
       "      <td>12047</td>\n",
       "      <td>2025-07-17</td>\n",
       "      <td>BRK 4</td>\n",
       "      <td>Microsoft</td>\n",
       "      <td>1849</td>\n",
       "      <td>100</td>\n",
       "      <td>184900</td>\n",
       "      <td>SELL</td>\n",
       "      <td>Venue 2</td>\n",
       "      <td>0.416648</td>\n",
       "      <td>Bucket 5</td>\n",
       "      <td>7</td>\n",
       "      <td>2025-07-01</td>\n",
       "    </tr>\n",
       "    <tr>\n",
       "      <th>17</th>\n",
       "      <td>10169</td>\n",
       "      <td>2025-07-03</td>\n",
       "      <td>BRK 2</td>\n",
       "      <td>Microsoft</td>\n",
       "      <td>1799</td>\n",
       "      <td>101</td>\n",
       "      <td>181699</td>\n",
       "      <td>BUY</td>\n",
       "      <td>Venue 1</td>\n",
       "      <td>0.286633</td>\n",
       "      <td>Bucket 5</td>\n",
       "      <td>7</td>\n",
       "      <td>2025-07-01</td>\n",
       "    </tr>\n",
       "    <tr>\n",
       "      <th>22</th>\n",
       "      <td>19789</td>\n",
       "      <td>2025-02-08</td>\n",
       "      <td>BRK 4</td>\n",
       "      <td>Microsoft</td>\n",
       "      <td>837</td>\n",
       "      <td>100</td>\n",
       "      <td>83700</td>\n",
       "      <td>BUY</td>\n",
       "      <td>Venue 3</td>\n",
       "      <td>0.490115</td>\n",
       "      <td>Bucket 3</td>\n",
       "      <td>2</td>\n",
       "      <td>2025-02-01</td>\n",
       "    </tr>\n",
       "  </tbody>\n",
       "</table>\n",
       "</div>"
      ],
      "text/plain": [
       "    TradeId  TradeDate Counterparty Instrument  NotionalAmount  Price  \\\n",
       "2     18878 2025-01-15        BRK 3  Microsoft            1429     98   \n",
       "7     17586 2025-05-18        BRK 1  Microsoft             299     96   \n",
       "12    12047 2025-07-17        BRK 4  Microsoft            1849    100   \n",
       "17    10169 2025-07-03        BRK 2  Microsoft            1799    101   \n",
       "22    19789 2025-02-08        BRK 4  Microsoft             837    100   \n",
       "\n",
       "    SettlementAmount TradeDirection ExecutionVenue  TransactionCost%ofPrice  \\\n",
       "2             140042           SELL        Venue 2                 0.436245   \n",
       "7              28704            BUY        Venue 3                 0.302660   \n",
       "12            184900           SELL        Venue 2                 0.416648   \n",
       "17            181699            BUY        Venue 1                 0.286633   \n",
       "22             83700            BUY        Venue 3                 0.490115   \n",
       "\n",
       "   SettlementBucket  MonthlyTrade      Month  \n",
       "2          Bucket 4             1 2025-01-01  \n",
       "7          Bucket 2             5 2025-05-01  \n",
       "12         Bucket 5             7 2025-07-01  \n",
       "17         Bucket 5             7 2025-07-01  \n",
       "22         Bucket 3             2 2025-02-01  "
      ]
     },
     "execution_count": 193,
     "metadata": {},
     "output_type": "execute_result"
    }
   ],
   "source": [
    "#df_most_freq['Month'] = pd.to_datetime(df_most_freq['TradeDate']).dt.month\n",
    "df_most_freq.head()"
   ]
  },
  {
   "cell_type": "code",
   "execution_count": 195,
   "id": "911d8427-7e62-4063-86d2-5f87aabbec20",
   "metadata": {},
   "outputs": [],
   "source": [
    "monthly_volume = df_most_freq.groupby('Month')['NotionalAmount'].sum().reset_index()"
   ]
  },
  {
   "cell_type": "code",
   "execution_count": 196,
   "id": "b7312007-b7fd-4b11-afa6-601db47a0de6",
   "metadata": {},
   "outputs": [
    {
     "data": {
      "text/html": [
       "<div>\n",
       "<style scoped>\n",
       "    .dataframe tbody tr th:only-of-type {\n",
       "        vertical-align: middle;\n",
       "    }\n",
       "\n",
       "    .dataframe tbody tr th {\n",
       "        vertical-align: top;\n",
       "    }\n",
       "\n",
       "    .dataframe thead th {\n",
       "        text-align: right;\n",
       "    }\n",
       "</style>\n",
       "<table border=\"1\" class=\"dataframe\">\n",
       "  <thead>\n",
       "    <tr style=\"text-align: right;\">\n",
       "      <th></th>\n",
       "      <th>Month</th>\n",
       "      <th>NotionalAmount</th>\n",
       "    </tr>\n",
       "  </thead>\n",
       "  <tbody>\n",
       "    <tr>\n",
       "      <th>0</th>\n",
       "      <td>2025-01-01</td>\n",
       "      <td>3803</td>\n",
       "    </tr>\n",
       "    <tr>\n",
       "      <th>1</th>\n",
       "      <td>2025-02-01</td>\n",
       "      <td>3800</td>\n",
       "    </tr>\n",
       "    <tr>\n",
       "      <th>2</th>\n",
       "      <td>2025-03-01</td>\n",
       "      <td>7556</td>\n",
       "    </tr>\n",
       "    <tr>\n",
       "      <th>3</th>\n",
       "      <td>2025-04-01</td>\n",
       "      <td>8170</td>\n",
       "    </tr>\n",
       "    <tr>\n",
       "      <th>4</th>\n",
       "      <td>2025-05-01</td>\n",
       "      <td>1942</td>\n",
       "    </tr>\n",
       "    <tr>\n",
       "      <th>5</th>\n",
       "      <td>2025-06-01</td>\n",
       "      <td>3066</td>\n",
       "    </tr>\n",
       "    <tr>\n",
       "      <th>6</th>\n",
       "      <td>2025-07-01</td>\n",
       "      <td>7871</td>\n",
       "    </tr>\n",
       "    <tr>\n",
       "      <th>7</th>\n",
       "      <td>2025-08-01</td>\n",
       "      <td>6664</td>\n",
       "    </tr>\n",
       "    <tr>\n",
       "      <th>8</th>\n",
       "      <td>2025-09-01</td>\n",
       "      <td>5992</td>\n",
       "    </tr>\n",
       "  </tbody>\n",
       "</table>\n",
       "</div>"
      ],
      "text/plain": [
       "       Month  NotionalAmount\n",
       "0 2025-01-01            3803\n",
       "1 2025-02-01            3800\n",
       "2 2025-03-01            7556\n",
       "3 2025-04-01            8170\n",
       "4 2025-05-01            1942\n",
       "5 2025-06-01            3066\n",
       "6 2025-07-01            7871\n",
       "7 2025-08-01            6664\n",
       "8 2025-09-01            5992"
      ]
     },
     "execution_count": 196,
     "metadata": {},
     "output_type": "execute_result"
    }
   ],
   "source": [
    "monthly_volume"
   ]
  },
  {
   "cell_type": "code",
   "execution_count": 197,
   "id": "b56d45fe-1a4b-4bb3-9557-1862dfa8e568",
   "metadata": {},
   "outputs": [
    {
     "data": {
      "text/plain": [
       "48864"
      ]
     },
     "execution_count": 197,
     "metadata": {},
     "output_type": "execute_result"
    }
   ],
   "source": [
    "monthly_volume['NotionalAmount'].sum()"
   ]
  },
  {
   "cell_type": "code",
   "execution_count": 199,
   "id": "9f831b14-42a9-4a44-9bea-98b7ebc64a48",
   "metadata": {},
   "outputs": [
    {
     "data": {
      "image/png": "[encoded data removed]",
      "text/plain": [
       "<Figure size 800x500 with 1 Axes>"
      ]
     },
     "metadata": {},
     "output_type": "display_data"
    }
   ],
   "source": [
    "plt.figure(figsize=(8,5))\n",
    "plt.plot(monthly_volume['Month'], monthly_volume['NotionalAmount'], marker='o', linewidth=2)\n",
    "plt.title(f\"Trading Volume (Notional Amount) Over Time — {most_freq_Instrument}\")\n",
    "plt.xlabel(\"Month\")\n",
    "plt.ylabel(\"Total Notional Amount\")\n",
    "plt.grid(True)\n",
    "plt.tight_layout()\n",
    "plt.show()"
   ]
  },
  {
   "cell_type": "code",
   "execution_count": 381,
   "id": "8ec49efc-ea58-4a3d-b5ed-5169c2125467",
   "metadata": {},
   "outputs": [
    {
     "data": {
      "text/html": [
       "<div>\n",
       "<style scoped>\n",
       "    .dataframe tbody tr th:only-of-type {\n",
       "        vertical-align: middle;\n",
       "    }\n",
       "\n",
       "    .dataframe tbody tr th {\n",
       "        vertical-align: top;\n",
       "    }\n",
       "\n",
       "    .dataframe thead th {\n",
       "        text-align: right;\n",
       "    }\n",
       "</style>\n",
       "<table border=\"1\" class=\"dataframe\">\n",
       "  <thead>\n",
       "    <tr style=\"text-align: right;\">\n",
       "      <th></th>\n",
       "      <th>TradeId</th>\n",
       "      <th>TradeDate</th>\n",
       "      <th>Counterparty</th>\n",
       "      <th>Instrument</th>\n",
       "      <th>NominalAmount</th>\n",
       "      <th>Price</th>\n",
       "      <th>SettlementAmount</th>\n",
       "      <th>TradeDirection</th>\n",
       "      <th>ExecutionVenue</th>\n",
       "      <th>TransactionCost%ofPrice</th>\n",
       "      <th>SettlementBucket</th>\n",
       "      <th>MonthlyTrade</th>\n",
       "    </tr>\n",
       "  </thead>\n",
       "  <tbody>\n",
       "    <tr>\n",
       "      <th>0</th>\n",
       "      <td>17011</td>\n",
       "      <td>2025-05-07</td>\n",
       "      <td>BRK 4</td>\n",
       "      <td>Google</td>\n",
       "      <td>1095</td>\n",
       "      <td>101</td>\n",
       "      <td>110595</td>\n",
       "      <td>BUY</td>\n",
       "      <td>Venue 1</td>\n",
       "      <td>0.333497</td>\n",
       "      <td>Bucket 4</td>\n",
       "      <td>5</td>\n",
       "    </tr>\n",
       "    <tr>\n",
       "      <th>1</th>\n",
       "      <td>11356</td>\n",
       "      <td>2025-08-31</td>\n",
       "      <td>BRK 3</td>\n",
       "      <td>Apple</td>\n",
       "      <td>581</td>\n",
       "      <td>99</td>\n",
       "      <td>57519</td>\n",
       "      <td>SELL</td>\n",
       "      <td>Venue 3</td>\n",
       "      <td>0.462467</td>\n",
       "      <td>Bucket 2</td>\n",
       "      <td>8</td>\n",
       "    </tr>\n",
       "    <tr>\n",
       "      <th>2</th>\n",
       "      <td>18878</td>\n",
       "      <td>2025-01-15</td>\n",
       "      <td>BRK 3</td>\n",
       "      <td>Microsoft</td>\n",
       "      <td>1429</td>\n",
       "      <td>98</td>\n",
       "      <td>140042</td>\n",
       "      <td>SELL</td>\n",
       "      <td>Venue 2</td>\n",
       "      <td>0.436245</td>\n",
       "      <td>Bucket 4</td>\n",
       "      <td>1</td>\n",
       "    </tr>\n",
       "    <tr>\n",
       "      <th>3</th>\n",
       "      <td>11939</td>\n",
       "      <td>2025-05-27</td>\n",
       "      <td>BRK 5</td>\n",
       "      <td>Tesla</td>\n",
       "      <td>991</td>\n",
       "      <td>96</td>\n",
       "      <td>95136</td>\n",
       "      <td>SELL</td>\n",
       "      <td>Venue 3</td>\n",
       "      <td>0.373437</td>\n",
       "      <td>Bucket 3</td>\n",
       "      <td>5</td>\n",
       "    </tr>\n",
       "    <tr>\n",
       "      <th>4</th>\n",
       "      <td>13886</td>\n",
       "      <td>2025-02-06</td>\n",
       "      <td>BRK 4</td>\n",
       "      <td>Nvidia</td>\n",
       "      <td>1215</td>\n",
       "      <td>99</td>\n",
       "      <td>120285</td>\n",
       "      <td>SELL</td>\n",
       "      <td>Venue 2</td>\n",
       "      <td>0.466305</td>\n",
       "      <td>Bucket 4</td>\n",
       "      <td>2</td>\n",
       "    </tr>\n",
       "    <tr>\n",
       "      <th>...</th>\n",
       "      <td>...</td>\n",
       "      <td>...</td>\n",
       "      <td>...</td>\n",
       "      <td>...</td>\n",
       "      <td>...</td>\n",
       "      <td>...</td>\n",
       "      <td>...</td>\n",
       "      <td>...</td>\n",
       "      <td>...</td>\n",
       "      <td>...</td>\n",
       "      <td>...</td>\n",
       "      <td>...</td>\n",
       "    </tr>\n",
       "    <tr>\n",
       "      <th>197</th>\n",
       "      <td>18404</td>\n",
       "      <td>2025-04-08</td>\n",
       "      <td>BRK 1</td>\n",
       "      <td>Google</td>\n",
       "      <td>686</td>\n",
       "      <td>96</td>\n",
       "      <td>65856</td>\n",
       "      <td>BUY</td>\n",
       "      <td>Venue 2</td>\n",
       "      <td>0.301569</td>\n",
       "      <td>Bucket 2</td>\n",
       "      <td>4</td>\n",
       "    </tr>\n",
       "    <tr>\n",
       "      <th>198</th>\n",
       "      <td>17555</td>\n",
       "      <td>2025-07-29</td>\n",
       "      <td>BRK 5</td>\n",
       "      <td>Google</td>\n",
       "      <td>1910</td>\n",
       "      <td>98</td>\n",
       "      <td>187180</td>\n",
       "      <td>BUY</td>\n",
       "      <td>Venue 3</td>\n",
       "      <td>0.284344</td>\n",
       "      <td>Bucket 5</td>\n",
       "      <td>7</td>\n",
       "    </tr>\n",
       "    <tr>\n",
       "      <th>199</th>\n",
       "      <td>12646</td>\n",
       "      <td>2025-05-21</td>\n",
       "      <td>BRK 4</td>\n",
       "      <td>Google</td>\n",
       "      <td>497</td>\n",
       "      <td>96</td>\n",
       "      <td>47712</td>\n",
       "      <td>BUY</td>\n",
       "      <td>Venue 2</td>\n",
       "      <td>0.471615</td>\n",
       "      <td>Bucket 2</td>\n",
       "      <td>5</td>\n",
       "    </tr>\n",
       "    <tr>\n",
       "      <th>200</th>\n",
       "      <td>19611</td>\n",
       "      <td>2025-05-02</td>\n",
       "      <td>BRK 4</td>\n",
       "      <td>Google</td>\n",
       "      <td>855</td>\n",
       "      <td>97</td>\n",
       "      <td>82935</td>\n",
       "      <td>BUY</td>\n",
       "      <td>Venue 1</td>\n",
       "      <td>0.348248</td>\n",
       "      <td>Bucket 3</td>\n",
       "      <td>5</td>\n",
       "    </tr>\n",
       "    <tr>\n",
       "      <th>201</th>\n",
       "      <td>12982</td>\n",
       "      <td>2025-03-13</td>\n",
       "      <td>BRK 5</td>\n",
       "      <td>Google</td>\n",
       "      <td>289</td>\n",
       "      <td>98</td>\n",
       "      <td>28322</td>\n",
       "      <td>BUY</td>\n",
       "      <td>Venue 1</td>\n",
       "      <td>0.464609</td>\n",
       "      <td>Bucket 2</td>\n",
       "      <td>3</td>\n",
       "    </tr>\n",
       "  </tbody>\n",
       "</table>\n",
       "<p>202 rows × 12 columns</p>\n",
       "</div>"
      ],
      "text/plain": [
       "     TradeId  TradeDate Counterparty Instrument  NominalAmount  Price  \\\n",
       "0      17011 2025-05-07        BRK 4     Google           1095    101   \n",
       "1      11356 2025-08-31        BRK 3      Apple            581     99   \n",
       "2      18878 2025-01-15        BRK 3  Microsoft           1429     98   \n",
       "3      11939 2025-05-27        BRK 5      Tesla            991     96   \n",
       "4      13886 2025-02-06        BRK 4     Nvidia           1215     99   \n",
       "..       ...        ...          ...        ...            ...    ...   \n",
       "197    18404 2025-04-08        BRK 1     Google            686     96   \n",
       "198    17555 2025-07-29        BRK 5     Google           1910     98   \n",
       "199    12646 2025-05-21        BRK 4     Google            497     96   \n",
       "200    19611 2025-05-02        BRK 4     Google            855     97   \n",
       "201    12982 2025-03-13        BRK 5     Google            289     98   \n",
       "\n",
       "     SettlementAmount TradeDirection ExecutionVenue  TransactionCost%ofPrice  \\\n",
       "0              110595            BUY        Venue 1                 0.333497   \n",
       "1               57519           SELL        Venue 3                 0.462467   \n",
       "2              140042           SELL        Venue 2                 0.436245   \n",
       "3               95136           SELL        Venue 3                 0.373437   \n",
       "4              120285           SELL        Venue 2                 0.466305   \n",
       "..                ...            ...            ...                      ...   \n",
       "197             65856            BUY        Venue 2                 0.301569   \n",
       "198            187180            BUY        Venue 3                 0.284344   \n",
       "199             47712            BUY        Venue 2                 0.471615   \n",
       "200             82935            BUY        Venue 1                 0.348248   \n",
       "201             28322            BUY        Venue 1                 0.464609   \n",
       "\n",
       "    SettlementBucket  MonthlyTrade  \n",
       "0           Bucket 4             5  \n",
       "1           Bucket 2             8  \n",
       "2           Bucket 4             1  \n",
       "3           Bucket 3             5  \n",
       "4           Bucket 4             2  \n",
       "..               ...           ...  \n",
       "197         Bucket 2             4  \n",
       "198         Bucket 5             7  \n",
       "199         Bucket 2             5  \n",
       "200         Bucket 3             5  \n",
       "201         Bucket 2             3  \n",
       "\n",
       "[202 rows x 12 columns]"
      ]
     },
     "execution_count": 381,
     "metadata": {},
     "output_type": "execute_result"
    }
   ],
   "source": [
    "df"
   ]
  },
  {
   "cell_type": "code",
   "execution_count": 200,
   "id": "f4022243-5f42-4ab6-bfca-711dce087084",
   "metadata": {},
   "outputs": [],
   "source": [
    "total_Notional = df['NotionalAmount'].sum()"
   ]
  },
  {
   "cell_type": "code",
   "execution_count": 201,
   "id": "a038ceb5-9cef-4ddb-a88f-3ca4861f8901",
   "metadata": {},
   "outputs": [
    {
     "data": {
      "text/plain": [
       "225870"
      ]
     },
     "execution_count": 201,
     "metadata": {},
     "output_type": "execute_result"
    }
   ],
   "source": [
    "total_Notional"
   ]
  },
  {
   "cell_type": "code",
   "execution_count": 202,
   "id": "f3f0ba4f-b2a3-4e4c-bc05-70860dc4201e",
   "metadata": {},
   "outputs": [],
   "source": [
    "df['Month'] = df['TradeDate'].dt.to_period('M').dt.to_timestamp()"
   ]
  },
  {
   "cell_type": "code",
   "execution_count": 203,
   "id": "d8e392a4-4ce6-4d61-be97-64cf4e858d2d",
   "metadata": {},
   "outputs": [
    {
     "data": {
      "text/html": [
       "<div>\n",
       "<style scoped>\n",
       "    .dataframe tbody tr th:only-of-type {\n",
       "        vertical-align: middle;\n",
       "    }\n",
       "\n",
       "    .dataframe tbody tr th {\n",
       "        vertical-align: top;\n",
       "    }\n",
       "\n",
       "    .dataframe thead th {\n",
       "        text-align: right;\n",
       "    }\n",
       "</style>\n",
       "<table border=\"1\" class=\"dataframe\">\n",
       "  <thead>\n",
       "    <tr style=\"text-align: right;\">\n",
       "      <th></th>\n",
       "      <th>TradeId</th>\n",
       "      <th>TradeDate</th>\n",
       "      <th>Counterparty</th>\n",
       "      <th>Instrument</th>\n",
       "      <th>NotionalAmount</th>\n",
       "      <th>Price</th>\n",
       "      <th>SettlementAmount</th>\n",
       "      <th>TradeDirection</th>\n",
       "      <th>ExecutionVenue</th>\n",
       "      <th>TransactionCost%ofPrice</th>\n",
       "      <th>SettlementBucket</th>\n",
       "      <th>MonthlyTrade</th>\n",
       "      <th>Month</th>\n",
       "    </tr>\n",
       "  </thead>\n",
       "  <tbody>\n",
       "    <tr>\n",
       "      <th>0</th>\n",
       "      <td>17011</td>\n",
       "      <td>2025-05-07</td>\n",
       "      <td>BRK 4</td>\n",
       "      <td>Google</td>\n",
       "      <td>1095</td>\n",
       "      <td>101</td>\n",
       "      <td>110595</td>\n",
       "      <td>BUY</td>\n",
       "      <td>Venue 1</td>\n",
       "      <td>0.333497</td>\n",
       "      <td>Bucket 4</td>\n",
       "      <td>5</td>\n",
       "      <td>2025-05-01</td>\n",
       "    </tr>\n",
       "    <tr>\n",
       "      <th>1</th>\n",
       "      <td>11356</td>\n",
       "      <td>2025-08-31</td>\n",
       "      <td>BRK 3</td>\n",
       "      <td>Apple</td>\n",
       "      <td>581</td>\n",
       "      <td>99</td>\n",
       "      <td>57519</td>\n",
       "      <td>SELL</td>\n",
       "      <td>Venue 3</td>\n",
       "      <td>0.462467</td>\n",
       "      <td>Bucket 2</td>\n",
       "      <td>8</td>\n",
       "      <td>2025-08-01</td>\n",
       "    </tr>\n",
       "    <tr>\n",
       "      <th>2</th>\n",
       "      <td>18878</td>\n",
       "      <td>2025-01-15</td>\n",
       "      <td>BRK 3</td>\n",
       "      <td>Microsoft</td>\n",
       "      <td>1429</td>\n",
       "      <td>98</td>\n",
       "      <td>140042</td>\n",
       "      <td>SELL</td>\n",
       "      <td>Venue 2</td>\n",
       "      <td>0.436245</td>\n",
       "      <td>Bucket 4</td>\n",
       "      <td>1</td>\n",
       "      <td>2025-01-01</td>\n",
       "    </tr>\n",
       "    <tr>\n",
       "      <th>3</th>\n",
       "      <td>11939</td>\n",
       "      <td>2025-05-27</td>\n",
       "      <td>BRK 5</td>\n",
       "      <td>Tesla</td>\n",
       "      <td>991</td>\n",
       "      <td>96</td>\n",
       "      <td>95136</td>\n",
       "      <td>SELL</td>\n",
       "      <td>Venue 3</td>\n",
       "      <td>0.373437</td>\n",
       "      <td>Bucket 3</td>\n",
       "      <td>5</td>\n",
       "      <td>2025-05-01</td>\n",
       "    </tr>\n",
       "    <tr>\n",
       "      <th>4</th>\n",
       "      <td>13886</td>\n",
       "      <td>2025-02-06</td>\n",
       "      <td>BRK 4</td>\n",
       "      <td>Nvidia</td>\n",
       "      <td>1215</td>\n",
       "      <td>99</td>\n",
       "      <td>120285</td>\n",
       "      <td>SELL</td>\n",
       "      <td>Venue 2</td>\n",
       "      <td>0.466305</td>\n",
       "      <td>Bucket 4</td>\n",
       "      <td>2</td>\n",
       "      <td>2025-02-01</td>\n",
       "    </tr>\n",
       "    <tr>\n",
       "      <th>...</th>\n",
       "      <td>...</td>\n",
       "      <td>...</td>\n",
       "      <td>...</td>\n",
       "      <td>...</td>\n",
       "      <td>...</td>\n",
       "      <td>...</td>\n",
       "      <td>...</td>\n",
       "      <td>...</td>\n",
       "      <td>...</td>\n",
       "      <td>...</td>\n",
       "      <td>...</td>\n",
       "      <td>...</td>\n",
       "      <td>...</td>\n",
       "    </tr>\n",
       "    <tr>\n",
       "      <th>197</th>\n",
       "      <td>18404</td>\n",
       "      <td>2025-04-08</td>\n",
       "      <td>BRK 1</td>\n",
       "      <td>Google</td>\n",
       "      <td>686</td>\n",
       "      <td>96</td>\n",
       "      <td>65856</td>\n",
       "      <td>BUY</td>\n",
       "      <td>Venue 2</td>\n",
       "      <td>0.301569</td>\n",
       "      <td>Bucket 2</td>\n",
       "      <td>4</td>\n",
       "      <td>2025-04-01</td>\n",
       "    </tr>\n",
       "    <tr>\n",
       "      <th>198</th>\n",
       "      <td>17555</td>\n",
       "      <td>2025-07-29</td>\n",
       "      <td>BRK 5</td>\n",
       "      <td>Google</td>\n",
       "      <td>1910</td>\n",
       "      <td>98</td>\n",
       "      <td>187180</td>\n",
       "      <td>BUY</td>\n",
       "      <td>Venue 3</td>\n",
       "      <td>0.284344</td>\n",
       "      <td>Bucket 5</td>\n",
       "      <td>7</td>\n",
       "      <td>2025-07-01</td>\n",
       "    </tr>\n",
       "    <tr>\n",
       "      <th>199</th>\n",
       "      <td>12646</td>\n",
       "      <td>2025-05-21</td>\n",
       "      <td>BRK 4</td>\n",
       "      <td>Google</td>\n",
       "      <td>497</td>\n",
       "      <td>96</td>\n",
       "      <td>47712</td>\n",
       "      <td>BUY</td>\n",
       "      <td>Venue 2</td>\n",
       "      <td>0.471615</td>\n",
       "      <td>Bucket 2</td>\n",
       "      <td>5</td>\n",
       "      <td>2025-05-01</td>\n",
       "    </tr>\n",
       "    <tr>\n",
       "      <th>200</th>\n",
       "      <td>19611</td>\n",
       "      <td>2025-05-02</td>\n",
       "      <td>BRK 4</td>\n",
       "      <td>Google</td>\n",
       "      <td>855</td>\n",
       "      <td>97</td>\n",
       "      <td>82935</td>\n",
       "      <td>BUY</td>\n",
       "      <td>Venue 1</td>\n",
       "      <td>0.348248</td>\n",
       "      <td>Bucket 3</td>\n",
       "      <td>5</td>\n",
       "      <td>2025-05-01</td>\n",
       "    </tr>\n",
       "    <tr>\n",
       "      <th>201</th>\n",
       "      <td>12982</td>\n",
       "      <td>2025-03-13</td>\n",
       "      <td>BRK 5</td>\n",
       "      <td>Google</td>\n",
       "      <td>289</td>\n",
       "      <td>98</td>\n",
       "      <td>28322</td>\n",
       "      <td>BUY</td>\n",
       "      <td>Venue 1</td>\n",
       "      <td>0.464609</td>\n",
       "      <td>Bucket 2</td>\n",
       "      <td>3</td>\n",
       "      <td>2025-03-01</td>\n",
       "    </tr>\n",
       "  </tbody>\n",
       "</table>\n",
       "<p>202 rows × 13 columns</p>\n",
       "</div>"
      ],
      "text/plain": [
       "     TradeId  TradeDate Counterparty Instrument  NotionalAmount  Price  \\\n",
       "0      17011 2025-05-07        BRK 4     Google            1095    101   \n",
       "1      11356 2025-08-31        BRK 3      Apple             581     99   \n",
       "2      18878 2025-01-15        BRK 3  Microsoft            1429     98   \n",
       "3      11939 2025-05-27        BRK 5      Tesla             991     96   \n",
       "4      13886 2025-02-06        BRK 4     Nvidia            1215     99   \n",
       "..       ...        ...          ...        ...             ...    ...   \n",
       "197    18404 2025-04-08        BRK 1     Google             686     96   \n",
       "198    17555 2025-07-29        BRK 5     Google            1910     98   \n",
       "199    12646 2025-05-21        BRK 4     Google             497     96   \n",
       "200    19611 2025-05-02        BRK 4     Google             855     97   \n",
       "201    12982 2025-03-13        BRK 5     Google             289     98   \n",
       "\n",
       "     SettlementAmount TradeDirection ExecutionVenue  TransactionCost%ofPrice  \\\n",
       "0              110595            BUY        Venue 1                 0.333497   \n",
       "1               57519           SELL        Venue 3                 0.462467   \n",
       "2              140042           SELL        Venue 2                 0.436245   \n",
       "3               95136           SELL        Venue 3                 0.373437   \n",
       "4              120285           SELL        Venue 2                 0.466305   \n",
       "..                ...            ...            ...                      ...   \n",
       "197             65856            BUY        Venue 2                 0.301569   \n",
       "198            187180            BUY        Venue 3                 0.284344   \n",
       "199             47712            BUY        Venue 2                 0.471615   \n",
       "200             82935            BUY        Venue 1                 0.348248   \n",
       "201             28322            BUY        Venue 1                 0.464609   \n",
       "\n",
       "    SettlementBucket  MonthlyTrade      Month  \n",
       "0           Bucket 4             5 2025-05-01  \n",
       "1           Bucket 2             8 2025-08-01  \n",
       "2           Bucket 4             1 2025-01-01  \n",
       "3           Bucket 3             5 2025-05-01  \n",
       "4           Bucket 4             2 2025-02-01  \n",
       "..               ...           ...        ...  \n",
       "197         Bucket 2             4 2025-04-01  \n",
       "198         Bucket 5             7 2025-07-01  \n",
       "199         Bucket 2             5 2025-05-01  \n",
       "200         Bucket 3             5 2025-05-01  \n",
       "201         Bucket 2             3 2025-03-01  \n",
       "\n",
       "[202 rows x 13 columns]"
      ]
     },
     "execution_count": 203,
     "metadata": {},
     "output_type": "execute_result"
    }
   ],
   "source": [
    "df"
   ]
  },
  {
   "cell_type": "code",
   "execution_count": 204,
   "id": "e0ba783d-9e9f-4e7b-80c0-80b82f00dc11",
   "metadata": {},
   "outputs": [],
   "source": [
    "monthly_avg_value = df.groupby('Month')['SettlementAmount'].mean()"
   ]
  },
  {
   "cell_type": "code",
   "execution_count": 205,
   "id": "419a99d3-bae4-48eb-b50b-b418acd8a6af",
   "metadata": {},
   "outputs": [
    {
     "data": {
      "text/plain": [
       "Month\n",
       "2025-01-01     93458.866667\n",
       "2025-02-01    106323.555556\n",
       "2025-03-01    120675.958333\n",
       "2025-04-01    119082.869565\n",
       "2025-05-01    104100.966667\n",
       "2025-06-01     87626.666667\n",
       "2025-07-01    117015.700000\n",
       "2025-08-01    105744.875000\n",
       "2025-09-01    122846.782609\n",
       "Name: SettlementAmount, dtype: float64"
      ]
     },
     "execution_count": 205,
     "metadata": {},
     "output_type": "execute_result"
    }
   ],
   "source": [
    "monthly_avg_value"
   ]
  },
  {
   "cell_type": "code",
   "execution_count": 216,
   "id": "aee94886-ae7c-45de-b45c-0a18fbc40a9a",
   "metadata": {},
   "outputs": [],
   "source": [
    "avg_portfolio_value = monthly_avg_value.mean()"
   ]
  },
  {
   "cell_type": "code",
   "execution_count": 217,
   "id": "f85ef471-570d-4615-8715-8fff89b90c63",
   "metadata": {},
   "outputs": [
    {
     "data": {
      "text/plain": [
       "108541.80456253357"
      ]
     },
     "execution_count": 217,
     "metadata": {},
     "output_type": "execute_result"
    }
   ],
   "source": [
    "avg_portfolio_value"
   ]
  },
  {
   "cell_type": "code",
   "execution_count": 218,
   "id": "6d4edcac-5c81-44ba-9a41-a44b8df14c91",
   "metadata": {},
   "outputs": [],
   "source": [
    "cumulative_turnover = total_Notional / avg_portfolio_value"
   ]
  },
  {
   "cell_type": "code",
   "execution_count": 219,
   "id": "b7c97e14-e410-447a-baa5-f1ce94075800",
   "metadata": {},
   "outputs": [
    {
     "data": {
      "text/plain": [
       "2.0809493716300875"
      ]
     },
     "execution_count": 219,
     "metadata": {},
     "output_type": "execute_result"
    }
   ],
   "source": [
    "cumulative_turnover"
   ]
  },
  {
   "cell_type": "code",
   "execution_count": 228,
   "id": "e6347cea-040a-4709-b43a-e021f1e4e805",
   "metadata": {},
   "outputs": [],
   "source": [
    "Num_Months = df['Month'].nunique()"
   ]
  },
  {
   "cell_type": "code",
   "execution_count": 229,
   "id": "d5ad8cbd-3b17-4734-ae1d-b7147a803dd0",
   "metadata": {},
   "outputs": [],
   "source": [
    "annualized_turnover = cumulative_turnover * (12 / Num_Months) if Num_Months > 0 else None"
   ]
  },
  {
   "cell_type": "code",
   "execution_count": 230,
   "id": "34a74ab3-fd67-4972-a9e0-c4f4f1337eb8",
   "metadata": {},
   "outputs": [
    {
     "data": {
      "text/plain": [
       "2.77459916217345"
      ]
     },
     "execution_count": 230,
     "metadata": {},
     "output_type": "execute_result"
    }
   ],
   "source": [
    "annualized_turnover"
   ]
  },
  {
   "cell_type": "code",
   "execution_count": null,
   "id": "6e3b62ea-a544-4c2d-becd-59044e8b2890",
   "metadata": {},
   "outputs": [],
   "source": []
  }
 ],
 "metadata": {
  "kernelspec": {
   "display_name": "Python 3 (ipykernel)",
   "language": "python",
   "name": "python3"
  },
  "language_info": {
   "codemirror_mode": {
    "name": "ipython",
    "version": 3
   },
   "file_extension": ".py",
   "mimetype": "text/x-python",
   "name": "python",
   "nbconvert_exporter": "python",
   "pygments_lexer": "ipython3",
   "version": "3.11.7"
  }
 },
 "nbformat": 4,
 "nbformat_minor": 5
}
